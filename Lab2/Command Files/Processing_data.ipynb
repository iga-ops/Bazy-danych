{
  "nbformat": 4,
  "nbformat_minor": 0,
  "metadata": {
    "kernelspec": {
      "display_name": "Python 3",
      "language": "python",
      "name": "python3"
    },
    "language_info": {
      "codemirror_mode": {
        "name": "ipython",
        "version": 3
      },
      "file_extension": ".py",
      "mimetype": "text/x-python",
      "name": "python",
      "nbconvert_exporter": "python",
      "pygments_lexer": "ipython3",
      "version": "3.7.4"
    },
    "colab": {
      "name": "Processing-data.ipynb",
      "provenance": []
    }
  },
  "cells": [
    {
      "cell_type": "markdown",
      "metadata": {
        "id": "iDM7c1w2hqMd"
      },
      "source": [
        "# Ćwiczenie 1 - TIER protocol i tidy data"
      ]
    },
    {
      "cell_type": "markdown",
      "metadata": {
        "id": "bzEvap6PhqMj"
      },
      "source": [
        "Celem ćwiczenia jest pobranie i uporządkowanie przydzielonego zbioru danych zgodnie z protokołem TIER i zasadami \"tidy data\".\n",
        "\n",
        "W uporządkowanych danych:\n",
        "\n",
        "Każda zmienna tworzy kolumnę.\n",
        "\n",
        "Każda obserwacja tworzy rząd.\n",
        "\n",
        "Każdy typ jednostki obserwacyjnej tworzy tabelę."
      ]
    },
    {
      "cell_type": "markdown",
      "metadata": {
        "id": "Hn9WJfXhhqMk"
      },
      "source": [
        "Użyj Pandas."
      ]
    },
    {
      "cell_type": "markdown",
      "metadata": {
        "id": "rP_eGBTvhqMk"
      },
      "source": [
        "#### Numer swojego datasetu uzyskujemy ze wzoru (N mod 5) + 1, gdzie N to liczba liter w nazwisku -> u mnie jest to nr 4."
      ]
    },
    {
      "cell_type": "code",
      "metadata": {
        "id": "auimC4tMhqMl"
      },
      "source": [
        "import numpy as np\n",
        "import pandas as pd\n",
        "import matplotlib.pyplot as plt"
      ],
      "execution_count": null,
      "outputs": []
    },
    {
      "cell_type": "code",
      "metadata": {
        "id": "m464YVDshqMn"
      },
      "source": [
        "data_import = \"C:/Users/igach/Desktop/Studia 7 semestr/7 semestr/Bazy-danych/Lab2/Original Data/drinks.csv\"\n",
        "\n",
        "data = pd.read_csv(data_import)"
      ],
      "execution_count": null,
      "outputs": []
    },
    {
      "cell_type": "markdown",
      "metadata": {
        "id": "nkjtSSjLhqMn"
      },
      "source": [
        "### Sprawdzam poprawność zaimportowanego pliku:"
      ]
    },
    {
      "cell_type": "code",
      "metadata": {
        "id": "r4SeDL5xhqMp",
        "outputId": "65cbd022-b383-4a51-b151-6aa53b78e6b7"
      },
      "source": [
        "data"
      ],
      "execution_count": null,
      "outputs": [
        {
          "data": {
            "text/html": [
              "<div>\n",
              "<style scoped>\n",
              "    .dataframe tbody tr th:only-of-type {\n",
              "        vertical-align: middle;\n",
              "    }\n",
              "\n",
              "    .dataframe tbody tr th {\n",
              "        vertical-align: top;\n",
              "    }\n",
              "\n",
              "    .dataframe thead th {\n",
              "        text-align: right;\n",
              "    }\n",
              "</style>\n",
              "<table border=\"1\" class=\"dataframe\">\n",
              "  <thead>\n",
              "    <tr style=\"text-align: right;\">\n",
              "      <th></th>\n",
              "      <th>country</th>\n",
              "      <th>beer_servings</th>\n",
              "      <th>spirit_servings</th>\n",
              "      <th>wine_servings</th>\n",
              "      <th>total_litres_of_pure_alcohol</th>\n",
              "    </tr>\n",
              "  </thead>\n",
              "  <tbody>\n",
              "    <tr>\n",
              "      <td>1</td>\n",
              "      <td>Albania</td>\n",
              "      <td>89</td>\n",
              "      <td>132</td>\n",
              "      <td>54</td>\n",
              "      <td>4.9</td>\n",
              "    </tr>\n",
              "    <tr>\n",
              "      <td>3</td>\n",
              "      <td>Andorra</td>\n",
              "      <td>245</td>\n",
              "      <td>138</td>\n",
              "      <td>312</td>\n",
              "      <td>12.4</td>\n",
              "    </tr>\n",
              "    <tr>\n",
              "      <td>4</td>\n",
              "      <td>Angola</td>\n",
              "      <td>217</td>\n",
              "      <td>57</td>\n",
              "      <td>45</td>\n",
              "      <td>5.9</td>\n",
              "    </tr>\n",
              "    <tr>\n",
              "      <td>5</td>\n",
              "      <td>Antigua &amp; Barbuda</td>\n",
              "      <td>102</td>\n",
              "      <td>128</td>\n",
              "      <td>45</td>\n",
              "      <td>4.9</td>\n",
              "    </tr>\n",
              "    <tr>\n",
              "      <td>6</td>\n",
              "      <td>Argentina</td>\n",
              "      <td>193</td>\n",
              "      <td>25</td>\n",
              "      <td>221</td>\n",
              "      <td>8.3</td>\n",
              "    </tr>\n",
              "    <tr>\n",
              "      <td>...</td>\n",
              "      <td>...</td>\n",
              "      <td>...</td>\n",
              "      <td>...</td>\n",
              "      <td>...</td>\n",
              "      <td>...</td>\n",
              "    </tr>\n",
              "    <tr>\n",
              "      <td>187</td>\n",
              "      <td>Vanuatu</td>\n",
              "      <td>21</td>\n",
              "      <td>18</td>\n",
              "      <td>11</td>\n",
              "      <td>0.9</td>\n",
              "    </tr>\n",
              "    <tr>\n",
              "      <td>188</td>\n",
              "      <td>Venezuela</td>\n",
              "      <td>333</td>\n",
              "      <td>100</td>\n",
              "      <td>3</td>\n",
              "      <td>7.7</td>\n",
              "    </tr>\n",
              "    <tr>\n",
              "      <td>189</td>\n",
              "      <td>Vietnam</td>\n",
              "      <td>111</td>\n",
              "      <td>2</td>\n",
              "      <td>1</td>\n",
              "      <td>2.0</td>\n",
              "    </tr>\n",
              "    <tr>\n",
              "      <td>191</td>\n",
              "      <td>Zambia</td>\n",
              "      <td>32</td>\n",
              "      <td>19</td>\n",
              "      <td>4</td>\n",
              "      <td>2.5</td>\n",
              "    </tr>\n",
              "    <tr>\n",
              "      <td>192</td>\n",
              "      <td>Zimbabwe</td>\n",
              "      <td>64</td>\n",
              "      <td>18</td>\n",
              "      <td>4</td>\n",
              "      <td>4.7</td>\n",
              "    </tr>\n",
              "  </tbody>\n",
              "</table>\n",
              "<p>155 rows × 5 columns</p>\n",
              "</div>"
            ],
            "text/plain": [
              "               country  beer_servings  spirit_servings  wine_servings  \\\n",
              "1              Albania             89              132             54   \n",
              "3              Andorra            245              138            312   \n",
              "4               Angola            217               57             45   \n",
              "5    Antigua & Barbuda            102              128             45   \n",
              "6            Argentina            193               25            221   \n",
              "..                 ...            ...              ...            ...   \n",
              "187            Vanuatu             21               18             11   \n",
              "188          Venezuela            333              100              3   \n",
              "189            Vietnam            111                2              1   \n",
              "191             Zambia             32               19              4   \n",
              "192           Zimbabwe             64               18              4   \n",
              "\n",
              "     total_litres_of_pure_alcohol  \n",
              "1                             4.9  \n",
              "3                            12.4  \n",
              "4                             5.9  \n",
              "5                             4.9  \n",
              "6                             8.3  \n",
              "..                            ...  \n",
              "187                           0.9  \n",
              "188                           7.7  \n",
              "189                           2.0  \n",
              "191                           2.5  \n",
              "192                           4.7  \n",
              "\n",
              "[155 rows x 5 columns]"
            ]
          },
          "execution_count": 58,
          "metadata": {},
          "output_type": "execute_result"
        }
      ]
    },
    {
      "cell_type": "code",
      "metadata": {
        "id": "DXWJdLQ8hqMr",
        "outputId": "bebebdac-090c-493a-f6bf-83ecc7a53c6e"
      },
      "source": [
        "data.info()"
      ],
      "execution_count": null,
      "outputs": [
        {
          "name": "stdout",
          "output_type": "stream",
          "text": [
            "<class 'pandas.core.frame.DataFrame'>\n",
            "RangeIndex: 193 entries, 0 to 192\n",
            "Data columns (total 5 columns):\n",
            "country                         193 non-null object\n",
            "beer_servings                   193 non-null int64\n",
            "spirit_servings                 193 non-null int64\n",
            "wine_servings                   193 non-null int64\n",
            "total_litres_of_pure_alcohol    193 non-null float64\n",
            "dtypes: float64(1), int64(3), object(1)\n",
            "memory usage: 7.7+ KB\n"
          ]
        }
      ]
    },
    {
      "cell_type": "code",
      "metadata": {
        "id": "dySFqdHahqMt",
        "outputId": "144f7480-602d-431f-e196-fcf4d43e5690"
      },
      "source": [
        "data.isnull().sum()"
      ],
      "execution_count": null,
      "outputs": [
        {
          "data": {
            "text/plain": [
              "country                         0\n",
              "beer_servings                   0\n",
              "spirit_servings                 0\n",
              "wine_servings                   0\n",
              "total_litres_of_pure_alcohol    0\n",
              "dtype: int64"
            ]
          },
          "execution_count": 30,
          "metadata": {},
          "output_type": "execute_result"
        }
      ]
    },
    {
      "cell_type": "markdown",
      "metadata": {
        "id": "E2cFhINXhqMu"
      },
      "source": [
        "## Poprawa danych według TIER Protocol "
      ]
    },
    {
      "cell_type": "markdown",
      "metadata": {
        "id": "_-00rh9HhqMv"
      },
      "source": [
        "### Usuwam kraje, dla których wszystkie wartości wynoszą 0 (równoważność z brakiem danych)"
      ]
    },
    {
      "cell_type": "code",
      "metadata": {
        "id": "NS4D2tfohqMv"
      },
      "source": [
        "#data = data.loc[~(data == 0).all(axis = 1)] usuwa jeśli wszystkie wiersze to 0\n",
        "# df = df[(df[['A','C']] != 0).all(axis=1)] usuwa wiersze, jeśli zarówno w kolumnach \"A\" i \"C\" jest 0.\n",
        "\n",
        "data = data[(data[['beer_servings', 'spirit_servings', 'wine_servings']] != 0).all(axis=1)]"
      ],
      "execution_count": null,
      "outputs": []
    },
    {
      "cell_type": "code",
      "metadata": {
        "id": "6v0sskNxhqMw",
        "outputId": "89d90534-3e5b-4036-9805-c9a75c66bd64"
      },
      "source": [
        "data"
      ],
      "execution_count": null,
      "outputs": [
        {
          "data": {
            "text/html": [
              "<div>\n",
              "<style scoped>\n",
              "    .dataframe tbody tr th:only-of-type {\n",
              "        vertical-align: middle;\n",
              "    }\n",
              "\n",
              "    .dataframe tbody tr th {\n",
              "        vertical-align: top;\n",
              "    }\n",
              "\n",
              "    .dataframe thead th {\n",
              "        text-align: right;\n",
              "    }\n",
              "</style>\n",
              "<table border=\"1\" class=\"dataframe\">\n",
              "  <thead>\n",
              "    <tr style=\"text-align: right;\">\n",
              "      <th></th>\n",
              "      <th>country</th>\n",
              "      <th>beer_servings</th>\n",
              "      <th>spirit_servings</th>\n",
              "      <th>wine_servings</th>\n",
              "      <th>total_litres_of_pure_alcohol</th>\n",
              "    </tr>\n",
              "  </thead>\n",
              "  <tbody>\n",
              "    <tr>\n",
              "      <td>1</td>\n",
              "      <td>Albania</td>\n",
              "      <td>89</td>\n",
              "      <td>132</td>\n",
              "      <td>54</td>\n",
              "      <td>4.9</td>\n",
              "    </tr>\n",
              "    <tr>\n",
              "      <td>3</td>\n",
              "      <td>Andorra</td>\n",
              "      <td>245</td>\n",
              "      <td>138</td>\n",
              "      <td>312</td>\n",
              "      <td>12.4</td>\n",
              "    </tr>\n",
              "    <tr>\n",
              "      <td>4</td>\n",
              "      <td>Angola</td>\n",
              "      <td>217</td>\n",
              "      <td>57</td>\n",
              "      <td>45</td>\n",
              "      <td>5.9</td>\n",
              "    </tr>\n",
              "    <tr>\n",
              "      <td>5</td>\n",
              "      <td>Antigua &amp; Barbuda</td>\n",
              "      <td>102</td>\n",
              "      <td>128</td>\n",
              "      <td>45</td>\n",
              "      <td>4.9</td>\n",
              "    </tr>\n",
              "    <tr>\n",
              "      <td>6</td>\n",
              "      <td>Argentina</td>\n",
              "      <td>193</td>\n",
              "      <td>25</td>\n",
              "      <td>221</td>\n",
              "      <td>8.3</td>\n",
              "    </tr>\n",
              "    <tr>\n",
              "      <td>...</td>\n",
              "      <td>...</td>\n",
              "      <td>...</td>\n",
              "      <td>...</td>\n",
              "      <td>...</td>\n",
              "      <td>...</td>\n",
              "    </tr>\n",
              "    <tr>\n",
              "      <td>187</td>\n",
              "      <td>Vanuatu</td>\n",
              "      <td>21</td>\n",
              "      <td>18</td>\n",
              "      <td>11</td>\n",
              "      <td>0.9</td>\n",
              "    </tr>\n",
              "    <tr>\n",
              "      <td>188</td>\n",
              "      <td>Venezuela</td>\n",
              "      <td>333</td>\n",
              "      <td>100</td>\n",
              "      <td>3</td>\n",
              "      <td>7.7</td>\n",
              "    </tr>\n",
              "    <tr>\n",
              "      <td>189</td>\n",
              "      <td>Vietnam</td>\n",
              "      <td>111</td>\n",
              "      <td>2</td>\n",
              "      <td>1</td>\n",
              "      <td>2.0</td>\n",
              "    </tr>\n",
              "    <tr>\n",
              "      <td>191</td>\n",
              "      <td>Zambia</td>\n",
              "      <td>32</td>\n",
              "      <td>19</td>\n",
              "      <td>4</td>\n",
              "      <td>2.5</td>\n",
              "    </tr>\n",
              "    <tr>\n",
              "      <td>192</td>\n",
              "      <td>Zimbabwe</td>\n",
              "      <td>64</td>\n",
              "      <td>18</td>\n",
              "      <td>4</td>\n",
              "      <td>4.7</td>\n",
              "    </tr>\n",
              "  </tbody>\n",
              "</table>\n",
              "<p>155 rows × 5 columns</p>\n",
              "</div>"
            ],
            "text/plain": [
              "               country  beer_servings  spirit_servings  wine_servings  \\\n",
              "1              Albania             89              132             54   \n",
              "3              Andorra            245              138            312   \n",
              "4               Angola            217               57             45   \n",
              "5    Antigua & Barbuda            102              128             45   \n",
              "6            Argentina            193               25            221   \n",
              "..                 ...            ...              ...            ...   \n",
              "187            Vanuatu             21               18             11   \n",
              "188          Venezuela            333              100              3   \n",
              "189            Vietnam            111                2              1   \n",
              "191             Zambia             32               19              4   \n",
              "192           Zimbabwe             64               18              4   \n",
              "\n",
              "     total_litres_of_pure_alcohol  \n",
              "1                             4.9  \n",
              "3                            12.4  \n",
              "4                             5.9  \n",
              "5                             4.9  \n",
              "6                             8.3  \n",
              "..                            ...  \n",
              "187                           0.9  \n",
              "188                           7.7  \n",
              "189                           2.0  \n",
              "191                           2.5  \n",
              "192                           4.7  \n",
              "\n",
              "[155 rows x 5 columns]"
            ]
          },
          "execution_count": 32,
          "metadata": {},
          "output_type": "execute_result"
        }
      ]
    },
    {
      "cell_type": "code",
      "metadata": {
        "id": "mf5szIrihqMx"
      },
      "source": [
        "path = \"C:/Users/igach/Desktop/Studia 7 semestr/7 semestr/Bazy-danych/Lab2/Analysis Data\" + \"/drinks_reduced_empty_val.csv\"\n",
        "data.to_csv(path)"
      ],
      "execution_count": null,
      "outputs": []
    },
    {
      "cell_type": "markdown",
      "metadata": {
        "id": "0z8-oabrhqMx"
      },
      "source": [
        "#### Było 193 wierszy, teraz jest 155"
      ]
    },
    {
      "cell_type": "markdown",
      "metadata": {
        "id": "ObTFU8tthqMx"
      },
      "source": [
        "### Top 10 krajów, z największą całkowitą konsumpcją alkoholu:"
      ]
    },
    {
      "cell_type": "code",
      "metadata": {
        "id": "r5hfmCmIhqMy",
        "outputId": "11084d1c-89c3-48af-edc5-31a9713d543d"
      },
      "source": [
        "data2 = data.sort_values(by='total_litres_of_pure_alcohol', ascending=False)\n",
        "\n",
        "data2.head(n = 10)"
      ],
      "execution_count": null,
      "outputs": [
        {
          "data": {
            "text/html": [
              "<div>\n",
              "<style scoped>\n",
              "    .dataframe tbody tr th:only-of-type {\n",
              "        vertical-align: middle;\n",
              "    }\n",
              "\n",
              "    .dataframe tbody tr th {\n",
              "        vertical-align: top;\n",
              "    }\n",
              "\n",
              "    .dataframe thead th {\n",
              "        text-align: right;\n",
              "    }\n",
              "</style>\n",
              "<table border=\"1\" class=\"dataframe\">\n",
              "  <thead>\n",
              "    <tr style=\"text-align: right;\">\n",
              "      <th></th>\n",
              "      <th>country</th>\n",
              "      <th>beer_servings</th>\n",
              "      <th>spirit_servings</th>\n",
              "      <th>wine_servings</th>\n",
              "      <th>total_litres_of_pure_alcohol</th>\n",
              "    </tr>\n",
              "  </thead>\n",
              "  <tbody>\n",
              "    <tr>\n",
              "      <td>15</td>\n",
              "      <td>Belarus</td>\n",
              "      <td>142</td>\n",
              "      <td>373</td>\n",
              "      <td>42</td>\n",
              "      <td>14.4</td>\n",
              "    </tr>\n",
              "    <tr>\n",
              "      <td>98</td>\n",
              "      <td>Lithuania</td>\n",
              "      <td>343</td>\n",
              "      <td>244</td>\n",
              "      <td>56</td>\n",
              "      <td>12.9</td>\n",
              "    </tr>\n",
              "    <tr>\n",
              "      <td>3</td>\n",
              "      <td>Andorra</td>\n",
              "      <td>245</td>\n",
              "      <td>138</td>\n",
              "      <td>312</td>\n",
              "      <td>12.4</td>\n",
              "    </tr>\n",
              "    <tr>\n",
              "      <td>68</td>\n",
              "      <td>Grenada</td>\n",
              "      <td>199</td>\n",
              "      <td>438</td>\n",
              "      <td>28</td>\n",
              "      <td>11.9</td>\n",
              "    </tr>\n",
              "    <tr>\n",
              "      <td>45</td>\n",
              "      <td>Czech Republic</td>\n",
              "      <td>361</td>\n",
              "      <td>170</td>\n",
              "      <td>134</td>\n",
              "      <td>11.8</td>\n",
              "    </tr>\n",
              "    <tr>\n",
              "      <td>61</td>\n",
              "      <td>France</td>\n",
              "      <td>127</td>\n",
              "      <td>151</td>\n",
              "      <td>370</td>\n",
              "      <td>11.8</td>\n",
              "    </tr>\n",
              "    <tr>\n",
              "      <td>141</td>\n",
              "      <td>Russian Federation</td>\n",
              "      <td>247</td>\n",
              "      <td>326</td>\n",
              "      <td>73</td>\n",
              "      <td>11.5</td>\n",
              "    </tr>\n",
              "    <tr>\n",
              "      <td>81</td>\n",
              "      <td>Ireland</td>\n",
              "      <td>313</td>\n",
              "      <td>118</td>\n",
              "      <td>165</td>\n",
              "      <td>11.4</td>\n",
              "    </tr>\n",
              "    <tr>\n",
              "      <td>155</td>\n",
              "      <td>Slovakia</td>\n",
              "      <td>196</td>\n",
              "      <td>293</td>\n",
              "      <td>116</td>\n",
              "      <td>11.4</td>\n",
              "    </tr>\n",
              "    <tr>\n",
              "      <td>99</td>\n",
              "      <td>Luxembourg</td>\n",
              "      <td>236</td>\n",
              "      <td>133</td>\n",
              "      <td>271</td>\n",
              "      <td>11.4</td>\n",
              "    </tr>\n",
              "  </tbody>\n",
              "</table>\n",
              "</div>"
            ],
            "text/plain": [
              "                country  beer_servings  spirit_servings  wine_servings  \\\n",
              "15              Belarus            142              373             42   \n",
              "98            Lithuania            343              244             56   \n",
              "3               Andorra            245              138            312   \n",
              "68              Grenada            199              438             28   \n",
              "45       Czech Republic            361              170            134   \n",
              "61               France            127              151            370   \n",
              "141  Russian Federation            247              326             73   \n",
              "81              Ireland            313              118            165   \n",
              "155            Slovakia            196              293            116   \n",
              "99           Luxembourg            236              133            271   \n",
              "\n",
              "     total_litres_of_pure_alcohol  \n",
              "15                           14.4  \n",
              "98                           12.9  \n",
              "3                            12.4  \n",
              "68                           11.9  \n",
              "45                           11.8  \n",
              "61                           11.8  \n",
              "141                          11.5  \n",
              "81                           11.4  \n",
              "155                          11.4  \n",
              "99                           11.4  "
            ]
          },
          "execution_count": 81,
          "metadata": {},
          "output_type": "execute_result"
        }
      ]
    },
    {
      "cell_type": "code",
      "metadata": {
        "id": "UOZEZGQAhqMy",
        "outputId": "f91dc8fa-ed3b-441f-f43b-4b6052e7a7b8"
      },
      "source": [
        "data2 = data2[:10]\n",
        "\n",
        "data2.plot.bar(x = 'country', y = 'total_litres_of_pure_alcohol')\n",
        "plt.title(\"Top 10 for total litres of pure alcohol\")\n",
        "plt.xlabel(\"Country\")\n",
        "plt.ylabel(\"Servings\")"
      ],
      "execution_count": null,
      "outputs": [
        {
          "data": {
            "text/plain": [
              "Text(0, 0.5, 'Servings')"
            ]
          },
          "execution_count": 82,
          "metadata": {},
          "output_type": "execute_result"
        },
        {
          "data": {
            "image/png": "[encoded data removed]",
            "text/plain": [
              "<Figure size 432x288 with 1 Axes>"
            ]
          },
          "metadata": {
            "needs_background": "light"
          },
          "output_type": "display_data"
        }
      ]
    },
    {
      "cell_type": "code",
      "metadata": {
        "id": "feJi_AcMhqMz",
        "outputId": "d0df943b-12b3-4443-fc03-c7275c568055"
      },
      "source": [
        "data2.plot.bar(x = 'country', y = {'beer_servings', 'spirit_servings', 'wine_servings'})\n",
        "plt.title(\"Top 10 - litres of pure alcohol, specific alcohol consumption\")\n",
        "plt.xlabel(\"Country\")\n",
        "plt.ylabel(\"Servings\")"
      ],
      "execution_count": null,
      "outputs": [
        {
          "data": {
            "text/plain": [
              "Text(0, 0.5, 'Servings')"
            ]
          },
          "execution_count": 83,
          "metadata": {},
          "output_type": "execute_result"
        },
        {
          "data": {
            "image/png": "[encoded data removed]",
            "text/plain": [
              "<Figure size 432x288 with 1 Axes>"
            ]
          },
          "metadata": {
            "needs_background": "light"
          },
          "output_type": "display_data"
        }
      ]
    },
    {
      "cell_type": "code",
      "metadata": {
        "id": "WN9gdNGnhqMz"
      },
      "source": [
        "path2 = \"C:/Users/igach/Desktop/Studia 7 semestr/7 semestr/Bazy-danych/Lab2/Analysis Data\" + \"/Top_10_pure_alcohol.csv\"\n",
        "data2.to_csv(path2)"
      ],
      "execution_count": null,
      "outputs": []
    },
    {
      "cell_type": "markdown",
      "metadata": {
        "id": "jbm3FyYvhqM0"
      },
      "source": [
        "### Top 10 krajów, z największą konsumpcją piwa:"
      ]
    },
    {
      "cell_type": "code",
      "metadata": {
        "id": "oKJRaTc0hqM0",
        "outputId": "927ce8af-fb69-421b-bde7-4e7787ee1e95"
      },
      "source": [
        "data3 = data.sort_values(by='beer_servings', ascending=False)\n",
        "\n",
        "data3.head(n = 10)"
      ],
      "execution_count": null,
      "outputs": [
        {
          "data": {
            "text/html": [
              "<div>\n",
              "<style scoped>\n",
              "    .dataframe tbody tr th:only-of-type {\n",
              "        vertical-align: middle;\n",
              "    }\n",
              "\n",
              "    .dataframe tbody tr th {\n",
              "        vertical-align: top;\n",
              "    }\n",
              "\n",
              "    .dataframe thead th {\n",
              "        text-align: right;\n",
              "    }\n",
              "</style>\n",
              "<table border=\"1\" class=\"dataframe\">\n",
              "  <thead>\n",
              "    <tr style=\"text-align: right;\">\n",
              "      <th></th>\n",
              "      <th>country</th>\n",
              "      <th>beer_servings</th>\n",
              "      <th>spirit_servings</th>\n",
              "      <th>wine_servings</th>\n",
              "      <th>total_litres_of_pure_alcohol</th>\n",
              "    </tr>\n",
              "  </thead>\n",
              "  <tbody>\n",
              "    <tr>\n",
              "      <td>117</td>\n",
              "      <td>Namibia</td>\n",
              "      <td>376</td>\n",
              "      <td>3</td>\n",
              "      <td>1</td>\n",
              "      <td>6.8</td>\n",
              "    </tr>\n",
              "    <tr>\n",
              "      <td>45</td>\n",
              "      <td>Czech Republic</td>\n",
              "      <td>361</td>\n",
              "      <td>170</td>\n",
              "      <td>134</td>\n",
              "      <td>11.8</td>\n",
              "    </tr>\n",
              "    <tr>\n",
              "      <td>62</td>\n",
              "      <td>Gabon</td>\n",
              "      <td>347</td>\n",
              "      <td>98</td>\n",
              "      <td>59</td>\n",
              "      <td>8.9</td>\n",
              "    </tr>\n",
              "    <tr>\n",
              "      <td>65</td>\n",
              "      <td>Germany</td>\n",
              "      <td>346</td>\n",
              "      <td>117</td>\n",
              "      <td>175</td>\n",
              "      <td>11.3</td>\n",
              "    </tr>\n",
              "    <tr>\n",
              "      <td>98</td>\n",
              "      <td>Lithuania</td>\n",
              "      <td>343</td>\n",
              "      <td>244</td>\n",
              "      <td>56</td>\n",
              "      <td>12.9</td>\n",
              "    </tr>\n",
              "    <tr>\n",
              "      <td>135</td>\n",
              "      <td>Poland</td>\n",
              "      <td>343</td>\n",
              "      <td>215</td>\n",
              "      <td>56</td>\n",
              "      <td>10.9</td>\n",
              "    </tr>\n",
              "    <tr>\n",
              "      <td>188</td>\n",
              "      <td>Venezuela</td>\n",
              "      <td>333</td>\n",
              "      <td>100</td>\n",
              "      <td>3</td>\n",
              "      <td>7.7</td>\n",
              "    </tr>\n",
              "    <tr>\n",
              "      <td>81</td>\n",
              "      <td>Ireland</td>\n",
              "      <td>313</td>\n",
              "      <td>118</td>\n",
              "      <td>165</td>\n",
              "      <td>11.4</td>\n",
              "    </tr>\n",
              "    <tr>\n",
              "      <td>129</td>\n",
              "      <td>Palau</td>\n",
              "      <td>306</td>\n",
              "      <td>63</td>\n",
              "      <td>23</td>\n",
              "      <td>6.9</td>\n",
              "    </tr>\n",
              "    <tr>\n",
              "      <td>140</td>\n",
              "      <td>Romania</td>\n",
              "      <td>297</td>\n",
              "      <td>122</td>\n",
              "      <td>167</td>\n",
              "      <td>10.4</td>\n",
              "    </tr>\n",
              "  </tbody>\n",
              "</table>\n",
              "</div>"
            ],
            "text/plain": [
              "            country  beer_servings  spirit_servings  wine_servings  \\\n",
              "117         Namibia            376                3              1   \n",
              "45   Czech Republic            361              170            134   \n",
              "62            Gabon            347               98             59   \n",
              "65          Germany            346              117            175   \n",
              "98        Lithuania            343              244             56   \n",
              "135          Poland            343              215             56   \n",
              "188       Venezuela            333              100              3   \n",
              "81          Ireland            313              118            165   \n",
              "129           Palau            306               63             23   \n",
              "140         Romania            297              122            167   \n",
              "\n",
              "     total_litres_of_pure_alcohol  \n",
              "117                           6.8  \n",
              "45                           11.8  \n",
              "62                            8.9  \n",
              "65                           11.3  \n",
              "98                           12.9  \n",
              "135                          10.9  \n",
              "188                           7.7  \n",
              "81                           11.4  \n",
              "129                           6.9  \n",
              "140                          10.4  "
            ]
          },
          "execution_count": 84,
          "metadata": {},
          "output_type": "execute_result"
        }
      ]
    },
    {
      "cell_type": "code",
      "metadata": {
        "id": "QVOwZuBmhqM1",
        "outputId": "655b71b0-d318-4079-845a-cb4a12bd32d8"
      },
      "source": [
        "data3 = data3[:10]\n",
        "\n",
        "data3.plot.bar(x = 'country', y = 'beer_servings')\n",
        "plt.title(\"Top 10 for beer servings\")\n",
        "plt.xlabel(\"Country\")\n",
        "plt.ylabel(\"Servings\")"
      ],
      "execution_count": null,
      "outputs": [
        {
          "data": {
            "text/plain": [
              "Text(0, 0.5, 'Servings')"
            ]
          },
          "execution_count": 85,
          "metadata": {},
          "output_type": "execute_result"
        },
        {
          "data": {
            "image/png": "[encoded data removed]",
            "text/plain": [
              "<Figure size 432x288 with 1 Axes>"
            ]
          },
          "metadata": {
            "needs_background": "light"
          },
          "output_type": "display_data"
        }
      ]
    },
    {
      "cell_type": "code",
      "metadata": {
        "id": "0fl7yxXAhqM1"
      },
      "source": [
        "path3 = \"C:/Users/igach/Desktop/Studia 7 semestr/7 semestr/Bazy-danych/Lab2/Analysis Data\" + \"/Top_10_beer_servings.csv\"\n",
        "data3.to_csv(path3)"
      ],
      "execution_count": null,
      "outputs": []
    },
    {
      "cell_type": "markdown",
      "metadata": {
        "id": "XkNXlV0ehqM2"
      },
      "source": [
        "### Top 10 krajów, z największą konsumpcją spirytusu:"
      ]
    },
    {
      "cell_type": "code",
      "metadata": {
        "id": "TQTPnwjEhqM2",
        "outputId": "f32b4244-4dcd-49a4-99dd-af7b9e89bcb5"
      },
      "source": [
        "data4 = data.sort_values(by='spirit_servings', ascending=False)\n",
        "\n",
        "data4.head(n = 10)"
      ],
      "execution_count": null,
      "outputs": [
        {
          "data": {
            "text/html": [
              "<div>\n",
              "<style scoped>\n",
              "    .dataframe tbody tr th:only-of-type {\n",
              "        vertical-align: middle;\n",
              "    }\n",
              "\n",
              "    .dataframe tbody tr th {\n",
              "        vertical-align: top;\n",
              "    }\n",
              "\n",
              "    .dataframe thead th {\n",
              "        text-align: right;\n",
              "    }\n",
              "</style>\n",
              "<table border=\"1\" class=\"dataframe\">\n",
              "  <thead>\n",
              "    <tr style=\"text-align: right;\">\n",
              "      <th></th>\n",
              "      <th>country</th>\n",
              "      <th>beer_servings</th>\n",
              "      <th>spirit_servings</th>\n",
              "      <th>wine_servings</th>\n",
              "      <th>total_litres_of_pure_alcohol</th>\n",
              "    </tr>\n",
              "  </thead>\n",
              "  <tbody>\n",
              "    <tr>\n",
              "      <td>68</td>\n",
              "      <td>Grenada</td>\n",
              "      <td>199</td>\n",
              "      <td>438</td>\n",
              "      <td>28</td>\n",
              "      <td>11.9</td>\n",
              "    </tr>\n",
              "    <tr>\n",
              "      <td>15</td>\n",
              "      <td>Belarus</td>\n",
              "      <td>142</td>\n",
              "      <td>373</td>\n",
              "      <td>42</td>\n",
              "      <td>14.4</td>\n",
              "    </tr>\n",
              "    <tr>\n",
              "      <td>141</td>\n",
              "      <td>Russian Federation</td>\n",
              "      <td>247</td>\n",
              "      <td>326</td>\n",
              "      <td>73</td>\n",
              "      <td>11.5</td>\n",
              "    </tr>\n",
              "    <tr>\n",
              "      <td>73</td>\n",
              "      <td>Haiti</td>\n",
              "      <td>1</td>\n",
              "      <td>326</td>\n",
              "      <td>1</td>\n",
              "      <td>5.9</td>\n",
              "    </tr>\n",
              "    <tr>\n",
              "      <td>144</td>\n",
              "      <td>St. Lucia</td>\n",
              "      <td>171</td>\n",
              "      <td>315</td>\n",
              "      <td>71</td>\n",
              "      <td>10.1</td>\n",
              "    </tr>\n",
              "    <tr>\n",
              "      <td>72</td>\n",
              "      <td>Guyana</td>\n",
              "      <td>93</td>\n",
              "      <td>302</td>\n",
              "      <td>1</td>\n",
              "      <td>7.1</td>\n",
              "    </tr>\n",
              "    <tr>\n",
              "      <td>155</td>\n",
              "      <td>Slovakia</td>\n",
              "      <td>196</td>\n",
              "      <td>293</td>\n",
              "      <td>116</td>\n",
              "      <td>11.4</td>\n",
              "    </tr>\n",
              "    <tr>\n",
              "      <td>50</td>\n",
              "      <td>Dominica</td>\n",
              "      <td>52</td>\n",
              "      <td>286</td>\n",
              "      <td>26</td>\n",
              "      <td>6.6</td>\n",
              "    </tr>\n",
              "    <tr>\n",
              "      <td>169</td>\n",
              "      <td>Thailand</td>\n",
              "      <td>99</td>\n",
              "      <td>258</td>\n",
              "      <td>1</td>\n",
              "      <td>6.4</td>\n",
              "    </tr>\n",
              "    <tr>\n",
              "      <td>25</td>\n",
              "      <td>Bulgaria</td>\n",
              "      <td>231</td>\n",
              "      <td>252</td>\n",
              "      <td>94</td>\n",
              "      <td>10.3</td>\n",
              "    </tr>\n",
              "  </tbody>\n",
              "</table>\n",
              "</div>"
            ],
            "text/plain": [
              "                country  beer_servings  spirit_servings  wine_servings  \\\n",
              "68              Grenada            199              438             28   \n",
              "15              Belarus            142              373             42   \n",
              "141  Russian Federation            247              326             73   \n",
              "73                Haiti              1              326              1   \n",
              "144           St. Lucia            171              315             71   \n",
              "72               Guyana             93              302              1   \n",
              "155            Slovakia            196              293            116   \n",
              "50             Dominica             52              286             26   \n",
              "169            Thailand             99              258              1   \n",
              "25             Bulgaria            231              252             94   \n",
              "\n",
              "     total_litres_of_pure_alcohol  \n",
              "68                           11.9  \n",
              "15                           14.4  \n",
              "141                          11.5  \n",
              "73                            5.9  \n",
              "144                          10.1  \n",
              "72                            7.1  \n",
              "155                          11.4  \n",
              "50                            6.6  \n",
              "169                           6.4  \n",
              "25                           10.3  "
            ]
          },
          "execution_count": 86,
          "metadata": {},
          "output_type": "execute_result"
        }
      ]
    },
    {
      "cell_type": "code",
      "metadata": {
        "id": "OLOZI9lChqM3",
        "outputId": "c0e76acc-d601-4ba9-9ff0-4f797c66de46"
      },
      "source": [
        "data4 = data4[:10]\n",
        "\n",
        "data4.plot.bar(x = 'country', y = 'spirit_servings')\n",
        "plt.title(\"Top 10 for spirit servings\")\n",
        "plt.xlabel(\"Country\")\n",
        "plt.ylabel(\"Servings\")"
      ],
      "execution_count": null,
      "outputs": [
        {
          "data": {
            "text/plain": [
              "Text(0, 0.5, 'Servings')"
            ]
          },
          "execution_count": 87,
          "metadata": {},
          "output_type": "execute_result"
        },
        {
          "data": {
            "image/png": "[encoded data removed]",
            "text/plain": [
              "<Figure size 432x288 with 1 Axes>"
            ]
          },
          "metadata": {
            "needs_background": "light"
          },
          "output_type": "display_data"
        }
      ]
    },
    {
      "cell_type": "code",
      "metadata": {
        "id": "ey1b17RehqM3"
      },
      "source": [
        "path4 = \"C:/Users/igach/Desktop/Studia 7 semestr/7 semestr/Bazy-danych/Lab2/Analysis Data\" + \"/Top_10_spirit_servings.csv\"\n",
        "data4.to_csv(path4)"
      ],
      "execution_count": null,
      "outputs": []
    },
    {
      "cell_type": "markdown",
      "metadata": {
        "id": "bTXATPd4hqM4"
      },
      "source": [
        "### Top 10 krajów, z największą konsumpcją wina"
      ]
    },
    {
      "cell_type": "code",
      "metadata": {
        "id": "_kYvCHv5hqM4",
        "outputId": "00312b52-7d76-4486-b9b9-05efc9419230"
      },
      "source": [
        "data5 = data.sort_values(by='wine_servings', ascending=False)\n",
        "\n",
        "data5.head(n = 10)"
      ],
      "execution_count": null,
      "outputs": [
        {
          "data": {
            "text/html": [
              "<div>\n",
              "<style scoped>\n",
              "    .dataframe tbody tr th:only-of-type {\n",
              "        vertical-align: middle;\n",
              "    }\n",
              "\n",
              "    .dataframe tbody tr th {\n",
              "        vertical-align: top;\n",
              "    }\n",
              "\n",
              "    .dataframe thead th {\n",
              "        text-align: right;\n",
              "    }\n",
              "</style>\n",
              "<table border=\"1\" class=\"dataframe\">\n",
              "  <thead>\n",
              "    <tr style=\"text-align: right;\">\n",
              "      <th></th>\n",
              "      <th>country</th>\n",
              "      <th>beer_servings</th>\n",
              "      <th>spirit_servings</th>\n",
              "      <th>wine_servings</th>\n",
              "      <th>total_litres_of_pure_alcohol</th>\n",
              "    </tr>\n",
              "  </thead>\n",
              "  <tbody>\n",
              "    <tr>\n",
              "      <td>61</td>\n",
              "      <td>France</td>\n",
              "      <td>127</td>\n",
              "      <td>151</td>\n",
              "      <td>370</td>\n",
              "      <td>11.8</td>\n",
              "    </tr>\n",
              "    <tr>\n",
              "      <td>136</td>\n",
              "      <td>Portugal</td>\n",
              "      <td>194</td>\n",
              "      <td>67</td>\n",
              "      <td>339</td>\n",
              "      <td>11.0</td>\n",
              "    </tr>\n",
              "    <tr>\n",
              "      <td>3</td>\n",
              "      <td>Andorra</td>\n",
              "      <td>245</td>\n",
              "      <td>138</td>\n",
              "      <td>312</td>\n",
              "      <td>12.4</td>\n",
              "    </tr>\n",
              "    <tr>\n",
              "      <td>166</td>\n",
              "      <td>Switzerland</td>\n",
              "      <td>185</td>\n",
              "      <td>100</td>\n",
              "      <td>280</td>\n",
              "      <td>10.2</td>\n",
              "    </tr>\n",
              "    <tr>\n",
              "      <td>48</td>\n",
              "      <td>Denmark</td>\n",
              "      <td>224</td>\n",
              "      <td>81</td>\n",
              "      <td>278</td>\n",
              "      <td>10.4</td>\n",
              "    </tr>\n",
              "    <tr>\n",
              "      <td>156</td>\n",
              "      <td>Slovenia</td>\n",
              "      <td>270</td>\n",
              "      <td>51</td>\n",
              "      <td>276</td>\n",
              "      <td>10.6</td>\n",
              "    </tr>\n",
              "    <tr>\n",
              "      <td>99</td>\n",
              "      <td>Luxembourg</td>\n",
              "      <td>236</td>\n",
              "      <td>133</td>\n",
              "      <td>271</td>\n",
              "      <td>11.4</td>\n",
              "    </tr>\n",
              "    <tr>\n",
              "      <td>42</td>\n",
              "      <td>Croatia</td>\n",
              "      <td>230</td>\n",
              "      <td>87</td>\n",
              "      <td>254</td>\n",
              "      <td>10.2</td>\n",
              "    </tr>\n",
              "    <tr>\n",
              "      <td>83</td>\n",
              "      <td>Italy</td>\n",
              "      <td>85</td>\n",
              "      <td>42</td>\n",
              "      <td>237</td>\n",
              "      <td>6.5</td>\n",
              "    </tr>\n",
              "    <tr>\n",
              "      <td>6</td>\n",
              "      <td>Argentina</td>\n",
              "      <td>193</td>\n",
              "      <td>25</td>\n",
              "      <td>221</td>\n",
              "      <td>8.3</td>\n",
              "    </tr>\n",
              "  </tbody>\n",
              "</table>\n",
              "</div>"
            ],
            "text/plain": [
              "         country  beer_servings  spirit_servings  wine_servings  \\\n",
              "61        France            127              151            370   \n",
              "136     Portugal            194               67            339   \n",
              "3        Andorra            245              138            312   \n",
              "166  Switzerland            185              100            280   \n",
              "48       Denmark            224               81            278   \n",
              "156     Slovenia            270               51            276   \n",
              "99    Luxembourg            236              133            271   \n",
              "42       Croatia            230               87            254   \n",
              "83         Italy             85               42            237   \n",
              "6      Argentina            193               25            221   \n",
              "\n",
              "     total_litres_of_pure_alcohol  \n",
              "61                           11.8  \n",
              "136                          11.0  \n",
              "3                            12.4  \n",
              "166                          10.2  \n",
              "48                           10.4  \n",
              "156                          10.6  \n",
              "99                           11.4  \n",
              "42                           10.2  \n",
              "83                            6.5  \n",
              "6                             8.3  "
            ]
          },
          "execution_count": 88,
          "metadata": {},
          "output_type": "execute_result"
        }
      ]
    },
    {
      "cell_type": "code",
      "metadata": {
        "id": "3jJ4rlw7hqM5",
        "outputId": "a932bccc-ecac-4e11-ad44-0c52bbdf9d4c"
      },
      "source": [
        "data5 = data5[:10]\n",
        "\n",
        "data5.plot.bar(x = 'country', y = 'wine_servings')\n",
        "plt.title(\"Top 10 for wine servings\")\n",
        "plt.xlabel(\"Country\")\n",
        "plt.ylabel(\"Servings\")"
      ],
      "execution_count": null,
      "outputs": [
        {
          "data": {
            "text/plain": [
              "Text(0, 0.5, 'Servings')"
            ]
          },
          "execution_count": 90,
          "metadata": {},
          "output_type": "execute_result"
        },
        {
          "data": {
            "image/png": "[encoded data removed]",
            "text/plain": [
              "<Figure size 432x288 with 1 Axes>"
            ]
          },
          "metadata": {
            "needs_background": "light"
          },
          "output_type": "display_data"
        }
      ]
    },
    {
      "cell_type": "code",
      "metadata": {
        "id": "yaoL8t0RhqM6"
      },
      "source": [
        "path5= \"C:/Users/igach/Desktop/Studia 7 semestr/7 semestr/Bazy-danych/Lab2/Analysis Data\" + \"/Top_10_wine_servings.csv\"\n",
        "data5.to_csv(path5)"
      ],
      "execution_count": null,
      "outputs": []
    }
  ]
}