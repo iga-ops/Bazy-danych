{
  "nbformat": 4,
  "nbformat_minor": 0,
  "metadata": {
    "colab": {
      "name": "Modele Liniowe - zadania.ipynb",
      "provenance": [],
      "collapsed_sections": [
        "3Ja9ZO66n1hW",
        "4d_9_RzPvx2e"
      ]
    },
    "kernelspec": {
      "name": "python3",
      "display_name": "Python 3"
    },
    "language_info": {
      "name": "python"
    }
  },
  "cells": [
    {
      "cell_type": "markdown",
      "metadata": {
        "id": "c5I31iGrnQAx"
      },
      "source": [
        "# **Zadanie 1**"
      ]
    },
    {
      "cell_type": "markdown",
      "metadata": {
        "id": "nG7szdybnvmP"
      },
      "source": [
        "### **Polecenie do zadania:**"
      ]
    },
    {
      "cell_type": "markdown",
      "metadata": {
        "id": "5X7NeAP2nGFF"
      },
      "source": [
        "Na podstawie danych zawartych w pliku SCORES.csv wykonaj i oceń regresję liniową, gdzie Twoją daną niezależną (predyktorem) będą godziny poświęcone na przygotowanie, a wynikową uzyskane punkty. Wykonanie zadania powinno składać się z następujących kroków:\n",
        "\n",
        "1. Zaimportowanie niezbędnych bibliotek w szczególności tych tworzących modele liniowe z \"scikit-learn\", a także biblioteki do operacji na danych oraz tworzenia wykresów.\n",
        "\n",
        "2. Odczytaj dane z pliku SCORES.csv. Pomocne w interpretacji danych są metody: head(), describe(), shape.\n",
        "\n",
        "3. Wykonaj wstępny wykres uzyskanych danych (typu \"scatter\")\n",
        "\n",
        "4. Dokonaj podziału danych na zbiory danych niezależnych (wejściowe, X) oraz zaleznych (wyjściowe, y) dla swojego modelu, a następnie podziel zbiór na dane testowe i treningowe (30%)\n",
        "\n",
        "5. Utwróz model regresji liniowej za pomocą sklearn.\n",
        "\n",
        "6. Wypisz i przeanalizuj wyliczone wskaźniki dla modelu: coef oraz intercept. Czym one są i do czego służą?\n",
        "\n",
        "7. Wykorzystając stworozny model dokonaj predykcji dla części testowej X. Porównaj wynik (y_pred) z posiadanymi danymi (y_test).\n",
        "\n",
        "8. Wykonaj wykres konfrontujący dane testowe (X_test, y_test; typu \"scatter\") oraz predykcje (X_test, y_pred; linia prosta)\n",
        "\n",
        "8. Dokonaj walidacji uzyskanych predykcji wykorzystując metryki: średni błąd bezwzględny (Mean Absolute Error), błąd średniokwadratowy (Mean Squared Error) oraz pierwiastek błędu średniokwadratowego (Root Mean Squared Error).\n",
        "\n",
        "Następnie utworzony skrypt wykorzystaj na danych zawartych w SBP.csv, gdzie predyktorem będzie wiek, a wynikiem ciśnienie (SBP). \n",
        "\n",
        "Czy uzyskane wyniki z modelu są równie zadowalające?"
      ]
    },
    {
      "cell_type": "markdown",
      "metadata": {
        "id": "3Ja9ZO66n1hW"
      },
      "source": [
        "## **Kod:**"
      ]
    },
    {
      "cell_type": "code",
      "metadata": {
        "colab": {
          "base_uri": "https://localhost:8080/",
          "height": 0
        },
        "id": "Gx77N_MSn01A",
        "outputId": "3b8364ac-3070-4a10-edc7-6e3d8052ebbb"
      },
      "source": [
        "#1. Zaimportowanie niezbędnych bibliotek w szczególności tych tworzących modele liniowe z \"scikit-learn\".\n",
        "import numpy as np\n",
        "import matplotlib.pyplot as plt\n",
        "import pandas as pd\n",
        "import sklearn\n",
        "\n",
        "#2. Odczytaj dane z pliku SCORES.csv. Pomocne w interpretacji danych są metody: head(), describe(), shape.\n",
        "data_scores = pd.read_csv(\"/content/drive/MyDrive/Bazy danych/Lab7/SCORES.csv\")\n",
        "\n",
        "data_scores.head()"
      ],
      "execution_count": 1,
      "outputs": [
        {
          "output_type": "execute_result",
          "data": {
            "text/html": [
              "<div>\n",
              "<style scoped>\n",
              "    .dataframe tbody tr th:only-of-type {\n",
              "        vertical-align: middle;\n",
              "    }\n",
              "\n",
              "    .dataframe tbody tr th {\n",
              "        vertical-align: top;\n",
              "    }\n",
              "\n",
              "    .dataframe thead th {\n",
              "        text-align: right;\n",
              "    }\n",
              "</style>\n",
              "<table border=\"1\" class=\"dataframe\">\n",
              "  <thead>\n",
              "    <tr style=\"text-align: right;\">\n",
              "      <th></th>\n",
              "      <th>Hours</th>\n",
              "      <th>Scores</th>\n",
              "    </tr>\n",
              "  </thead>\n",
              "  <tbody>\n",
              "    <tr>\n",
              "      <th>0</th>\n",
              "      <td>2.5</td>\n",
              "      <td>21</td>\n",
              "    </tr>\n",
              "    <tr>\n",
              "      <th>1</th>\n",
              "      <td>5.1</td>\n",
              "      <td>47</td>\n",
              "    </tr>\n",
              "    <tr>\n",
              "      <th>2</th>\n",
              "      <td>3.2</td>\n",
              "      <td>27</td>\n",
              "    </tr>\n",
              "    <tr>\n",
              "      <th>3</th>\n",
              "      <td>8.5</td>\n",
              "      <td>75</td>\n",
              "    </tr>\n",
              "    <tr>\n",
              "      <th>4</th>\n",
              "      <td>3.5</td>\n",
              "      <td>30</td>\n",
              "    </tr>\n",
              "  </tbody>\n",
              "</table>\n",
              "</div>"
            ],
            "text/plain": [
              "   Hours  Scores\n",
              "0    2.5      21\n",
              "1    5.1      47\n",
              "2    3.2      27\n",
              "3    8.5      75\n",
              "4    3.5      30"
            ]
          },
          "metadata": {},
          "execution_count": 1
        }
      ]
    },
    {
      "cell_type": "code",
      "metadata": {
        "colab": {
          "base_uri": "https://localhost:8080/"
        },
        "id": "RpdjvmDCqQUt",
        "outputId": "3e83510c-03fc-4ebe-9682-330c076403f4"
      },
      "source": [
        "data_scores.shape"
      ],
      "execution_count": 2,
      "outputs": [
        {
          "output_type": "execute_result",
          "data": {
            "text/plain": [
              "(25, 2)"
            ]
          },
          "metadata": {},
          "execution_count": 2
        }
      ]
    },
    {
      "cell_type": "code",
      "metadata": {
        "colab": {
          "base_uri": "https://localhost:8080/",
          "height": 0
        },
        "id": "y58dvGcvrOxV",
        "outputId": "f50e5d95-b0ee-4c08-d6bc-dde571a17976"
      },
      "source": [
        "#3. Wykonaj wstępny wykres uzyskanych danych (typu \"scatter\").\n",
        "\n",
        "plt.scatter(data_scores.Hours, data_scores.Scores) \n",
        "plt.title(\"Score dataset visualization\")\n",
        "plt.xlabel(\"Hours\")\n",
        "plt.ylabel(\"Scores\")"
      ],
      "execution_count": 3,
      "outputs": [
        {
          "output_type": "execute_result",
          "data": {
            "text/plain": [
              "Text(0, 0.5, 'Scores')"
            ]
          },
          "metadata": {},
          "execution_count": 3
        },
        {
          "output_type": "display_data",
          "data": {
            "image/png": "[encoded data removed]",
            "text/plain": [
              "<Figure size 432x288 with 1 Axes>"
            ]
          },
          "metadata": {
            "needs_background": "light"
          }
        }
      ]
    },
    {
      "cell_type": "code",
      "metadata": {
        "id": "bPZXFAYwvTNM"
      },
      "source": [
        "#4. Dokonaj podziału danych na zbiory danych niezależnych (wejściowe, X) oraz zaleznych (wyjściowe, y) dla swojego modelu, \n",
        "# a następnie podziel zbiór na dane testowe i treningowe (30%)\n",
        "\n",
        "from sklearn.model_selection import train_test_split\n",
        "from sklearn.linear_model import LinearRegression\n",
        "\n",
        "X_train, X_test, y_train, y_test = train_test_split(data_scores.Hours, data_scores.Scores, test_size=0.3)\n",
        "\n",
        "#5. Utwróz model regresji liniowej za pomocą sklearn.\n",
        "\n",
        "X_train = np.array(X_train).reshape(-1, 1)  #-1 infers the size of the new dimension from the size of the input array.\n",
        "y_train = np.array(y_train).reshape(-1, 1)\n",
        "reg = LinearRegression().fit(X_train, y_train)"
      ],
      "execution_count": 4,
      "outputs": []
    },
    {
      "cell_type": "code",
      "metadata": {
        "colab": {
          "base_uri": "https://localhost:8080/"
        },
        "id": "lT8xFnQNyB83",
        "outputId": "156385fc-7927-4179-ef73-8c528bef58ba"
      },
      "source": [
        "#6. Wypisz i przeanalizuj wyliczone wskaźniki dla modelu: coef oraz intercept. Czym one są i do czego służą?\n",
        "\n",
        "print(\"Regression coef: \", reg.coef_[0])\n",
        "print(\"Regression intercept: \", reg.intercept_)"
      ],
      "execution_count": 5,
      "outputs": [
        {
          "output_type": "stream",
          "name": "stdout",
          "text": [
            "Regression coef:  [9.38913183]\n",
            "Regression intercept:  [3.91553055]\n"
          ]
        }
      ]
    },
    {
      "cell_type": "code",
      "metadata": {
        "colab": {
          "base_uri": "https://localhost:8080/"
        },
        "id": "hVHqKOijy7dv",
        "outputId": "35cf096c-b917-462d-b4a3-5b3f4d555b47"
      },
      "source": [
        "#7. Wykorzystając stworozny model dokonaj predykcji dla części testowej X. Porównaj wynik (y_pred) z posiadanymi danymi (y_test).\n",
        "X_test = np.array(X_test).reshape(-1, 1)\n",
        "y_test = np.array(y_test).reshape(-1, 1)\n",
        "\n",
        "y_pred = reg.predict(X_test)\n",
        "\n",
        "for i in range(len(y_pred)):\n",
        "    print(\"y_test: {}, y_pred: {}, różnica między y_pred a y_test: {} \\n\".format(y_pred[i], y_test[i],  y_pred[i] - y_test[i]))"
      ],
      "execution_count": 6,
      "outputs": [
        {
          "output_type": "stream",
          "name": "stdout",
          "text": [
            "y_test: [21.75488103], y_pred: [24], różnica między y_pred a y_test: [-2.24511897] \n",
            "\n",
            "y_test: [29.2661865], y_pred: [25], różnica między y_pred a y_test: [4.2661865] \n",
            "\n",
            "y_test: [48.98336334], y_pred: [54], różnica między y_pred a y_test: [-5.01663666] \n",
            "\n",
            "y_test: [83.72315113], y_pred: [75], różnica między y_pred a y_test: [8.72315113] \n",
            "\n",
            "y_test: [77.15075884], y_pred: [86], różnica między y_pred a y_test: [-8.84924116] \n",
            "\n",
            "y_test: [87.47880386], y_pred: [95], różnica między y_pred a y_test: [-7.52119614] \n",
            "\n",
            "y_test: [36.77749196], y_pred: [30], różnica między y_pred a y_test: [6.77749196] \n",
            "\n",
            "y_test: [76.21184566], y_pred: [85], różnica między y_pred a y_test: [-8.78815434] \n",
            "\n"
          ]
        }
      ]
    },
    {
      "cell_type": "code",
      "metadata": {
        "colab": {
          "base_uri": "https://localhost:8080/",
          "height": 0
        },
        "id": "eVllEL3p0Kx2",
        "outputId": "6d6f3f5d-b16c-45e9-ce1b-5ce9349e6d0b"
      },
      "source": [
        "#8. Wykonaj wykres konfrontujący dane testowe (X_test, y_test; typu \"scatter\") oraz predykcje (X_test, y_pred; linia prosta).\n",
        "plt.scatter(X_test, y_test)\n",
        "plt.plot(X_test, y_pred, 'r')\n",
        "\n",
        "plt.grid(True)\n",
        "plt.title(\"Scatter plot for SCORES.csv\")\n",
        "plt.xlabel(\"Hours\")\n",
        "plt.ylabel(\"Scores\")\n",
        "plt.legend(['Prediction', 'Test data'])"
      ],
      "execution_count": 7,
      "outputs": [
        {
          "output_type": "execute_result",
          "data": {
            "text/plain": [
              "<matplotlib.legend.Legend at 0x7f0a8ebb5210>"
            ]
          },
          "metadata": {},
          "execution_count": 7
        },
        {
          "output_type": "display_data",
          "data": {
            "image/png": "[encoded data removed]",
            "text/plain": [
              "<Figure size 432x288 with 1 Axes>"
            ]
          },
          "metadata": {
            "needs_background": "light"
          }
        }
      ]
    },
    {
      "cell_type": "code",
      "metadata": {
        "colab": {
          "base_uri": "https://localhost:8080/"
        },
        "id": "beiSO5bFXAer",
        "outputId": "8f78c200-86d0-44a6-ea7c-f7b1cf0619ed"
      },
      "source": [
        "#9. Dokonaj walidacji uzyskanych predykcji wykorzystując metryki: średni błąd bezwzględny (Mean Absolute Error), \n",
        "# błąd średniokwadratowy (Mean Squared Error) oraz pierwiastek błędu średniokwadratowego (Root Mean Squared Error).\n",
        "\n",
        "error_absol = np.mean(np.abs(y_pred - y_test))\n",
        "print(\"Mean Absolute Error: {}\\n\".format(error_absol))\n",
        "\n",
        "error_squar = np.mean((y_pred - y_test) ** 2)\n",
        "print(\"Mean Squared Error: {}\\n\".format(error_squar))\n",
        "\n",
        "error_sqrt = np.sqrt(np.mean((y_pred - y_test) ** 2))\n",
        "print(\"Root Mean Squared Error: {}\\n\".format(error_sqrt))"
      ],
      "execution_count": 8,
      "outputs": [
        {
          "output_type": "stream",
          "name": "stdout",
          "text": [
            "Mean Absolute Error: 6.523397106109325\n",
            "\n",
            "Mean Squared Error: 47.81805372110504\n",
            "\n",
            "Root Mean Squared Error: 6.915059921729171\n",
            "\n"
          ]
        }
      ]
    },
    {
      "cell_type": "markdown",
      "metadata": {
        "id": "fTSrYwqSb2Hp"
      },
      "source": [
        "### **Następnie utworzony skrypt wykorzystaj na danych zawartych w SBP.csv, gdzie predyktorem będzie wiek, a wynikiem ciśnienie (SBP).**\n",
        "\n",
        "Czy uzyskane wyniki z modelu są równie zadowalające?"
      ]
    },
    {
      "cell_type": "code",
      "metadata": {
        "id": "SuyQuESCfErS"
      },
      "source": [
        "data_sbp = pd.read_csv(\"/content/drive/MyDrive/Bazy danych/Lab7/SBP.csv\")"
      ],
      "execution_count": 9,
      "outputs": []
    },
    {
      "cell_type": "code",
      "metadata": {
        "colab": {
          "base_uri": "https://localhost:8080/",
          "height": 0
        },
        "id": "jl2hJ2bgfGGC",
        "outputId": "1fe4c1b0-74de-412d-c5f2-35b8cc2102ff"
      },
      "source": [
        "data_sbp.head()"
      ],
      "execution_count": 10,
      "outputs": [
        {
          "output_type": "execute_result",
          "data": {
            "text/html": [
              "<div>\n",
              "<style scoped>\n",
              "    .dataframe tbody tr th:only-of-type {\n",
              "        vertical-align: middle;\n",
              "    }\n",
              "\n",
              "    .dataframe tbody tr th {\n",
              "        vertical-align: top;\n",
              "    }\n",
              "\n",
              "    .dataframe thead th {\n",
              "        text-align: right;\n",
              "    }\n",
              "</style>\n",
              "<table border=\"1\" class=\"dataframe\">\n",
              "  <thead>\n",
              "    <tr style=\"text-align: right;\">\n",
              "      <th></th>\n",
              "      <th>Age</th>\n",
              "      <th>SBP</th>\n",
              "    </tr>\n",
              "  </thead>\n",
              "  <tbody>\n",
              "    <tr>\n",
              "      <th>0</th>\n",
              "      <td>60</td>\n",
              "      <td>117</td>\n",
              "    </tr>\n",
              "    <tr>\n",
              "      <th>1</th>\n",
              "      <td>61</td>\n",
              "      <td>120</td>\n",
              "    </tr>\n",
              "    <tr>\n",
              "      <th>2</th>\n",
              "      <td>74</td>\n",
              "      <td>145</td>\n",
              "    </tr>\n",
              "    <tr>\n",
              "      <th>3</th>\n",
              "      <td>57</td>\n",
              "      <td>129</td>\n",
              "    </tr>\n",
              "    <tr>\n",
              "      <th>4</th>\n",
              "      <td>63</td>\n",
              "      <td>132</td>\n",
              "    </tr>\n",
              "  </tbody>\n",
              "</table>\n",
              "</div>"
            ],
            "text/plain": [
              "   Age  SBP\n",
              "0   60  117\n",
              "1   61  120\n",
              "2   74  145\n",
              "3   57  129\n",
              "4   63  132"
            ]
          },
          "metadata": {},
          "execution_count": 10
        }
      ]
    },
    {
      "cell_type": "code",
      "metadata": {
        "colab": {
          "base_uri": "https://localhost:8080/",
          "height": 0
        },
        "id": "t6TcIStSiQh1",
        "outputId": "761c1533-ce21-4906-c62d-3d2082dd1c7e"
      },
      "source": [
        "#3. Wykonaj wstępny wykres uzyskanych danych (typu \"scatter\").\n",
        "\n",
        "plt.scatter(data_sbp.Age, data_sbp.SBP) \n",
        "plt.title(\"SBP dataset visualization\")\n",
        "plt.xlabel(\"Age\")\n",
        "plt.ylabel(\"SBP\")"
      ],
      "execution_count": 11,
      "outputs": [
        {
          "output_type": "execute_result",
          "data": {
            "text/plain": [
              "Text(0, 0.5, 'SBP')"
            ]
          },
          "metadata": {},
          "execution_count": 11
        },
        {
          "output_type": "display_data",
          "data": {
            "image/png": "[encoded data removed]",
            "text/plain": [
              "<Figure size 432x288 with 1 Axes>"
            ]
          },
          "metadata": {
            "needs_background": "light"
          }
        }
      ]
    },
    {
      "cell_type": "code",
      "metadata": {
        "colab": {
          "base_uri": "https://localhost:8080/",
          "height": 0
        },
        "id": "DQ7bESYvb79B",
        "outputId": "89f18191-97c4-4639-cb21-831b01e4536c"
      },
      "source": [
        "#4. Dokonaj podziału danych na zbiory danych niezależnych (wejściowe, X) oraz zaleznych (wyjściowe, y)\n",
        "X_train, X_test, y_train, y_test = train_test_split(data_sbp.Age, data_sbp.SBP, test_size=0.3)\n",
        "\n",
        "#5. Utwróz model regresji liniowej za pomocą sklearn.\n",
        "X_train = np.array(X_train).reshape(-1, 1)  #-1 infers the size of the new dimension from the size of the input array.\n",
        "y_train = np.array(y_train).reshape(-1, 1)\n",
        "reg = LinearRegression().fit(X_train, y_train)\n",
        "\n",
        "#6. Wypisz i przeanalizuj wyliczone wskaźniki dla modelu: coef oraz intercept.\n",
        "print(\"Regression coef: \", reg.coef_[0])\n",
        "print(\"\\nRegression intercept: \", reg.intercept_)\n",
        "\n",
        "#7. Wykorzystając stworozny model dokonaj predykcji dla części testowej X. Porównaj wynik (y_pred) z posiadanymi danymi (y_test).\n",
        "X_test = np.array(X_test).reshape(-1, 1)\n",
        "y_test = np.array(y_test).reshape(-1, 1)\n",
        "y_pred = reg.predict(X_test)\n",
        "\n",
        "#8. Wykonaj wykres konfrontujący dane testowe (X_test, y_test; typu \"scatter\") oraz predykcje (X_test, y_pred; linia prosta).\n",
        "plt.scatter(X_test, y_test)\n",
        "plt.plot(X_test, y_pred, 'r')\n",
        "\n",
        "plt.grid(True)\n",
        "plt.title(\"Scatter plot for SBP.csv\")\n",
        "plt.xlabel(\"Age\")\n",
        "plt.ylabel(\"SBP\")\n",
        "plt.legend(['Prediction', 'Test data'])\n",
        "\n",
        "#9. Dokonaj walidacji uzyskanych predykcji: średni błąd bezwzględny, błąd średniokwadratowy oraz pierwiastek błędu średniokwadratowego\n",
        "\n",
        "error_absol = np.mean(np.abs(y_pred - y_test))\n",
        "print(\"\\nMean Absolute Error: {}\\n\".format(error_absol))\n",
        "\n",
        "error_squar = np.mean((y_pred - y_test) ** 2)\n",
        "print(\"Mean Squared Error: {}\\n\".format(error_squar))\n",
        "\n",
        "error_sqrt = np.sqrt(np.mean((y_pred - y_test) ** 2))\n",
        "print(\"Root Mean Squared Error: {}\\n\".format(error_sqrt))"
      ],
      "execution_count": 12,
      "outputs": [
        {
          "output_type": "stream",
          "name": "stdout",
          "text": [
            "Regression coef:  [1.40077691]\n",
            "\n",
            "Regression intercept:  [40.25749168]\n",
            "\n",
            "Mean Absolute Error: 10.972512023677403\n",
            "\n",
            "Mean Squared Error: 132.8808918934568\n",
            "\n",
            "Root Mean Squared Error: 11.527397446668385\n",
            "\n"
          ]
        },
        {
          "output_type": "display_data",
          "data": {
            "image/png": "[encoded data removed]",
            "text/plain": [
              "<Figure size 432x288 with 1 Axes>"
            ]
          },
          "metadata": {
            "needs_background": "light"
          }
        }
      ]
    },
    {
      "cell_type": "markdown",
      "metadata": {
        "id": "sfZvf35nirPo"
      },
      "source": [
        "# **Zadanie 2**"
      ]
    },
    {
      "cell_type": "code",
      "metadata": {
        "colab": {
          "base_uri": "https://localhost:8080/",
          "height": 206
        },
        "id": "z1q2-OtRitYC",
        "outputId": "2869a601-729e-4b52-fc7e-2d16d4ab6425"
      },
      "source": [
        "#Na podstawie danych zawartych w pliku PETROL.csv wykonaj i oceń regresję liniową. \n",
        "data_petrol = pd.read_csv(\"/content/drive/MyDrive/Bazy danych/Lab7/PETROL.csv\")\n",
        "\n",
        "data_petrol.head()"
      ],
      "execution_count": 13,
      "outputs": [
        {
          "output_type": "execute_result",
          "data": {
            "text/html": [
              "<div>\n",
              "<style scoped>\n",
              "    .dataframe tbody tr th:only-of-type {\n",
              "        vertical-align: middle;\n",
              "    }\n",
              "\n",
              "    .dataframe tbody tr th {\n",
              "        vertical-align: top;\n",
              "    }\n",
              "\n",
              "    .dataframe thead th {\n",
              "        text-align: right;\n",
              "    }\n",
              "</style>\n",
              "<table border=\"1\" class=\"dataframe\">\n",
              "  <thead>\n",
              "    <tr style=\"text-align: right;\">\n",
              "      <th></th>\n",
              "      <th>Podatek_paliwowy</th>\n",
              "      <th>Sredni_przychod</th>\n",
              "      <th>Utwardzone_autostrady</th>\n",
              "      <th>Procent_ludnosci_z_prawem_jazdy</th>\n",
              "      <th>Zuzycie_paliwa</th>\n",
              "    </tr>\n",
              "  </thead>\n",
              "  <tbody>\n",
              "    <tr>\n",
              "      <th>0</th>\n",
              "      <td>9.0</td>\n",
              "      <td>3571</td>\n",
              "      <td>1976</td>\n",
              "      <td>0.525</td>\n",
              "      <td>541</td>\n",
              "    </tr>\n",
              "    <tr>\n",
              "      <th>1</th>\n",
              "      <td>9.0</td>\n",
              "      <td>4092</td>\n",
              "      <td>1250</td>\n",
              "      <td>0.572</td>\n",
              "      <td>524</td>\n",
              "    </tr>\n",
              "    <tr>\n",
              "      <th>2</th>\n",
              "      <td>9.0</td>\n",
              "      <td>3865</td>\n",
              "      <td>1586</td>\n",
              "      <td>0.580</td>\n",
              "      <td>561</td>\n",
              "    </tr>\n",
              "    <tr>\n",
              "      <th>3</th>\n",
              "      <td>7.5</td>\n",
              "      <td>4870</td>\n",
              "      <td>2351</td>\n",
              "      <td>0.529</td>\n",
              "      <td>414</td>\n",
              "    </tr>\n",
              "    <tr>\n",
              "      <th>4</th>\n",
              "      <td>8.0</td>\n",
              "      <td>4399</td>\n",
              "      <td>431</td>\n",
              "      <td>0.544</td>\n",
              "      <td>410</td>\n",
              "    </tr>\n",
              "  </tbody>\n",
              "</table>\n",
              "</div>"
            ],
            "text/plain": [
              "   Podatek_paliwowy  ...  Zuzycie_paliwa\n",
              "0               9.0  ...             541\n",
              "1               9.0  ...             524\n",
              "2               9.0  ...             561\n",
              "3               7.5  ...             414\n",
              "4               8.0  ...             410\n",
              "\n",
              "[5 rows x 5 columns]"
            ]
          },
          "metadata": {},
          "execution_count": 13
        }
      ]
    },
    {
      "cell_type": "code",
      "metadata": {
        "colab": {
          "base_uri": "https://localhost:8080/",
          "height": 300
        },
        "id": "CuPZPC4Blm8C",
        "outputId": "ec185e53-6f8f-4a21-91e5-59aa4fa7297c"
      },
      "source": [
        "data_petrol.describe()"
      ],
      "execution_count": 14,
      "outputs": [
        {
          "output_type": "execute_result",
          "data": {
            "text/html": [
              "<div>\n",
              "<style scoped>\n",
              "    .dataframe tbody tr th:only-of-type {\n",
              "        vertical-align: middle;\n",
              "    }\n",
              "\n",
              "    .dataframe tbody tr th {\n",
              "        vertical-align: top;\n",
              "    }\n",
              "\n",
              "    .dataframe thead th {\n",
              "        text-align: right;\n",
              "    }\n",
              "</style>\n",
              "<table border=\"1\" class=\"dataframe\">\n",
              "  <thead>\n",
              "    <tr style=\"text-align: right;\">\n",
              "      <th></th>\n",
              "      <th>Podatek_paliwowy</th>\n",
              "      <th>Sredni_przychod</th>\n",
              "      <th>Utwardzone_autostrady</th>\n",
              "      <th>Procent_ludnosci_z_prawem_jazdy</th>\n",
              "      <th>Zuzycie_paliwa</th>\n",
              "    </tr>\n",
              "  </thead>\n",
              "  <tbody>\n",
              "    <tr>\n",
              "      <th>count</th>\n",
              "      <td>48.000000</td>\n",
              "      <td>48.000000</td>\n",
              "      <td>48.000000</td>\n",
              "      <td>48.000000</td>\n",
              "      <td>48.000000</td>\n",
              "    </tr>\n",
              "    <tr>\n",
              "      <th>mean</th>\n",
              "      <td>7.668333</td>\n",
              "      <td>4241.833333</td>\n",
              "      <td>5565.416667</td>\n",
              "      <td>0.570333</td>\n",
              "      <td>576.770833</td>\n",
              "    </tr>\n",
              "    <tr>\n",
              "      <th>std</th>\n",
              "      <td>0.950770</td>\n",
              "      <td>573.623768</td>\n",
              "      <td>3491.507166</td>\n",
              "      <td>0.055470</td>\n",
              "      <td>111.885816</td>\n",
              "    </tr>\n",
              "    <tr>\n",
              "      <th>min</th>\n",
              "      <td>5.000000</td>\n",
              "      <td>3063.000000</td>\n",
              "      <td>431.000000</td>\n",
              "      <td>0.451000</td>\n",
              "      <td>344.000000</td>\n",
              "    </tr>\n",
              "    <tr>\n",
              "      <th>25%</th>\n",
              "      <td>7.000000</td>\n",
              "      <td>3739.000000</td>\n",
              "      <td>3110.250000</td>\n",
              "      <td>0.529750</td>\n",
              "      <td>509.500000</td>\n",
              "    </tr>\n",
              "    <tr>\n",
              "      <th>50%</th>\n",
              "      <td>7.500000</td>\n",
              "      <td>4298.000000</td>\n",
              "      <td>4735.500000</td>\n",
              "      <td>0.564500</td>\n",
              "      <td>568.500000</td>\n",
              "    </tr>\n",
              "    <tr>\n",
              "      <th>75%</th>\n",
              "      <td>8.125000</td>\n",
              "      <td>4578.750000</td>\n",
              "      <td>7156.000000</td>\n",
              "      <td>0.595250</td>\n",
              "      <td>632.750000</td>\n",
              "    </tr>\n",
              "    <tr>\n",
              "      <th>max</th>\n",
              "      <td>10.000000</td>\n",
              "      <td>5342.000000</td>\n",
              "      <td>17782.000000</td>\n",
              "      <td>0.724000</td>\n",
              "      <td>968.000000</td>\n",
              "    </tr>\n",
              "  </tbody>\n",
              "</table>\n",
              "</div>"
            ],
            "text/plain": [
              "       Podatek_paliwowy  ...  Zuzycie_paliwa\n",
              "count         48.000000  ...       48.000000\n",
              "mean           7.668333  ...      576.770833\n",
              "std            0.950770  ...      111.885816\n",
              "min            5.000000  ...      344.000000\n",
              "25%            7.000000  ...      509.500000\n",
              "50%            7.500000  ...      568.500000\n",
              "75%            8.125000  ...      632.750000\n",
              "max           10.000000  ...      968.000000\n",
              "\n",
              "[8 rows x 5 columns]"
            ]
          },
          "metadata": {},
          "execution_count": 14
        }
      ]
    },
    {
      "cell_type": "code",
      "metadata": {
        "colab": {
          "base_uri": "https://localhost:8080/",
          "height": 421
        },
        "id": "XVAmlEx9lsLQ",
        "outputId": "1d312b83-3e06-4b84-cb7b-2b0bddce14ae"
      },
      "source": [
        "#Jako daną zależną wykorzystaj zużycie paliwa, a pozostałe - jako predyktory.\n",
        "x = list(data_petrol.columns)\n",
        "x = x[:-1]\n",
        "x = np.array(x).reshape(-1, 1)  #-1 infers the size of the new dimension from the size of the input array.\n",
        "\n",
        "y = data_petrol.Zuzycie_paliwa\n",
        "\n",
        "#Wykonanie zadania powinno składać się z kroków podobnych do tych z zadania poprzedniego.\n",
        "fig = plt.figure(figsize=(8, 6))\n",
        "plt.scatter(data_petrol[x[0][0]], y)\n",
        "plt.scatter(data_petrol[x[1][0]], y)\n",
        "plt.scatter(data_petrol[x[2][0]], y)\n",
        "plt.scatter(data_petrol[x[3][0]], y)\n",
        "\n",
        "plt.grid(True)\n",
        "plt.title(\"Scatter plot for PETROL.csv\")\n",
        "plt.xlabel(\"Independent values\")\n",
        "plt.ylabel(\"Dependent value - Zużycie paliwa\")\n",
        "plt.legend(['Podatek_paliwowy', 'Sredni_przychod', 'Utwardzone_autostrady', 'Procent_ludnosci_z_prawem_jazdy'])"
      ],
      "execution_count": 15,
      "outputs": [
        {
          "output_type": "execute_result",
          "data": {
            "text/plain": [
              "<matplotlib.legend.Legend at 0x7f0a8bf41d50>"
            ]
          },
          "metadata": {},
          "execution_count": 15
        },
        {
          "output_type": "display_data",
          "data": {
            "image/png": "[encoded data removed]",
            "text/plain": [
              "<Figure size 576x432 with 1 Axes>"
            ]
          },
          "metadata": {
            "needs_background": "light"
          }
        }
      ]
    },
    {
      "cell_type": "code",
      "metadata": {
        "colab": {
          "base_uri": "https://localhost:8080/",
          "height": 35
        },
        "id": "K3yGjfLsfqhm",
        "outputId": "b34f27d6-b49a-4d3e-916c-7e2981fd441d"
      },
      "source": [
        "x_new.columns[0]"
      ],
      "execution_count": 17,
      "outputs": [
        {
          "output_type": "execute_result",
          "data": {
            "application/vnd.google.colaboratory.intrinsic+json": {
              "type": "string"
            },
            "text/plain": [
              "'Podatek_paliwowy'"
            ]
          },
          "metadata": {},
          "execution_count": 17
        }
      ]
    },
    {
      "cell_type": "code",
      "metadata": {
        "colab": {
          "base_uri": "https://localhost:8080/",
          "height": 1000
        },
        "id": "3uon5xjTqFEH",
        "outputId": "24693285-13ef-4e30-89e0-a1df4a9be492"
      },
      "source": [
        "from sklearn import datasets, linear_model, metrics\n",
        "\n",
        "x_new = data_petrol[['Podatek_paliwowy', 'Sredni_przychod', 'Utwardzone_autostrady', 'Procent_ludnosci_z_prawem_jazdy']]\n",
        "X_train, X_test, y_train, y_test = train_test_split(x_new, y, train_size=0.3)\n",
        "\n",
        "regr = linear_model.LinearRegression().fit(X_train, y_train)\n",
        "y_pred = regr.predict(X_test)\n",
        "\n",
        "print(\"regr.coef_: {}\\n\".format(regr.coef_))\n",
        "print(\"regr.intercept_: {}\\n\".format(regr.intercept_))\n",
        "\n",
        "fig = plt.figure(figsize = (8, 6))\n",
        "\n",
        "plt.scatter(x_new['Podatek_paliwowy'], y)\n",
        "plt.scatter(x_new['Sredni_przychod'], y)\n",
        "plt.scatter(x_new['Utwardzone_autostrady'], y)\n",
        "plt.scatter(x_new['Procent_ludnosci_z_prawem_jazdy'], y)\n",
        "\n",
        "plt1 = pd.DataFrame({'Test_data': X_test['Podatek_paliwowy'], 'Predicted': y_pred})\n",
        "plt1 = plt1.sort_values(\"Test_data\")\n",
        "\n",
        "plt2 = pd.DataFrame({'Test_data': X_test['Sredni_przychod'], 'Predicted': y_pred})\n",
        "plt2 = plt2.sort_values(\"Test_data\")\n",
        "\n",
        "plt3 = pd.DataFrame({'Test_data': X_test['Utwardzone_autostrady'], 'Predicted': y_pred})\n",
        "plt3 = plt3.sort_values(\"Test_data\")\n",
        "\n",
        "plt4 = pd.DataFrame({'Test_data': X_test['Procent_ludnosci_z_prawem_jazdy'], 'Predicted': y_pred})\n",
        "plt4 = plt4.sort_values(\"Test_data\")\n",
        "\n",
        "plt.plot(plt1[['Test_data']], plt1[['Predicted']], label='Podatek_paliwowy')\n",
        "plt.plot(plt2[['Test_data']], plt2[['Predicted']], label='Sredni_przychod')\n",
        "plt.plot(plt3[['Test_data']], plt3[['Predicted']], label='Utwardzone_autostrady')\n",
        "plt.plot(plt4[['Test_data']], plt4[['Predicted']], label='Procent_ludnosci_z_prawem_jazdy')\n",
        "\n",
        "plt.grid(True)\n",
        "plt.title(\"Scatter plot for PETROL.csv\")\n",
        "plt.xlabel(\"Indepentend values\")\n",
        "plt.ylabel(\"Dependant value - Zużycie paliwa\")\n",
        "plt.legend()\n",
        "plt.show()\n",
        "\n",
        "subtraction = y_pred - y_test\n",
        "df = pd.DataFrame({'Predicted': y_pred, 'Actual': y_test, 'Difference': subtraction})\n",
        "print(df,'\\n')\n",
        "\n",
        "error_absol = np.mean(np.abs(y_pred - y_test))\n",
        "print(\"Mean Absolute Error: {}\\n\".format(error_absol))\n",
        "\n",
        "error_squar = np.mean((y_pred - y_test) ** 2)\n",
        "print(\"Mean Squared Error: {}\\n\".format(error_squar))\n",
        "\n",
        "error_sqrt = np.sqrt(np.mean((y_pred - y_test) ** 2))\n",
        "print(\"Root Mean Squared Error: {}\\n\".format(error_sqrt))"
      ],
      "execution_count": 18,
      "outputs": [
        {
          "output_type": "stream",
          "name": "stdout",
          "text": [
            "regr.coef_: [-4.56009027e+01 -7.33202459e-02 -9.79966704e-03  9.62081940e+02]\n",
            "\n",
            "regr.intercept_: 748.9473985887018\n",
            "\n"
          ]
        },
        {
          "output_type": "display_data",
          "data": {
            "image/png": "[encoded data removed]",
            "text/plain": [
              "<Figure size 576x432 with 1 Axes>"
            ]
          },
          "metadata": {
            "needs_background": "light"
          }
        },
        {
          "output_type": "stream",
          "name": "stdout",
          "text": [
            "     Predicted  Actual  Difference\n",
            "2   597.621777     561   36.621777\n",
            "11  397.175990     471  -73.824010\n",
            "17  630.357226     714  -83.642774\n",
            "31  614.293731     554   60.293731\n",
            "30  593.547129     571   22.547129\n",
            "47  537.529861     524   13.529861\n",
            "26  605.644470     577   28.644470\n",
            "8   482.974645     464   18.974645\n",
            "35  698.508832     644   54.508832\n",
            "32  651.710597     577   74.710597\n",
            "23  477.816790     547  -69.183210\n",
            "36  594.643189     640  -45.356811\n",
            "39  719.415975     968 -248.584025\n",
            "3   535.773360     414  121.773360\n",
            "4   580.753334     410  170.753334\n",
            "28  560.174109     574  -13.825891\n",
            "0   562.441552     541   21.441552\n",
            "13  581.135653     508   73.135653\n",
            "12  560.880796     525   35.880796\n",
            "33  646.678956     628   18.678956\n",
            "21  592.059320     540   52.059320\n",
            "24  530.414742     460   70.414742\n",
            "40  660.341945     587   73.341945\n",
            "7   519.380221     467   52.380221\n",
            "20  654.070925     649    5.070925\n",
            "10  513.894183     580  -66.105817\n",
            "34  559.750418     487   72.750418\n",
            "15  575.595717     635  -59.404283\n",
            "43  618.307454     591   27.307454\n",
            "38  700.596848     648   52.596848\n",
            "6   311.746295     344  -32.253705\n",
            "18  722.545094     865 -142.454906\n",
            "22  447.114517     464  -16.885483\n",
            "41  664.282720     699  -34.717280 \n",
            "\n",
            "Mean Absolute Error: 60.10749295465686\n",
            "\n",
            "Mean Squared Error: 5983.855445481057\n",
            "\n",
            "Root Mean Squared Error: 77.35538407558363\n",
            "\n"
          ]
        }
      ]
    },
    {
      "cell_type": "markdown",
      "metadata": {
        "id": "4d_9_RzPvx2e"
      },
      "source": [
        "# **Zadanie 3**"
      ]
    },
    {
      "cell_type": "markdown",
      "metadata": {
        "id": "h1UOkKhRv65u"
      },
      "source": [
        "### **Polecenie:**"
      ]
    },
    {
      "cell_type": "markdown",
      "metadata": {
        "id": "qHPYIvfiwCBG"
      },
      "source": [
        "Na podstawie danych zawartych w pliku HEART.csv wykonaj i oceń regresję logistyczną, gdzie Twoją daną zależną jest kolumna \"num\". Wykonanie zadania powinno składać się z następujących kroków:\n",
        "\n",
        "1. Zaimportowanie niezbędnych bibliotek w szczególności tych tworzących modele liniowe z \"scikit-learn\", a także biblioteki do operacji na danych oraz tworzenia wykresów.\n",
        "\n",
        "2. Odczytanie danych z pliku HEART.csv. Pomocne w interpretacji danych są metody: head(), describe(), shape.\n",
        "\n",
        "3. Przetworzenie danych, tj: oznaczenie braku danych (\"?\") na NaN, usunięcię kolumn zawierających zbyt dużo brakujących danych (3 kolumny), usunięcie wierszy z brakującymi wartościami.\n",
        "\n",
        "4. Zakoduj niezależne zmienne kategorialne np: jako wartości \"dummy\", za pomoca metody get_dummies(). Zmienne kategorialne to takie, które reprezentuja przynależność do kategorii. W przypadku naszych odfiltrowanych danych będą to kolumny: cp, restecg, fbs, sex, exang. Jako, że trzy ostatnie już zapisane są w formie 0 i 1 tylko cp i restecg wymagają tej operacji.\n",
        "\n",
        "5. Dokonaj podziału danych na zbiory danych niezależnych (wejściowe, X) oraz zależnych (wyjściowe, y) dla swojego modelu, a następnie podziel zbiór na dane testowe i treningowe (20%).\n",
        "\n",
        "6. Utwróz model regresji logistycznej.\n",
        "\n",
        "7. Oceń wynik za pomocą dostępnych metryk (np: metody związane z modelem czy classification_report() z sklearn)\n",
        "\n",
        "Możesz również spróbować ustandaryzować dane (np: poprzez skalowanie) po podziale na zbiory treningowy i testowy."
      ]
    },
    {
      "cell_type": "markdown",
      "metadata": {
        "id": "ywIty4tZwOz8"
      },
      "source": [
        "### **Kod**"
      ]
    },
    {
      "cell_type": "code",
      "metadata": {
        "colab": {
          "base_uri": "https://localhost:8080/",
          "height": 206
        },
        "id": "fX1VOFEdv12D",
        "outputId": "886964af-2168-41b7-fba5-028611f7c417"
      },
      "source": [
        "# 2. Odczytanie danych z pliku HEART.csv. Pomocne w interpretacji danych są metody: head(), describe(), shape.\n",
        "data_heart = pd.read_csv(\"/content/drive/MyDrive/Bazy danych/Lab7/HEART.csv\", na_values='?') #3. Przetworzenie danych, \n",
        "                                                                                            #tj: oznaczenie braku danych (\"?\") na NaN\n",
        "data_heart.head()"
      ],
      "execution_count": 20,
      "outputs": [
        {
          "output_type": "execute_result",
          "data": {
            "text/html": [
              "<div>\n",
              "<style scoped>\n",
              "    .dataframe tbody tr th:only-of-type {\n",
              "        vertical-align: middle;\n",
              "    }\n",
              "\n",
              "    .dataframe tbody tr th {\n",
              "        vertical-align: top;\n",
              "    }\n",
              "\n",
              "    .dataframe thead th {\n",
              "        text-align: right;\n",
              "    }\n",
              "</style>\n",
              "<table border=\"1\" class=\"dataframe\">\n",
              "  <thead>\n",
              "    <tr style=\"text-align: right;\">\n",
              "      <th></th>\n",
              "      <th>age</th>\n",
              "      <th>sex</th>\n",
              "      <th>cp</th>\n",
              "      <th>trestbps</th>\n",
              "      <th>chol</th>\n",
              "      <th>fbs</th>\n",
              "      <th>restecg</th>\n",
              "      <th>thalach</th>\n",
              "      <th>exang</th>\n",
              "      <th>oldpeak</th>\n",
              "      <th>slope</th>\n",
              "      <th>ca</th>\n",
              "      <th>thal</th>\n",
              "      <th>num</th>\n",
              "    </tr>\n",
              "  </thead>\n",
              "  <tbody>\n",
              "    <tr>\n",
              "      <th>0</th>\n",
              "      <td>28</td>\n",
              "      <td>1</td>\n",
              "      <td>2</td>\n",
              "      <td>130.0</td>\n",
              "      <td>132.0</td>\n",
              "      <td>0.0</td>\n",
              "      <td>2.0</td>\n",
              "      <td>185.0</td>\n",
              "      <td>0.0</td>\n",
              "      <td>0.0</td>\n",
              "      <td>NaN</td>\n",
              "      <td>NaN</td>\n",
              "      <td>NaN</td>\n",
              "      <td>0</td>\n",
              "    </tr>\n",
              "    <tr>\n",
              "      <th>1</th>\n",
              "      <td>29</td>\n",
              "      <td>1</td>\n",
              "      <td>2</td>\n",
              "      <td>120.0</td>\n",
              "      <td>243.0</td>\n",
              "      <td>0.0</td>\n",
              "      <td>0.0</td>\n",
              "      <td>160.0</td>\n",
              "      <td>0.0</td>\n",
              "      <td>0.0</td>\n",
              "      <td>NaN</td>\n",
              "      <td>NaN</td>\n",
              "      <td>NaN</td>\n",
              "      <td>0</td>\n",
              "    </tr>\n",
              "    <tr>\n",
              "      <th>2</th>\n",
              "      <td>29</td>\n",
              "      <td>1</td>\n",
              "      <td>2</td>\n",
              "      <td>140.0</td>\n",
              "      <td>NaN</td>\n",
              "      <td>0.0</td>\n",
              "      <td>0.0</td>\n",
              "      <td>170.0</td>\n",
              "      <td>0.0</td>\n",
              "      <td>0.0</td>\n",
              "      <td>NaN</td>\n",
              "      <td>NaN</td>\n",
              "      <td>NaN</td>\n",
              "      <td>0</td>\n",
              "    </tr>\n",
              "    <tr>\n",
              "      <th>3</th>\n",
              "      <td>30</td>\n",
              "      <td>0</td>\n",
              "      <td>1</td>\n",
              "      <td>170.0</td>\n",
              "      <td>237.0</td>\n",
              "      <td>0.0</td>\n",
              "      <td>1.0</td>\n",
              "      <td>170.0</td>\n",
              "      <td>0.0</td>\n",
              "      <td>0.0</td>\n",
              "      <td>NaN</td>\n",
              "      <td>NaN</td>\n",
              "      <td>6.0</td>\n",
              "      <td>0</td>\n",
              "    </tr>\n",
              "    <tr>\n",
              "      <th>4</th>\n",
              "      <td>31</td>\n",
              "      <td>0</td>\n",
              "      <td>2</td>\n",
              "      <td>100.0</td>\n",
              "      <td>219.0</td>\n",
              "      <td>0.0</td>\n",
              "      <td>1.0</td>\n",
              "      <td>150.0</td>\n",
              "      <td>0.0</td>\n",
              "      <td>0.0</td>\n",
              "      <td>NaN</td>\n",
              "      <td>NaN</td>\n",
              "      <td>NaN</td>\n",
              "      <td>0</td>\n",
              "    </tr>\n",
              "  </tbody>\n",
              "</table>\n",
              "</div>"
            ],
            "text/plain": [
              "   age  sex  cp  trestbps   chol  ...  oldpeak  slope  ca  thal  num       \n",
              "0   28    1   2     130.0  132.0  ...      0.0    NaN NaN   NaN           0\n",
              "1   29    1   2     120.0  243.0  ...      0.0    NaN NaN   NaN           0\n",
              "2   29    1   2     140.0    NaN  ...      0.0    NaN NaN   NaN           0\n",
              "3   30    0   1     170.0  237.0  ...      0.0    NaN NaN   6.0           0\n",
              "4   31    0   2     100.0  219.0  ...      0.0    NaN NaN   NaN           0\n",
              "\n",
              "[5 rows x 14 columns]"
            ]
          },
          "metadata": {},
          "execution_count": 20
        }
      ]
    },
    {
      "cell_type": "code",
      "metadata": {
        "colab": {
          "base_uri": "https://localhost:8080/",
          "height": 423
        },
        "id": "e0Fms4fqxywY",
        "outputId": "d56c0873-bd9e-4cfe-bfe9-642fd6b739d1"
      },
      "source": [
        "#Usunięcię kolumn zawierających zbyt dużo brakujących danych (3 kolumny):\n",
        "data_heart = data_heart.drop(['slope', 'ca', 'thal'], axis = 1)\n",
        "\n",
        "#Usunięcie wierszy z brakującymi wartościami.\n",
        "data_heart = data_heart.dropna()\n",
        "\n",
        "data_heart"
      ],
      "execution_count": 21,
      "outputs": [
        {
          "output_type": "execute_result",
          "data": {
            "text/html": [
              "<div>\n",
              "<style scoped>\n",
              "    .dataframe tbody tr th:only-of-type {\n",
              "        vertical-align: middle;\n",
              "    }\n",
              "\n",
              "    .dataframe tbody tr th {\n",
              "        vertical-align: top;\n",
              "    }\n",
              "\n",
              "    .dataframe thead th {\n",
              "        text-align: right;\n",
              "    }\n",
              "</style>\n",
              "<table border=\"1\" class=\"dataframe\">\n",
              "  <thead>\n",
              "    <tr style=\"text-align: right;\">\n",
              "      <th></th>\n",
              "      <th>age</th>\n",
              "      <th>sex</th>\n",
              "      <th>cp</th>\n",
              "      <th>trestbps</th>\n",
              "      <th>chol</th>\n",
              "      <th>fbs</th>\n",
              "      <th>restecg</th>\n",
              "      <th>thalach</th>\n",
              "      <th>exang</th>\n",
              "      <th>oldpeak</th>\n",
              "      <th>num</th>\n",
              "    </tr>\n",
              "  </thead>\n",
              "  <tbody>\n",
              "    <tr>\n",
              "      <th>0</th>\n",
              "      <td>28</td>\n",
              "      <td>1</td>\n",
              "      <td>2</td>\n",
              "      <td>130.0</td>\n",
              "      <td>132.0</td>\n",
              "      <td>0.0</td>\n",
              "      <td>2.0</td>\n",
              "      <td>185.0</td>\n",
              "      <td>0.0</td>\n",
              "      <td>0.0</td>\n",
              "      <td>0</td>\n",
              "    </tr>\n",
              "    <tr>\n",
              "      <th>1</th>\n",
              "      <td>29</td>\n",
              "      <td>1</td>\n",
              "      <td>2</td>\n",
              "      <td>120.0</td>\n",
              "      <td>243.0</td>\n",
              "      <td>0.0</td>\n",
              "      <td>0.0</td>\n",
              "      <td>160.0</td>\n",
              "      <td>0.0</td>\n",
              "      <td>0.0</td>\n",
              "      <td>0</td>\n",
              "    </tr>\n",
              "    <tr>\n",
              "      <th>3</th>\n",
              "      <td>30</td>\n",
              "      <td>0</td>\n",
              "      <td>1</td>\n",
              "      <td>170.0</td>\n",
              "      <td>237.0</td>\n",
              "      <td>0.0</td>\n",
              "      <td>1.0</td>\n",
              "      <td>170.0</td>\n",
              "      <td>0.0</td>\n",
              "      <td>0.0</td>\n",
              "      <td>0</td>\n",
              "    </tr>\n",
              "    <tr>\n",
              "      <th>4</th>\n",
              "      <td>31</td>\n",
              "      <td>0</td>\n",
              "      <td>2</td>\n",
              "      <td>100.0</td>\n",
              "      <td>219.0</td>\n",
              "      <td>0.0</td>\n",
              "      <td>1.0</td>\n",
              "      <td>150.0</td>\n",
              "      <td>0.0</td>\n",
              "      <td>0.0</td>\n",
              "      <td>0</td>\n",
              "    </tr>\n",
              "    <tr>\n",
              "      <th>5</th>\n",
              "      <td>32</td>\n",
              "      <td>0</td>\n",
              "      <td>2</td>\n",
              "      <td>105.0</td>\n",
              "      <td>198.0</td>\n",
              "      <td>0.0</td>\n",
              "      <td>0.0</td>\n",
              "      <td>165.0</td>\n",
              "      <td>0.0</td>\n",
              "      <td>0.0</td>\n",
              "      <td>0</td>\n",
              "    </tr>\n",
              "    <tr>\n",
              "      <th>...</th>\n",
              "      <td>...</td>\n",
              "      <td>...</td>\n",
              "      <td>...</td>\n",
              "      <td>...</td>\n",
              "      <td>...</td>\n",
              "      <td>...</td>\n",
              "      <td>...</td>\n",
              "      <td>...</td>\n",
              "      <td>...</td>\n",
              "      <td>...</td>\n",
              "      <td>...</td>\n",
              "    </tr>\n",
              "    <tr>\n",
              "      <th>289</th>\n",
              "      <td>52</td>\n",
              "      <td>1</td>\n",
              "      <td>4</td>\n",
              "      <td>160.0</td>\n",
              "      <td>331.0</td>\n",
              "      <td>0.0</td>\n",
              "      <td>0.0</td>\n",
              "      <td>94.0</td>\n",
              "      <td>1.0</td>\n",
              "      <td>2.5</td>\n",
              "      <td>1</td>\n",
              "    </tr>\n",
              "    <tr>\n",
              "      <th>290</th>\n",
              "      <td>54</td>\n",
              "      <td>0</td>\n",
              "      <td>3</td>\n",
              "      <td>130.0</td>\n",
              "      <td>294.0</td>\n",
              "      <td>0.0</td>\n",
              "      <td>1.0</td>\n",
              "      <td>100.0</td>\n",
              "      <td>1.0</td>\n",
              "      <td>0.0</td>\n",
              "      <td>1</td>\n",
              "    </tr>\n",
              "    <tr>\n",
              "      <th>291</th>\n",
              "      <td>56</td>\n",
              "      <td>1</td>\n",
              "      <td>4</td>\n",
              "      <td>155.0</td>\n",
              "      <td>342.0</td>\n",
              "      <td>1.0</td>\n",
              "      <td>0.0</td>\n",
              "      <td>150.0</td>\n",
              "      <td>1.0</td>\n",
              "      <td>3.0</td>\n",
              "      <td>1</td>\n",
              "    </tr>\n",
              "    <tr>\n",
              "      <th>292</th>\n",
              "      <td>58</td>\n",
              "      <td>0</td>\n",
              "      <td>2</td>\n",
              "      <td>180.0</td>\n",
              "      <td>393.0</td>\n",
              "      <td>0.0</td>\n",
              "      <td>0.0</td>\n",
              "      <td>110.0</td>\n",
              "      <td>1.0</td>\n",
              "      <td>1.0</td>\n",
              "      <td>1</td>\n",
              "    </tr>\n",
              "    <tr>\n",
              "      <th>293</th>\n",
              "      <td>65</td>\n",
              "      <td>1</td>\n",
              "      <td>4</td>\n",
              "      <td>130.0</td>\n",
              "      <td>275.0</td>\n",
              "      <td>0.0</td>\n",
              "      <td>1.0</td>\n",
              "      <td>115.0</td>\n",
              "      <td>1.0</td>\n",
              "      <td>1.0</td>\n",
              "      <td>1</td>\n",
              "    </tr>\n",
              "  </tbody>\n",
              "</table>\n",
              "<p>261 rows × 11 columns</p>\n",
              "</div>"
            ],
            "text/plain": [
              "     age  sex  cp  trestbps  ...  thalach  exang  oldpeak  num       \n",
              "0     28    1   2     130.0  ...    185.0    0.0      0.0           0\n",
              "1     29    1   2     120.0  ...    160.0    0.0      0.0           0\n",
              "3     30    0   1     170.0  ...    170.0    0.0      0.0           0\n",
              "4     31    0   2     100.0  ...    150.0    0.0      0.0           0\n",
              "5     32    0   2     105.0  ...    165.0    0.0      0.0           0\n",
              "..   ...  ...  ..       ...  ...      ...    ...      ...         ...\n",
              "289   52    1   4     160.0  ...     94.0    1.0      2.5           1\n",
              "290   54    0   3     130.0  ...    100.0    1.0      0.0           1\n",
              "291   56    1   4     155.0  ...    150.0    1.0      3.0           1\n",
              "292   58    0   2     180.0  ...    110.0    1.0      1.0           1\n",
              "293   65    1   4     130.0  ...    115.0    1.0      1.0           1\n",
              "\n",
              "[261 rows x 11 columns]"
            ]
          },
          "metadata": {},
          "execution_count": 21
        }
      ]
    },
    {
      "cell_type": "code",
      "metadata": {
        "colab": {
          "base_uri": "https://localhost:8080/"
        },
        "id": "GWJV-e_az2Bf",
        "outputId": "bf571d25-e84d-4831-8de1-af481c1e453c"
      },
      "source": [
        "data_heart.info()"
      ],
      "execution_count": 22,
      "outputs": [
        {
          "output_type": "stream",
          "name": "stdout",
          "text": [
            "<class 'pandas.core.frame.DataFrame'>\n",
            "Int64Index: 261 entries, 0 to 293\n",
            "Data columns (total 11 columns):\n",
            " #   Column      Non-Null Count  Dtype  \n",
            "---  ------      --------------  -----  \n",
            " 0   age         261 non-null    int64  \n",
            " 1   sex         261 non-null    int64  \n",
            " 2   cp          261 non-null    int64  \n",
            " 3   trestbps    261 non-null    float64\n",
            " 4   chol        261 non-null    float64\n",
            " 5   fbs         261 non-null    float64\n",
            " 6   restecg     261 non-null    float64\n",
            " 7   thalach     261 non-null    float64\n",
            " 8   exang       261 non-null    float64\n",
            " 9   oldpeak     261 non-null    float64\n",
            " 10  num         261 non-null    int64  \n",
            "dtypes: float64(7), int64(4)\n",
            "memory usage: 24.5 KB\n"
          ]
        }
      ]
    },
    {
      "cell_type": "code",
      "metadata": {
        "colab": {
          "base_uri": "https://localhost:8080/",
          "height": 423
        },
        "id": "l-r1s9F80kCB",
        "outputId": "d1e4ea52-f35e-47c1-a2c2-73919973e015"
      },
      "source": [
        "#4. Zakoduj niezależne zmienne kategorialne np: jako wartości \"dummy\", za pomoca metody get_dummies(). \n",
        "#(kolumny: cp, restecg, fbs, sex, exang. Jako, że trzy ostatnie już zapisane są w formie 0 i 1 tylko cp i restecg wymagają tej operacji.)\n",
        "data_heart['cp'].value_counts(dropna=False)\n",
        "data_heart['restecg'].value_counts(dropna=False)\n",
        "\n",
        "data_heart = pd.get_dummies(data_heart, columns=['cp', 'restecg'], drop_first=True)\n",
        "data_heart"
      ],
      "execution_count": 23,
      "outputs": [
        {
          "output_type": "execute_result",
          "data": {
            "text/html": [
              "<div>\n",
              "<style scoped>\n",
              "    .dataframe tbody tr th:only-of-type {\n",
              "        vertical-align: middle;\n",
              "    }\n",
              "\n",
              "    .dataframe tbody tr th {\n",
              "        vertical-align: top;\n",
              "    }\n",
              "\n",
              "    .dataframe thead th {\n",
              "        text-align: right;\n",
              "    }\n",
              "</style>\n",
              "<table border=\"1\" class=\"dataframe\">\n",
              "  <thead>\n",
              "    <tr style=\"text-align: right;\">\n",
              "      <th></th>\n",
              "      <th>age</th>\n",
              "      <th>sex</th>\n",
              "      <th>trestbps</th>\n",
              "      <th>chol</th>\n",
              "      <th>fbs</th>\n",
              "      <th>thalach</th>\n",
              "      <th>exang</th>\n",
              "      <th>oldpeak</th>\n",
              "      <th>num</th>\n",
              "      <th>cp_2</th>\n",
              "      <th>cp_3</th>\n",
              "      <th>cp_4</th>\n",
              "      <th>restecg_1.0</th>\n",
              "      <th>restecg_2.0</th>\n",
              "    </tr>\n",
              "  </thead>\n",
              "  <tbody>\n",
              "    <tr>\n",
              "      <th>0</th>\n",
              "      <td>28</td>\n",
              "      <td>1</td>\n",
              "      <td>130.0</td>\n",
              "      <td>132.0</td>\n",
              "      <td>0.0</td>\n",
              "      <td>185.0</td>\n",
              "      <td>0.0</td>\n",
              "      <td>0.0</td>\n",
              "      <td>0</td>\n",
              "      <td>1</td>\n",
              "      <td>0</td>\n",
              "      <td>0</td>\n",
              "      <td>0</td>\n",
              "      <td>1</td>\n",
              "    </tr>\n",
              "    <tr>\n",
              "      <th>1</th>\n",
              "      <td>29</td>\n",
              "      <td>1</td>\n",
              "      <td>120.0</td>\n",
              "      <td>243.0</td>\n",
              "      <td>0.0</td>\n",
              "      <td>160.0</td>\n",
              "      <td>0.0</td>\n",
              "      <td>0.0</td>\n",
              "      <td>0</td>\n",
              "      <td>1</td>\n",
              "      <td>0</td>\n",
              "      <td>0</td>\n",
              "      <td>0</td>\n",
              "      <td>0</td>\n",
              "    </tr>\n",
              "    <tr>\n",
              "      <th>3</th>\n",
              "      <td>30</td>\n",
              "      <td>0</td>\n",
              "      <td>170.0</td>\n",
              "      <td>237.0</td>\n",
              "      <td>0.0</td>\n",
              "      <td>170.0</td>\n",
              "      <td>0.0</td>\n",
              "      <td>0.0</td>\n",
              "      <td>0</td>\n",
              "      <td>0</td>\n",
              "      <td>0</td>\n",
              "      <td>0</td>\n",
              "      <td>1</td>\n",
              "      <td>0</td>\n",
              "    </tr>\n",
              "    <tr>\n",
              "      <th>4</th>\n",
              "      <td>31</td>\n",
              "      <td>0</td>\n",
              "      <td>100.0</td>\n",
              "      <td>219.0</td>\n",
              "      <td>0.0</td>\n",
              "      <td>150.0</td>\n",
              "      <td>0.0</td>\n",
              "      <td>0.0</td>\n",
              "      <td>0</td>\n",
              "      <td>1</td>\n",
              "      <td>0</td>\n",
              "      <td>0</td>\n",
              "      <td>1</td>\n",
              "      <td>0</td>\n",
              "    </tr>\n",
              "    <tr>\n",
              "      <th>5</th>\n",
              "      <td>32</td>\n",
              "      <td>0</td>\n",
              "      <td>105.0</td>\n",
              "      <td>198.0</td>\n",
              "      <td>0.0</td>\n",
              "      <td>165.0</td>\n",
              "      <td>0.0</td>\n",
              "      <td>0.0</td>\n",
              "      <td>0</td>\n",
              "      <td>1</td>\n",
              "      <td>0</td>\n",
              "      <td>0</td>\n",
              "      <td>0</td>\n",
              "      <td>0</td>\n",
              "    </tr>\n",
              "    <tr>\n",
              "      <th>...</th>\n",
              "      <td>...</td>\n",
              "      <td>...</td>\n",
              "      <td>...</td>\n",
              "      <td>...</td>\n",
              "      <td>...</td>\n",
              "      <td>...</td>\n",
              "      <td>...</td>\n",
              "      <td>...</td>\n",
              "      <td>...</td>\n",
              "      <td>...</td>\n",
              "      <td>...</td>\n",
              "      <td>...</td>\n",
              "      <td>...</td>\n",
              "      <td>...</td>\n",
              "    </tr>\n",
              "    <tr>\n",
              "      <th>289</th>\n",
              "      <td>52</td>\n",
              "      <td>1</td>\n",
              "      <td>160.0</td>\n",
              "      <td>331.0</td>\n",
              "      <td>0.0</td>\n",
              "      <td>94.0</td>\n",
              "      <td>1.0</td>\n",
              "      <td>2.5</td>\n",
              "      <td>1</td>\n",
              "      <td>0</td>\n",
              "      <td>0</td>\n",
              "      <td>1</td>\n",
              "      <td>0</td>\n",
              "      <td>0</td>\n",
              "    </tr>\n",
              "    <tr>\n",
              "      <th>290</th>\n",
              "      <td>54</td>\n",
              "      <td>0</td>\n",
              "      <td>130.0</td>\n",
              "      <td>294.0</td>\n",
              "      <td>0.0</td>\n",
              "      <td>100.0</td>\n",
              "      <td>1.0</td>\n",
              "      <td>0.0</td>\n",
              "      <td>1</td>\n",
              "      <td>0</td>\n",
              "      <td>1</td>\n",
              "      <td>0</td>\n",
              "      <td>1</td>\n",
              "      <td>0</td>\n",
              "    </tr>\n",
              "    <tr>\n",
              "      <th>291</th>\n",
              "      <td>56</td>\n",
              "      <td>1</td>\n",
              "      <td>155.0</td>\n",
              "      <td>342.0</td>\n",
              "      <td>1.0</td>\n",
              "      <td>150.0</td>\n",
              "      <td>1.0</td>\n",
              "      <td>3.0</td>\n",
              "      <td>1</td>\n",
              "      <td>0</td>\n",
              "      <td>0</td>\n",
              "      <td>1</td>\n",
              "      <td>0</td>\n",
              "      <td>0</td>\n",
              "    </tr>\n",
              "    <tr>\n",
              "      <th>292</th>\n",
              "      <td>58</td>\n",
              "      <td>0</td>\n",
              "      <td>180.0</td>\n",
              "      <td>393.0</td>\n",
              "      <td>0.0</td>\n",
              "      <td>110.0</td>\n",
              "      <td>1.0</td>\n",
              "      <td>1.0</td>\n",
              "      <td>1</td>\n",
              "      <td>1</td>\n",
              "      <td>0</td>\n",
              "      <td>0</td>\n",
              "      <td>0</td>\n",
              "      <td>0</td>\n",
              "    </tr>\n",
              "    <tr>\n",
              "      <th>293</th>\n",
              "      <td>65</td>\n",
              "      <td>1</td>\n",
              "      <td>130.0</td>\n",
              "      <td>275.0</td>\n",
              "      <td>0.0</td>\n",
              "      <td>115.0</td>\n",
              "      <td>1.0</td>\n",
              "      <td>1.0</td>\n",
              "      <td>1</td>\n",
              "      <td>0</td>\n",
              "      <td>0</td>\n",
              "      <td>1</td>\n",
              "      <td>1</td>\n",
              "      <td>0</td>\n",
              "    </tr>\n",
              "  </tbody>\n",
              "</table>\n",
              "<p>261 rows × 14 columns</p>\n",
              "</div>"
            ],
            "text/plain": [
              "     age  sex  trestbps   chol  fbs  ...  cp_2  cp_3  cp_4  restecg_1.0  restecg_2.0\n",
              "0     28    1     130.0  132.0  0.0  ...     1     0     0            0            1\n",
              "1     29    1     120.0  243.0  0.0  ...     1     0     0            0            0\n",
              "3     30    0     170.0  237.0  0.0  ...     0     0     0            1            0\n",
              "4     31    0     100.0  219.0  0.0  ...     1     0     0            1            0\n",
              "5     32    0     105.0  198.0  0.0  ...     1     0     0            0            0\n",
              "..   ...  ...       ...    ...  ...  ...   ...   ...   ...          ...          ...\n",
              "289   52    1     160.0  331.0  0.0  ...     0     0     1            0            0\n",
              "290   54    0     130.0  294.0  0.0  ...     0     1     0            1            0\n",
              "291   56    1     155.0  342.0  1.0  ...     0     0     1            0            0\n",
              "292   58    0     180.0  393.0  0.0  ...     1     0     0            0            0\n",
              "293   65    1     130.0  275.0  0.0  ...     0     0     1            1            0\n",
              "\n",
              "[261 rows x 14 columns]"
            ]
          },
          "metadata": {},
          "execution_count": 23
        }
      ]
    },
    {
      "cell_type": "code",
      "metadata": {
        "colab": {
          "base_uri": "https://localhost:8080/",
          "height": 506
        },
        "id": "tcOS5oHL20qC",
        "outputId": "e070ed5a-e5bd-4770-cbb4-facaf870beac"
      },
      "source": [
        "#5. Dokonaj podziału danych na zbiory danych niezależnych (wejściowe, X) oraz zależnych (wyjściowe, y) dla swojego modelu\n",
        "#A następnie podziel zbiór na dane testowe i treningowe (20%):\n",
        "\n",
        "from sklearn.preprocessing import StandardScaler\n",
        "heart_train, heart_test = train_test_split(data_heart, train_size=0.2, random_state=1, stratify=data_heart['num       '])\n",
        "\n",
        "print(heart_train.shape)\n",
        "print(heart_test.shape)\n",
        "print(heart_train['num       '].value_counts(normalize=True))\n",
        "print(heart_test['num       '].value_counts(normalize=True))\n",
        "\n",
        "\n",
        "#6. Utwróz model regresji logistycznej.\n",
        "num_cols = ['age', 'trestbps', 'chol', 'thalach', 'oldpeak']\n",
        "cat_cols = list(set(data_heart.columns) - set(num_cols) - {'num       '})\n",
        "cat_cols.sort()\n",
        "\n",
        "def feat_target(data_heart, num_cols, cat_cols, scaler):\n",
        "    scaler = StandardScaler()\n",
        "    scaler.fit(heart_train[num_cols])\n",
        "    X_num_scaled = scaler.transform(data_heart[num_cols])\n",
        "    X_cat = data_heart[cat_cols].to_numpy()\n",
        "    X = np.hstack((X_cat, X_num_scaled))\n",
        "    y = data_heart['num       ']\n",
        "    return X, y\n",
        "\n",
        "scaler = StandardScaler()\n",
        "scaler.fit(heart_train[num_cols])\n",
        "\n",
        "X, y = feat_target(heart_train, num_cols, cat_cols, scaler)\n",
        "linear_mod = linear_model.LogisticRegression(penalty='none').fit(X, y)\n",
        "\n",
        "X_test, y_test = feat_target(heart_test, num_cols, cat_cols, scaler)\n",
        "metrics.plot_roc_curve(linear_mod, X_test, y_test)\n",
        "plt.grid(True)\n",
        "plt.title('Receiver operating characteristic curve')"
      ],
      "execution_count": 24,
      "outputs": [
        {
          "output_type": "stream",
          "name": "stdout",
          "text": [
            "(52, 14)\n",
            "(209, 14)\n",
            "0    0.615385\n",
            "1    0.384615\n",
            "Name: num       , dtype: float64\n",
            "0    0.626794\n",
            "1    0.373206\n",
            "Name: num       , dtype: float64\n"
          ]
        },
        {
          "output_type": "stream",
          "name": "stderr",
          "text": [
            "/usr/local/lib/python3.7/dist-packages/sklearn/utils/deprecation.py:87: FutureWarning: Function plot_roc_curve is deprecated; Function `plot_roc_curve` is deprecated in 1.0 and will be removed in 1.2. Use one of the class methods: RocCurveDisplay.from_predictions or RocCurveDisplay.from_estimator.\n",
            "  warnings.warn(msg, category=FutureWarning)\n"
          ]
        },
        {
          "output_type": "execute_result",
          "data": {
            "text/plain": [
              "Text(0.5, 1.0, 'Receiver operating characteristic curve')"
            ]
          },
          "metadata": {},
          "execution_count": 24
        },
        {
          "output_type": "display_data",
          "data": {
            "image/png": "[encoded data removed]",
            "text/plain": [
              "<Figure size 432x288 with 1 Axes>"
            ]
          },
          "metadata": {
            "needs_background": "light"
          }
        }
      ]
    },
    {
      "cell_type": "code",
      "metadata": {
        "colab": {
          "base_uri": "https://localhost:8080/",
          "height": 367
        },
        "id": "kLXSPWOw6zCY",
        "outputId": "3c330bb7-cf60-439a-ea47-ad7df7c33071"
      },
      "source": [
        "metrics.plot_precision_recall_curve(linear_mod, X_test, y_test)\n",
        "plt.grid(True)\n",
        "plt.title('Precission recall curve')"
      ],
      "execution_count": 25,
      "outputs": [
        {
          "output_type": "stream",
          "name": "stderr",
          "text": [
            "/usr/local/lib/python3.7/dist-packages/sklearn/utils/deprecation.py:87: FutureWarning: Function plot_precision_recall_curve is deprecated; Function `plot_precision_recall_curve` is deprecated in 1.0 and will be removed in 1.2. Use one of the class methods: PrecisionRecallDisplay.from_predictions or PrecisionRecallDisplay.from_estimator.\n",
            "  warnings.warn(msg, category=FutureWarning)\n"
          ]
        },
        {
          "output_type": "execute_result",
          "data": {
            "text/plain": [
              "Text(0.5, 1.0, 'Precission recall curve')"
            ]
          },
          "metadata": {},
          "execution_count": 25
        },
        {
          "output_type": "display_data",
          "data": {
            "image/png": "[encoded data removed]",
            "text/plain": [
              "<Figure size 432x288 with 1 Axes>"
            ]
          },
          "metadata": {
            "needs_background": "light"
          }
        }
      ]
    },
    {
      "cell_type": "code",
      "metadata": {
        "colab": {
          "base_uri": "https://localhost:8080/",
          "height": 488
        },
        "id": "BwXaQbPJ-Jac",
        "outputId": "0abd6461-b076-427f-d3c3-095537b7b738"
      },
      "source": [
        "coeff = np.hstack((linear_mod.intercept_, linear_mod.coef_[0]))\n",
        "pd.DataFrame(data={'variable': ['intercept'] + cat_cols + num_cols, 'coefficient': coeff})"
      ],
      "execution_count": 26,
      "outputs": [
        {
          "output_type": "execute_result",
          "data": {
            "text/html": [
              "<div>\n",
              "<style scoped>\n",
              "    .dataframe tbody tr th:only-of-type {\n",
              "        vertical-align: middle;\n",
              "    }\n",
              "\n",
              "    .dataframe tbody tr th {\n",
              "        vertical-align: top;\n",
              "    }\n",
              "\n",
              "    .dataframe thead th {\n",
              "        text-align: right;\n",
              "    }\n",
              "</style>\n",
              "<table border=\"1\" class=\"dataframe\">\n",
              "  <thead>\n",
              "    <tr style=\"text-align: right;\">\n",
              "      <th></th>\n",
              "      <th>variable</th>\n",
              "      <th>coefficient</th>\n",
              "    </tr>\n",
              "  </thead>\n",
              "  <tbody>\n",
              "    <tr>\n",
              "      <th>0</th>\n",
              "      <td>intercept</td>\n",
              "      <td>-16.748372</td>\n",
              "    </tr>\n",
              "    <tr>\n",
              "      <th>1</th>\n",
              "      <td>cp_2</td>\n",
              "      <td>14.108772</td>\n",
              "    </tr>\n",
              "    <tr>\n",
              "      <th>2</th>\n",
              "      <td>cp_3</td>\n",
              "      <td>14.048337</td>\n",
              "    </tr>\n",
              "    <tr>\n",
              "      <th>3</th>\n",
              "      <td>cp_4</td>\n",
              "      <td>15.178087</td>\n",
              "    </tr>\n",
              "    <tr>\n",
              "      <th>4</th>\n",
              "      <td>exang</td>\n",
              "      <td>1.684843</td>\n",
              "    </tr>\n",
              "    <tr>\n",
              "      <th>5</th>\n",
              "      <td>fbs</td>\n",
              "      <td>0.000000</td>\n",
              "    </tr>\n",
              "    <tr>\n",
              "      <th>6</th>\n",
              "      <td>restecg_1.0</td>\n",
              "      <td>-0.867705</td>\n",
              "    </tr>\n",
              "    <tr>\n",
              "      <th>7</th>\n",
              "      <td>restecg_2.0</td>\n",
              "      <td>0.000000</td>\n",
              "    </tr>\n",
              "    <tr>\n",
              "      <th>8</th>\n",
              "      <td>sex</td>\n",
              "      <td>0.869788</td>\n",
              "    </tr>\n",
              "    <tr>\n",
              "      <th>9</th>\n",
              "      <td>age</td>\n",
              "      <td>-0.554903</td>\n",
              "    </tr>\n",
              "    <tr>\n",
              "      <th>10</th>\n",
              "      <td>trestbps</td>\n",
              "      <td>0.000374</td>\n",
              "    </tr>\n",
              "    <tr>\n",
              "      <th>11</th>\n",
              "      <td>chol</td>\n",
              "      <td>0.294637</td>\n",
              "    </tr>\n",
              "    <tr>\n",
              "      <th>12</th>\n",
              "      <td>thalach</td>\n",
              "      <td>-0.792085</td>\n",
              "    </tr>\n",
              "    <tr>\n",
              "      <th>13</th>\n",
              "      <td>oldpeak</td>\n",
              "      <td>0.752785</td>\n",
              "    </tr>\n",
              "  </tbody>\n",
              "</table>\n",
              "</div>"
            ],
            "text/plain": [
              "       variable  coefficient\n",
              "0     intercept   -16.748372\n",
              "1          cp_2    14.108772\n",
              "2          cp_3    14.048337\n",
              "3          cp_4    15.178087\n",
              "4         exang     1.684843\n",
              "5           fbs     0.000000\n",
              "6   restecg_1.0    -0.867705\n",
              "7   restecg_2.0     0.000000\n",
              "8           sex     0.869788\n",
              "9           age    -0.554903\n",
              "10     trestbps     0.000374\n",
              "11         chol     0.294637\n",
              "12      thalach    -0.792085\n",
              "13      oldpeak     0.752785"
            ]
          },
          "metadata": {},
          "execution_count": 26
        }
      ]
    },
    {
      "cell_type": "code",
      "metadata": {
        "colab": {
          "base_uri": "https://localhost:8080/"
        },
        "id": "Go7WEt4D9MUg",
        "outputId": "2d6910d7-4a5a-4954-95a8-724cc4b15501"
      },
      "source": [
        "test_probal = linear_mod.predict_proba(X_test)[:, 1]\n",
        "test_pred = linear_mod.predict(X_test)\n",
        "\n",
        "print('Accuracy = {:.5f}'.format(metrics.accuracy_score(y_test, test_pred)))   #0.5 as threshold\n",
        "print('Precision = {:.5f}'.format(metrics.precision_score(y_test, test_pred)))   #0.5 as threshold\n",
        "print('Recall = {:.5f}'.format(metrics.recall_score(y_test, test_pred)))   #0.5 as threshold\n",
        "print('F1 score = {:.5f}'.format(metrics.f1_score(y_test, test_pred)))   #0.5 as threshold\n",
        "\n",
        "print('\\nLog loss = {:.5f}'.format(metrics.log_loss(y_test, test_probal)))\n",
        "print('AUC = {:.5f}'.format(metrics.roc_auc_score(y_test, test_probal)))\n",
        "print('Average Precision = {:.5f}'.format(metrics.average_precision_score(y_test, test_probal)))\n",
        "\n",
        "print('\\nClassification Report \\n', metrics.classification_report(y_test, test_pred))"
      ],
      "execution_count": 27,
      "outputs": [
        {
          "output_type": "stream",
          "name": "stdout",
          "text": [
            "Accuracy = 0.82297\n",
            "Precision = 0.91837\n",
            "Recall = 0.57692\n",
            "F1 score = 0.70866\n",
            "\n",
            "Log loss = 0.64311\n",
            "AUC = 0.85829\n",
            "Average Precision = 0.86015\n",
            "\n",
            "Classification Report \n",
            "               precision    recall  f1-score   support\n",
            "\n",
            "           0       0.79      0.97      0.87       131\n",
            "           1       0.92      0.58      0.71        78\n",
            "\n",
            "    accuracy                           0.82       209\n",
            "   macro avg       0.86      0.77      0.79       209\n",
            "weighted avg       0.84      0.82      0.81       209\n",
            "\n"
          ]
        }
      ]
    }
  ]
}