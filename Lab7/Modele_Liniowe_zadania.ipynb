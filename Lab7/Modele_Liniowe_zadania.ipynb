{
  "nbformat": 4,
  "nbformat_minor": 0,
  "metadata": {
    "colab": {
      "name": "Modele Liniowe - zadania.ipynb",
      "provenance": []
    },
    "kernelspec": {
      "name": "python3",
      "display_name": "Python 3"
    },
    "language_info": {
      "name": "python"
    }
  },
  "cells": [
    {
      "cell_type": "markdown",
      "metadata": {
        "id": "c5I31iGrnQAx"
      },
      "source": [
        "# **Zadanie 1**"
      ]
    },
    {
      "cell_type": "markdown",
      "metadata": {
        "id": "nG7szdybnvmP"
      },
      "source": [
        "### **Polecenie do zadania:**"
      ]
    },
    {
      "cell_type": "markdown",
      "metadata": {
        "id": "5X7NeAP2nGFF"
      },
      "source": [
        "Na podstawie danych zawartych w pliku SCORES.csv wykonaj i oceń regresję liniową, gdzie Twoją daną niezależną (predyktorem) będą godziny poświęcone na przygotowanie, a wynikową uzyskane punkty. Wykonanie zadania powinno składać się z następujących kroków:\n",
        "\n",
        "1. Zaimportowanie niezbędnych bibliotek w szczególności tych tworzących modele liniowe z \"scikit-learn\", a także biblioteki do operacji na danych oraz tworzenia wykresów.\n",
        "\n",
        "2. Odczytaj dane z pliku SCORES.csv. Pomocne w interpretacji danych są metody: head(), describe(), shape.\n",
        "\n",
        "3. Wykonaj wstępny wykres uzyskanych danych (typu \"scatter\")\n",
        "\n",
        "4. Dokonaj podziału danych na zbiory danych niezależnych (wejściowe, X) oraz zaleznych (wyjściowe, y) dla swojego modelu, a następnie podziel zbiór na dane testowe i treningowe (30%)\n",
        "\n",
        "5. Utwróz model regresji liniowej za pomocą sklearn.\n",
        "\n",
        "6. Wypisz i przeanalizuj wyliczone wskaźniki dla modelu: coef oraz intercept. Czym one są i do czego służą?\n",
        "\n",
        "7. Wykorzystając stworozny model dokonaj predykcji dla części testowej X. Porównaj wynik (y_pred) z posiadanymi danymi (y_test).\n",
        "\n",
        "8. Wykonaj wykres konfrontujący dane testowe (X_test, y_test; typu \"scatter\") oraz predykcje (X_test, y_pred; linia prosta)\n",
        "\n",
        "8. Dokonaj walidacji uzyskanych predykcji wykorzystując metryki: średni błąd bezwzględny (Mean Absolute Error), błąd średniokwadratowy (Mean Squared Error) oraz pierwiastek błędu średniokwadratowego (Root Mean Squared Error).\n",
        "\n",
        "Następnie utworzony skrypt wykorzystaj na danych zawartych w SBP.csv, gdzie predyktorem będzie wiek, a wynikiem ciśnienie (SBP). \n",
        "\n",
        "Czy uzyskane wyniki z modelu są równie zadowalające?"
      ]
    },
    {
      "cell_type": "markdown",
      "metadata": {
        "id": "3Ja9ZO66n1hW"
      },
      "source": [
        "## **Kod:**"
      ]
    },
    {
      "cell_type": "code",
      "metadata": {
        "colab": {
          "base_uri": "https://localhost:8080/",
          "height": 206
        },
        "id": "Gx77N_MSn01A",
        "outputId": "5db1627c-370b-4708-fa00-f2729eaa1c48"
      },
      "source": [
        "#1. Zaimportowanie niezbędnych bibliotek w szczególności tych tworzących modele liniowe z \"scikit-learn\".\n",
        "import numpy as np\n",
        "import matplotlib.pyplot as plt\n",
        "import pandas as pd\n",
        "import sklearn\n",
        "\n",
        "#2. Odczytaj dane z pliku SCORES.csv. Pomocne w interpretacji danych są metody: head(), describe(), shape.\n",
        "data_scores = pd.read_csv(\"/content/drive/MyDrive/Bazy danych/Lab7/SCORES.csv\")\n",
        "\n",
        "data_scores.head()"
      ],
      "execution_count": 56,
      "outputs": [
        {
          "output_type": "execute_result",
          "data": {
            "text/html": [
              "<div>\n",
              "<style scoped>\n",
              "    .dataframe tbody tr th:only-of-type {\n",
              "        vertical-align: middle;\n",
              "    }\n",
              "\n",
              "    .dataframe tbody tr th {\n",
              "        vertical-align: top;\n",
              "    }\n",
              "\n",
              "    .dataframe thead th {\n",
              "        text-align: right;\n",
              "    }\n",
              "</style>\n",
              "<table border=\"1\" class=\"dataframe\">\n",
              "  <thead>\n",
              "    <tr style=\"text-align: right;\">\n",
              "      <th></th>\n",
              "      <th>Hours</th>\n",
              "      <th>Scores</th>\n",
              "    </tr>\n",
              "  </thead>\n",
              "  <tbody>\n",
              "    <tr>\n",
              "      <th>0</th>\n",
              "      <td>2.5</td>\n",
              "      <td>21</td>\n",
              "    </tr>\n",
              "    <tr>\n",
              "      <th>1</th>\n",
              "      <td>5.1</td>\n",
              "      <td>47</td>\n",
              "    </tr>\n",
              "    <tr>\n",
              "      <th>2</th>\n",
              "      <td>3.2</td>\n",
              "      <td>27</td>\n",
              "    </tr>\n",
              "    <tr>\n",
              "      <th>3</th>\n",
              "      <td>8.5</td>\n",
              "      <td>75</td>\n",
              "    </tr>\n",
              "    <tr>\n",
              "      <th>4</th>\n",
              "      <td>3.5</td>\n",
              "      <td>30</td>\n",
              "    </tr>\n",
              "  </tbody>\n",
              "</table>\n",
              "</div>"
            ],
            "text/plain": [
              "   Hours  Scores\n",
              "0    2.5      21\n",
              "1    5.1      47\n",
              "2    3.2      27\n",
              "3    8.5      75\n",
              "4    3.5      30"
            ]
          },
          "metadata": {},
          "execution_count": 56
        }
      ]
    },
    {
      "cell_type": "code",
      "metadata": {
        "colab": {
          "base_uri": "https://localhost:8080/"
        },
        "id": "RpdjvmDCqQUt",
        "outputId": "2f726c5f-7285-49ab-dbd3-4214aed9f68a"
      },
      "source": [
        "data_scores.shape"
      ],
      "execution_count": 57,
      "outputs": [
        {
          "output_type": "execute_result",
          "data": {
            "text/plain": [
              "(25, 2)"
            ]
          },
          "metadata": {},
          "execution_count": 57
        }
      ]
    },
    {
      "cell_type": "code",
      "metadata": {
        "colab": {
          "base_uri": "https://localhost:8080/",
          "height": 313
        },
        "id": "y58dvGcvrOxV",
        "outputId": "a094d126-b47d-423c-af2d-4fc1d89b2b04"
      },
      "source": [
        "#3. Wykonaj wstępny wykres uzyskanych danych (typu \"scatter\").\n",
        "\n",
        "plt.scatter(data_scores.Hours, data_scores.Scores) \n",
        "plt.title(\"Score dataset visualization\")\n",
        "plt.xlabel(\"Hours\")\n",
        "plt.ylabel(\"Scores\")"
      ],
      "execution_count": 58,
      "outputs": [
        {
          "output_type": "execute_result",
          "data": {
            "text/plain": [
              "Text(0, 0.5, 'Scores')"
            ]
          },
          "metadata": {},
          "execution_count": 58
        },
        {
          "output_type": "display_data",
          "data": {
            "image/png": "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\n",
            "text/plain": [
              "<Figure size 432x288 with 1 Axes>"
            ]
          },
          "metadata": {
            "needs_background": "light"
          }
        }
      ]
    },
    {
      "cell_type": "code",
      "metadata": {
        "id": "bPZXFAYwvTNM"
      },
      "source": [
        "#4. Dokonaj podziału danych na zbiory danych niezależnych (wejściowe, X) oraz zaleznych (wyjściowe, y) dla swojego modelu, \n",
        "# a następnie podziel zbiór na dane testowe i treningowe (30%)\n",
        "\n",
        "from sklearn.model_selection import train_test_split\n",
        "from sklearn.linear_model import LinearRegression\n",
        "\n",
        "X_train, X_test, y_train, y_test = train_test_split(data_scores.Hours, data_scores.Scores, test_size=0.3)\n",
        "\n",
        "#5. Utwróz model regresji liniowej za pomocą sklearn.\n",
        "\n",
        "X_train = np.array(X_train).reshape(-1, 1)  #-1 infers the size of the new dimension from the size of the input array.\n",
        "y_train = np.array(y_train).reshape(-1, 1)\n",
        "reg = LinearRegression().fit(X_train, y_train)"
      ],
      "execution_count": 59,
      "outputs": []
    },
    {
      "cell_type": "code",
      "metadata": {
        "colab": {
          "base_uri": "https://localhost:8080/"
        },
        "id": "lT8xFnQNyB83",
        "outputId": "96948197-290f-48c7-db1b-d019147e6950"
      },
      "source": [
        "#6. Wypisz i przeanalizuj wyliczone wskaźniki dla modelu: coef oraz intercept. Czym one są i do czego służą?\n",
        "\n",
        "print(\"Regression coef: \", reg.coef_[0])\n",
        "print(\"Regression intercept: \", reg.intercept_)"
      ],
      "execution_count": 60,
      "outputs": [
        {
          "output_type": "stream",
          "name": "stdout",
          "text": [
            "Regression coef:  [10.28121811]\n",
            "Regression intercept:  [0.27001577]\n"
          ]
        }
      ]
    },
    {
      "cell_type": "code",
      "metadata": {
        "colab": {
          "base_uri": "https://localhost:8080/"
        },
        "id": "hVHqKOijy7dv",
        "outputId": "5114dac8-5f30-450d-87f7-210b534648da"
      },
      "source": [
        "#7. Wykorzystając stworozny model dokonaj predykcji dla części testowej X. Porównaj wynik (y_pred) z posiadanymi danymi (y_test).\n",
        "X_test = np.array(X_test).reshape(-1, 1)\n",
        "y_test = np.array(y_test).reshape(-1, 1)\n",
        "\n",
        "y_pred = reg.predict(X_test)\n",
        "\n",
        "for i in range(len(y_pred)):\n",
        "    print(\"y_test: {}, y_pred: {}, różnica między y_pred a y_test: {} \\n\".format(y_pred[i], y_test[i],  y_pred[i] - y_test[i]))"
      ],
      "execution_count": 61,
      "outputs": [
        {
          "output_type": "stream",
          "name": "stdout",
          "text": [
            "y_test: [28.02930467], y_pred: [25], różnica między y_pred a y_test: [3.02930467] \n",
            "\n",
            "y_test: [49.6198627], y_pred: [54], różnica między y_pred a y_test: [-4.3801373] \n",
            "\n",
            "y_test: [25.97306104], y_pred: [30], różnica między y_pred a y_test: [-4.02693896] \n",
            "\n",
            "y_test: [46.53549726], y_pred: [41], różnica między y_pred a y_test: [5.53549726] \n",
            "\n",
            "y_test: [85.60412608], y_pred: [81], różnica między y_pred a y_test: [4.60412608] \n",
            "\n",
            "y_test: [11.57935569], y_pred: [17], różnica między y_pred a y_test: [-5.42064431] \n",
            "\n",
            "y_test: [62.98544624], y_pred: [67], różnica między y_pred a y_test: [-4.01455376] \n",
            "\n",
            "y_test: [87.6603697], y_pred: [75], różnica między y_pred a y_test: [12.6603697] \n",
            "\n"
          ]
        }
      ]
    },
    {
      "cell_type": "code",
      "metadata": {
        "colab": {
          "base_uri": "https://localhost:8080/",
          "height": 313
        },
        "id": "eVllEL3p0Kx2",
        "outputId": "f4f385e1-d5e8-4d89-86c5-ee8e5c5efbe7"
      },
      "source": [
        "#8. Wykonaj wykres konfrontujący dane testowe (X_test, y_test; typu \"scatter\") oraz predykcje (X_test, y_pred; linia prosta).\n",
        "plt.scatter(X_test, y_test)\n",
        "plt.plot(X_test, y_pred, 'r')\n",
        "\n",
        "plt.grid(True)\n",
        "plt.title(\"Scatter plot for SCORES.csv\")\n",
        "plt.xlabel(\"Hours\")\n",
        "plt.ylabel(\"Scores\")\n",
        "plt.legend(['Prediction', 'Test data'])"
      ],
      "execution_count": 62,
      "outputs": [
        {
          "output_type": "execute_result",
          "data": {
            "text/plain": [
              "<matplotlib.legend.Legend at 0x7fe212771ed0>"
            ]
          },
          "metadata": {},
          "execution_count": 62
        },
        {
          "output_type": "display_data",
          "data": {
            "image/png": "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\n",
            "text/plain": [
              "<Figure size 432x288 with 1 Axes>"
            ]
          },
          "metadata": {
            "needs_background": "light"
          }
        }
      ]
    },
    {
      "cell_type": "code",
      "metadata": {
        "colab": {
          "base_uri": "https://localhost:8080/"
        },
        "id": "beiSO5bFXAer",
        "outputId": "c5299ede-85be-4f3c-b9c6-1ce27a1e0066"
      },
      "source": [
        "#9. Dokonaj walidacji uzyskanych predykcji wykorzystując metryki: średni błąd bezwzględny (Mean Absolute Error), \n",
        "# błąd średniokwadratowy (Mean Squared Error) oraz pierwiastek błędu średniokwadratowego (Root Mean Squared Error).\n",
        "\n",
        "error_absol = np.mean(np.abs(y_pred - y_test))\n",
        "print(\"Mean Absolute Error: {}\\n\".format(error_absol))\n",
        "\n",
        "error_squar = np.mean((y_pred - y_test) ** 2)\n",
        "print(\"Mean Squared Error: {}\\n\".format(error_squar))\n",
        "\n",
        "error_sqrt = np.sqrt(np.mean((y_pred - y_test) ** 2))\n",
        "print(\"Root Mean Squared Error: {}\\n\".format(error_sqrt))"
      ],
      "execution_count": 63,
      "outputs": [
        {
          "output_type": "stream",
          "name": "stdout",
          "text": [
            "Mean Absolute Error: 5.458946504777815\n",
            "\n",
            "Mean Squared Error: 37.775402673380675\n",
            "\n",
            "Root Mean Squared Error: 6.146169756310077\n",
            "\n"
          ]
        }
      ]
    },
    {
      "cell_type": "markdown",
      "metadata": {
        "id": "fTSrYwqSb2Hp"
      },
      "source": [
        "### **Następnie utworzony skrypt wykorzystaj na danych zawartych w SBP.csv, gdzie predyktorem będzie wiek, a wynikiem ciśnienie (SBP).**\n",
        "\n",
        "Czy uzyskane wyniki z modelu są równie zadowalające?"
      ]
    },
    {
      "cell_type": "code",
      "metadata": {
        "id": "SuyQuESCfErS"
      },
      "source": [
        "data_sbp = pd.read_csv(\"/content/drive/MyDrive/Bazy danych/Lab7/SBP.csv\")"
      ],
      "execution_count": 64,
      "outputs": []
    },
    {
      "cell_type": "code",
      "metadata": {
        "colab": {
          "base_uri": "https://localhost:8080/",
          "height": 206
        },
        "id": "jl2hJ2bgfGGC",
        "outputId": "b2c31f17-7082-475c-a577-70b7a24e5151"
      },
      "source": [
        "data_sbp.head()"
      ],
      "execution_count": 65,
      "outputs": [
        {
          "output_type": "execute_result",
          "data": {
            "text/html": [
              "<div>\n",
              "<style scoped>\n",
              "    .dataframe tbody tr th:only-of-type {\n",
              "        vertical-align: middle;\n",
              "    }\n",
              "\n",
              "    .dataframe tbody tr th {\n",
              "        vertical-align: top;\n",
              "    }\n",
              "\n",
              "    .dataframe thead th {\n",
              "        text-align: right;\n",
              "    }\n",
              "</style>\n",
              "<table border=\"1\" class=\"dataframe\">\n",
              "  <thead>\n",
              "    <tr style=\"text-align: right;\">\n",
              "      <th></th>\n",
              "      <th>Age</th>\n",
              "      <th>SBP</th>\n",
              "    </tr>\n",
              "  </thead>\n",
              "  <tbody>\n",
              "    <tr>\n",
              "      <th>0</th>\n",
              "      <td>60</td>\n",
              "      <td>117</td>\n",
              "    </tr>\n",
              "    <tr>\n",
              "      <th>1</th>\n",
              "      <td>61</td>\n",
              "      <td>120</td>\n",
              "    </tr>\n",
              "    <tr>\n",
              "      <th>2</th>\n",
              "      <td>74</td>\n",
              "      <td>145</td>\n",
              "    </tr>\n",
              "    <tr>\n",
              "      <th>3</th>\n",
              "      <td>57</td>\n",
              "      <td>129</td>\n",
              "    </tr>\n",
              "    <tr>\n",
              "      <th>4</th>\n",
              "      <td>63</td>\n",
              "      <td>132</td>\n",
              "    </tr>\n",
              "  </tbody>\n",
              "</table>\n",
              "</div>"
            ],
            "text/plain": [
              "   Age  SBP\n",
              "0   60  117\n",
              "1   61  120\n",
              "2   74  145\n",
              "3   57  129\n",
              "4   63  132"
            ]
          },
          "metadata": {},
          "execution_count": 65
        }
      ]
    },
    {
      "cell_type": "code",
      "metadata": {
        "colab": {
          "base_uri": "https://localhost:8080/",
          "height": 313
        },
        "id": "t6TcIStSiQh1",
        "outputId": "20899d32-d0f5-46e8-9c0d-97c59b4ab04d"
      },
      "source": [
        "#3. Wykonaj wstępny wykres uzyskanych danych (typu \"scatter\").\n",
        "\n",
        "plt.scatter(data_sbp.Age, data_sbp.SBP) \n",
        "plt.title(\"SBP dataset visualization\")\n",
        "plt.xlabel(\"Age\")\n",
        "plt.ylabel(\"SBP\")"
      ],
      "execution_count": 66,
      "outputs": [
        {
          "output_type": "execute_result",
          "data": {
            "text/plain": [
              "Text(0, 0.5, 'SBP')"
            ]
          },
          "metadata": {},
          "execution_count": 66
        },
        {
          "output_type": "display_data",
          "data": {
            "image/png": "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\n",
            "text/plain": [
              "<Figure size 432x288 with 1 Axes>"
            ]
          },
          "metadata": {
            "needs_background": "light"
          }
        }
      ]
    },
    {
      "cell_type": "code",
      "metadata": {
        "colab": {
          "base_uri": "https://localhost:8080/",
          "height": 469
        },
        "id": "DQ7bESYvb79B",
        "outputId": "e79543a3-1a0f-4506-fa71-9134d8874151"
      },
      "source": [
        "#4. Dokonaj podziału danych na zbiory danych niezależnych (wejściowe, X) oraz zaleznych (wyjściowe, y)\n",
        "X_train, X_test, y_train, y_test = train_test_split(data_sbp.Age, data_sbp.SBP, test_size=0.3)\n",
        "\n",
        "#5. Utwróz model regresji liniowej za pomocą sklearn.\n",
        "X_train = np.array(X_train).reshape(-1, 1)  #-1 infers the size of the new dimension from the size of the input array.\n",
        "y_train = np.array(y_train).reshape(-1, 1)\n",
        "reg = LinearRegression().fit(X_train, y_train)\n",
        "\n",
        "#6. Wypisz i przeanalizuj wyliczone wskaźniki dla modelu: coef oraz intercept.\n",
        "print(\"Regression coef: \", reg.coef_[0])\n",
        "print(\"\\nRegression intercept: \", reg.intercept_)\n",
        "\n",
        "#7. Wykorzystając stworozny model dokonaj predykcji dla części testowej X. Porównaj wynik (y_pred) z posiadanymi danymi (y_test).\n",
        "X_test = np.array(X_test).reshape(-1, 1)\n",
        "y_test = np.array(y_test).reshape(-1, 1)\n",
        "y_pred = reg.predict(X_test)\n",
        "\n",
        "#8. Wykonaj wykres konfrontujący dane testowe (X_test, y_test; typu \"scatter\") oraz predykcje (X_test, y_pred; linia prosta).\n",
        "plt.scatter(X_test, y_test)\n",
        "plt.plot(X_test, y_pred, 'r')\n",
        "\n",
        "plt.grid(True)\n",
        "plt.title(\"Scatter plot for SBP.csv\")\n",
        "plt.xlabel(\"Age\")\n",
        "plt.ylabel(\"SBP\")\n",
        "plt.legend(['Prediction', 'Test data'])\n",
        "\n",
        "#9. Dokonaj walidacji uzyskanych predykcji: średni błąd bezwzględny, błąd średniokwadratowy oraz pierwiastek błędu średniokwadratowego\n",
        "\n",
        "error_absol = np.mean(np.abs(y_pred - y_test))\n",
        "print(\"\\nMean Absolute Error: {}\\n\".format(error_absol))\n",
        "\n",
        "error_squar = np.mean((y_pred - y_test) ** 2)\n",
        "print(\"Mean Squared Error: {}\\n\".format(error_squar))\n",
        "\n",
        "error_sqrt = np.sqrt(np.mean((y_pred - y_test) ** 2))\n",
        "print(\"Root Mean Squared Error: {}\\n\".format(error_sqrt))"
      ],
      "execution_count": 67,
      "outputs": [
        {
          "output_type": "stream",
          "name": "stdout",
          "text": [
            "Regression coef:  [1.48645623]\n",
            "\n",
            "Regression intercept:  [34.9894784]\n",
            "\n",
            "Mean Absolute Error: 7.802440116409237\n",
            "\n",
            "Mean Squared Error: 74.53680066109116\n",
            "\n",
            "Root Mean Squared Error: 8.633469792678444\n",
            "\n"
          ]
        },
        {
          "output_type": "display_data",
          "data": {
            "image/png": "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\n",
            "text/plain": [
              "<Figure size 432x288 with 1 Axes>"
            ]
          },
          "metadata": {
            "needs_background": "light"
          }
        }
      ]
    },
    {
      "cell_type": "markdown",
      "metadata": {
        "id": "sfZvf35nirPo"
      },
      "source": [
        "# **Zadanie 2**"
      ]
    },
    {
      "cell_type": "code",
      "metadata": {
        "colab": {
          "base_uri": "https://localhost:8080/",
          "height": 206
        },
        "id": "z1q2-OtRitYC",
        "outputId": "486e7b22-769c-4c1b-e3ee-fb87c8c5341e"
      },
      "source": [
        "#Na podstawie danych zawartych w pliku PETROL.csv wykonaj i oceń regresję liniową. \n",
        "data_petrol = pd.read_csv(\"/content/drive/MyDrive/Bazy danych/Lab7/PETROL.csv\")\n",
        "\n",
        "data_petrol.head()"
      ],
      "execution_count": 70,
      "outputs": [
        {
          "output_type": "execute_result",
          "data": {
            "text/html": [
              "<div>\n",
              "<style scoped>\n",
              "    .dataframe tbody tr th:only-of-type {\n",
              "        vertical-align: middle;\n",
              "    }\n",
              "\n",
              "    .dataframe tbody tr th {\n",
              "        vertical-align: top;\n",
              "    }\n",
              "\n",
              "    .dataframe thead th {\n",
              "        text-align: right;\n",
              "    }\n",
              "</style>\n",
              "<table border=\"1\" class=\"dataframe\">\n",
              "  <thead>\n",
              "    <tr style=\"text-align: right;\">\n",
              "      <th></th>\n",
              "      <th>Podatek_paliwowy</th>\n",
              "      <th>Sredni_przychod</th>\n",
              "      <th>Utwardzone_autostrady</th>\n",
              "      <th>Procent_ludnosci_z_prawem_jazdy</th>\n",
              "      <th>Zuzycie_paliwa</th>\n",
              "    </tr>\n",
              "  </thead>\n",
              "  <tbody>\n",
              "    <tr>\n",
              "      <th>0</th>\n",
              "      <td>9.0</td>\n",
              "      <td>3571</td>\n",
              "      <td>1976</td>\n",
              "      <td>0.525</td>\n",
              "      <td>541</td>\n",
              "    </tr>\n",
              "    <tr>\n",
              "      <th>1</th>\n",
              "      <td>9.0</td>\n",
              "      <td>4092</td>\n",
              "      <td>1250</td>\n",
              "      <td>0.572</td>\n",
              "      <td>524</td>\n",
              "    </tr>\n",
              "    <tr>\n",
              "      <th>2</th>\n",
              "      <td>9.0</td>\n",
              "      <td>3865</td>\n",
              "      <td>1586</td>\n",
              "      <td>0.580</td>\n",
              "      <td>561</td>\n",
              "    </tr>\n",
              "    <tr>\n",
              "      <th>3</th>\n",
              "      <td>7.5</td>\n",
              "      <td>4870</td>\n",
              "      <td>2351</td>\n",
              "      <td>0.529</td>\n",
              "      <td>414</td>\n",
              "    </tr>\n",
              "    <tr>\n",
              "      <th>4</th>\n",
              "      <td>8.0</td>\n",
              "      <td>4399</td>\n",
              "      <td>431</td>\n",
              "      <td>0.544</td>\n",
              "      <td>410</td>\n",
              "    </tr>\n",
              "  </tbody>\n",
              "</table>\n",
              "</div>"
            ],
            "text/plain": [
              "   Podatek_paliwowy  ...  Zuzycie_paliwa\n",
              "0               9.0  ...             541\n",
              "1               9.0  ...             524\n",
              "2               9.0  ...             561\n",
              "3               7.5  ...             414\n",
              "4               8.0  ...             410\n",
              "\n",
              "[5 rows x 5 columns]"
            ]
          },
          "metadata": {},
          "execution_count": 70
        }
      ]
    },
    {
      "cell_type": "code",
      "metadata": {
        "colab": {
          "base_uri": "https://localhost:8080/",
          "height": 300
        },
        "id": "CuPZPC4Blm8C",
        "outputId": "7e884cf8-6f79-4b50-8f06-caab9ad2de00"
      },
      "source": [
        "data_petrol.describe()"
      ],
      "execution_count": 69,
      "outputs": [
        {
          "output_type": "execute_result",
          "data": {
            "text/html": [
              "<div>\n",
              "<style scoped>\n",
              "    .dataframe tbody tr th:only-of-type {\n",
              "        vertical-align: middle;\n",
              "    }\n",
              "\n",
              "    .dataframe tbody tr th {\n",
              "        vertical-align: top;\n",
              "    }\n",
              "\n",
              "    .dataframe thead th {\n",
              "        text-align: right;\n",
              "    }\n",
              "</style>\n",
              "<table border=\"1\" class=\"dataframe\">\n",
              "  <thead>\n",
              "    <tr style=\"text-align: right;\">\n",
              "      <th></th>\n",
              "      <th>Podatek_paliwowy</th>\n",
              "      <th>Sredni_przychod</th>\n",
              "      <th>Utwardzone_autostrady</th>\n",
              "      <th>Procent_ludnosci_z_prawem_jazdy</th>\n",
              "      <th>Zuzycie_paliwa</th>\n",
              "    </tr>\n",
              "  </thead>\n",
              "  <tbody>\n",
              "    <tr>\n",
              "      <th>count</th>\n",
              "      <td>48.000000</td>\n",
              "      <td>48.000000</td>\n",
              "      <td>48.000000</td>\n",
              "      <td>48.000000</td>\n",
              "      <td>48.000000</td>\n",
              "    </tr>\n",
              "    <tr>\n",
              "      <th>mean</th>\n",
              "      <td>7.668333</td>\n",
              "      <td>4241.833333</td>\n",
              "      <td>5565.416667</td>\n",
              "      <td>0.570333</td>\n",
              "      <td>576.770833</td>\n",
              "    </tr>\n",
              "    <tr>\n",
              "      <th>std</th>\n",
              "      <td>0.950770</td>\n",
              "      <td>573.623768</td>\n",
              "      <td>3491.507166</td>\n",
              "      <td>0.055470</td>\n",
              "      <td>111.885816</td>\n",
              "    </tr>\n",
              "    <tr>\n",
              "      <th>min</th>\n",
              "      <td>5.000000</td>\n",
              "      <td>3063.000000</td>\n",
              "      <td>431.000000</td>\n",
              "      <td>0.451000</td>\n",
              "      <td>344.000000</td>\n",
              "    </tr>\n",
              "    <tr>\n",
              "      <th>25%</th>\n",
              "      <td>7.000000</td>\n",
              "      <td>3739.000000</td>\n",
              "      <td>3110.250000</td>\n",
              "      <td>0.529750</td>\n",
              "      <td>509.500000</td>\n",
              "    </tr>\n",
              "    <tr>\n",
              "      <th>50%</th>\n",
              "      <td>7.500000</td>\n",
              "      <td>4298.000000</td>\n",
              "      <td>4735.500000</td>\n",
              "      <td>0.564500</td>\n",
              "      <td>568.500000</td>\n",
              "    </tr>\n",
              "    <tr>\n",
              "      <th>75%</th>\n",
              "      <td>8.125000</td>\n",
              "      <td>4578.750000</td>\n",
              "      <td>7156.000000</td>\n",
              "      <td>0.595250</td>\n",
              "      <td>632.750000</td>\n",
              "    </tr>\n",
              "    <tr>\n",
              "      <th>max</th>\n",
              "      <td>10.000000</td>\n",
              "      <td>5342.000000</td>\n",
              "      <td>17782.000000</td>\n",
              "      <td>0.724000</td>\n",
              "      <td>968.000000</td>\n",
              "    </tr>\n",
              "  </tbody>\n",
              "</table>\n",
              "</div>"
            ],
            "text/plain": [
              "       Podatek_paliwowy  ...  Zuzycie_paliwa\n",
              "count         48.000000  ...       48.000000\n",
              "mean           7.668333  ...      576.770833\n",
              "std            0.950770  ...      111.885816\n",
              "min            5.000000  ...      344.000000\n",
              "25%            7.000000  ...      509.500000\n",
              "50%            7.500000  ...      568.500000\n",
              "75%            8.125000  ...      632.750000\n",
              "max           10.000000  ...      968.000000\n",
              "\n",
              "[8 rows x 5 columns]"
            ]
          },
          "metadata": {},
          "execution_count": 69
        }
      ]
    },
    {
      "cell_type": "code",
      "metadata": {
        "colab": {
          "base_uri": "https://localhost:8080/",
          "height": 421
        },
        "id": "XVAmlEx9lsLQ",
        "outputId": "15213a50-abcd-41ea-b81a-88e79607ac08"
      },
      "source": [
        "#Jako daną zależną wykorzystaj zużycie paliwa, a pozostałe - jako predyktory.\n",
        "x = list(data_petrol.columns)\n",
        "x = x[:-1]\n",
        "x = np.array(x).reshape(-1, 1)  #-1 infers the size of the new dimension from the size of the input array.\n",
        "\n",
        "y = data_petrol.Zuzycie_paliwa\n",
        "\n",
        "#Wykonanie zadania powinno składać się z kroków podobnych do tych z zadania poprzedniego.\n",
        "fig = plt.figure(figsize=(8, 6))\n",
        "plt.scatter(data_petrol[x[0][0]], y)\n",
        "plt.scatter(data_petrol[x[1][0]], y)\n",
        "plt.scatter(data_petrol[x[2][0]], y)\n",
        "plt.scatter(data_petrol[x[3][0]], y)\n",
        "\n",
        "plt.grid(True)\n",
        "plt.title(\"Scatter plot for PETROL.csv\")\n",
        "plt.xlabel(\"Independent values\")\n",
        "plt.ylabel(\"Dependent value - Zużycie paliwa\")\n",
        "plt.legend(['Podatek_paliwowy', 'Sredni_przychod', 'Utwardzone_autostrady', 'Procent_ludnosci_z_prawem_jazdy'])"
      ],
      "execution_count": 93,
      "outputs": [
        {
          "output_type": "execute_result",
          "data": {
            "text/plain": [
              "<matplotlib.legend.Legend at 0x7fe20cbcfcd0>"
            ]
          },
          "metadata": {},
          "execution_count": 93
        },
        {
          "output_type": "display_data",
          "data": {
            "image/png": "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\n",
            "text/plain": [
              "<Figure size 576x432 with 1 Axes>"
            ]
          },
          "metadata": {
            "needs_background": "light"
          }
        }
      ]
    },
    {
      "cell_type": "code",
      "metadata": {
        "colab": {
          "base_uri": "https://localhost:8080/",
          "height": 1000
        },
        "id": "3uon5xjTqFEH",
        "outputId": "d8ac7299-5377-48ac-82ba-de696859fbb3"
      },
      "source": [
        "from sklearn import datasets, linear_model, metrics\n",
        "\n",
        "x_new = data_petrol[['Podatek_paliwowy', 'Sredni_przychod', 'Utwardzone_autostrady', 'Procent_ludnosci_z_prawem_jazdy']]\n,
        "X_train, X_test, y_train, y_test = train_test_split(x_new, y, train_size=0.3)\n",
        "\n",
        "regr = linear_model.LinearRegression().fit(X_train, y_train)\n",
        "y_pred = regr.predict(X_test)\n",
        "\n",
        "print(\"regr.coef_: {}\\n\".format(regr.coef_))\n",
        "print(\"regr.intercept_: {}\\n\".format(regr.intercept_))\n",
        "\n",
        "fig = plt.figure(figsize = (8, 6))\n",
        "plt.scatter(x_new.columns[0], y)\n",
        "plt.scatter(x_new.columns[1], y)\n",
        "plt.scatter(x_new.columns[2], y)\n",
        "plt.scatter(x_new.columns[3], y)\n",
        "\n",
        "plt1 = pd.DataFrame({'Test_data': X_test['Podatek_paliwowy'], 'Predicted': y_pred})\n",
        "plt1 = plt1.sort_values(\"Test_data\")\n",
        "\n",
        "plt2 = pd.DataFrame({'Test_data': X_test['Sredni_przychod'], 'Predicted': y_pred})\n",
        "plt2 = plt2.sort_values(\"Test_data\")\n",
        "\n",
        "plt3 = pd.DataFrame({'Test_data': X_test['Utwardzone_autostrady'], 'Predicted': y_pred})\n",
        "plt3 = plt3.sort_values(\"Test_data\")\n",
        "\n",
        "plt4 = pd.DataFrame({'Test_data': X_test['Procent_ludnosci_z_prawem_jazdy'], 'Predicted': y_pred})\n",
        "plt4 = plt4.sort_values(\"Test_data\")\n",
        "\n",
        "plt.plot(plt1[['Test_data']], plt1[['Predicted']], label='Podatek_paliwowy')\n",
        "plt.plot(plt2[['Test_data']], plt2[['Predicted']], label='Sredni_przychod')\n",
        "plt.plot(plt3[['Test_data']], plt3[['Predicted']], label='Utwardzone_autostrady')\n",
        "plt.plot(plt4[['Test_data']], plt4[['Predicted']], label='Procent_ludnosci_z_prawem_jazdy')\n",
        "\n",
        "plt.grid(True)\n",
        "plt.title(\"Scatter plot for PETROL.csv\")\n",
        "plt.xlabel(\"Indepentend values\")\n",
        "plt.ylabel(\"Dependant value - Zużycie paliwa\")\n",
        "plt.legend()\n",
        "plt.show()\n",
        "\n",
        "subtraction = y_pred - y_test\n",
        "df = pd.DataFrame({'Predicted': y_pred, 'Actual': y_test, 'Difference': subtraction})\n",
        "print(df,'\\n')\n",
        "\n",
        "error_absol = np.mean(np.abs(y_pred - y_test))\n",
        "print(\"Mean Absolute Error: {}\\n\".format(error_absol))\n",
        "\n",
        "error_squar = np.mean((y_pred - y_test) ** 2)\n",
        "print(\"Mean Squared Error: {}\\n\".format(error_squar))\n",
        "\n",
        "error_sqrt = np.sqrt(np.mean((y_pred - y_test) ** 2))\n",
        "print(\"Root Mean Squared Error: {}\\n\".format(error_sqrt))"
      ],
      "execution_count": 91,
      "outputs": [
        {
          "output_type": "stream",
          "name": "stdout",
          "text": [
            "regr.coef_: [-4.25183078e+01 -8.49161298e-02 -9.69339011e-03  1.81924441e+03]\n",
            "\n",
            "regr.intercept_: 268.6813995150074\n",
            "\n"
          ]
        },
        {
          "output_type": "display_data",
          "data": {
            "image/png": "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\n",
            "text/plain": [
              "<Figure size 576x432 with 1 Axes>"
            ]
          },
          "metadata": {
            "needs_background": "light"
          }
        },
        {
          "output_type": "stream",
          "name": "stdout",
          "text": [
            "     Predicted  Actual  Difference\n",
            "10  462.298704     580 -117.701296\n",
            "19  712.026054     640   72.026054\n",
            "12  539.083345     525   14.083345\n",
            "42  667.682793     632   35.682793\n",
            "7   478.572546     467   11.572546\n",
            "36  569.928588     640  -70.071412\n",
            "34  481.044460     487   -5.955540\n",
            "33  619.910874     628   -8.089126\n",
            "6   182.304117     344 -161.695883\n",
            "0   518.730306     541  -22.269694\n",
            "37  644.320015     704  -59.679985\n",
            "16  572.032442     603  -30.967558\n",
            "29  432.046876     534 -101.953124\n",
            "11  332.106892     471 -138.893108\n",
            "4   540.479990     410  130.479990\n",
            "17  591.925787     714 -122.074213\n",
            "35  734.426524     644   90.426524\n",
            "23  419.569882     547 -127.430118\n",
            "21  594.747576     540   54.747576\n",
            "13  541.516783     508   33.516783\n",
            "46  700.064706     610   90.064706\n",
            "47  530.177636     524    6.177636\n",
            "30  537.394278     571  -33.605722\n",
            "15  570.232967     635  -64.767033\n",
            "45  506.509246     510   -3.490754\n",
            "43  551.909057     591  -39.090943\n",
            "31  557.381952     554    3.381952\n",
            "28  539.222782     574  -34.777218\n",
            "1   567.030891     524   43.030891\n",
            "22  376.077122     464  -87.922878\n",
            "9   509.672911     498   11.672911\n",
            "26  580.355445     577    3.355445\n",
            "2   597.603828     561   36.603828\n",
            "32  656.720423     577   79.720423 \n",
            "\n",
            "Mean Absolute Error: 57.2640884227681\n",
            "\n",
            "Mean Squared Error: 5312.611919498875\n",
            "\n",
            "Root Mean Squared Error: 72.88766644295093\n",
            "\n"
          ]
        }
      ]
    },
    {
      "cell_type": "markdown",
      "metadata": {
        "id": "4d_9_RzPvx2e"
      },
      "source": [
        "# **Zadanie 3**"
      ]
    },
    {
      "cell_type": "markdown",
      "metadata": {
        "id": "h1UOkKhRv65u"
      },
      "source": [
        "### **Polecenie:**"
      ]
    },
    {
      "cell_type": "markdown",
      "metadata": {
        "id": "qHPYIvfiwCBG"
      },
      "source": [
        "Na podstawie danych zawartych w pliku HEART.csv wykonaj i oceń regresję logistyczną, gdzie Twoją daną zależną jest kolumna \"num\". Wykonanie zadania powinno składać się z następujących kroków:\n",
        "\n",
        "1. Zaimportowanie niezbędnych bibliotek w szczególności tych tworzących modele liniowe z \"scikit-learn\", a także biblioteki do operacji na danych oraz tworzenia wykresów.\n",
        "\n",
        "2. Odczytanie danych z pliku HEART.csv. Pomocne w interpretacji danych są metody: head(), describe(), shape.\n",
        "\n",
        "3. Przetworzenie danych, tj: oznaczenie braku danych (\"?\") na NaN, usunięcię kolumn zawierających zbyt dużo brakujących danych (3 kolumny), usunięcie wierszy z brakującymi wartościami.\n",
        "\n",
        "4. Zakoduj niezależne zmienne kategorialne np: jako wartości \"dummy\", za pomoca metody get_dummies(). Zmienne kategorialne to takie, które reprezentuja przynależność do kategorii. W przypadku naszych odfiltrowanych danych będą to kolumny: cp, restecg, fbs, sex, exang. Jako, że trzy ostatnie już zapisane są w formie 0 i 1 tylko cp i restecg wymagają tej operacji.\n",
        "\n",
        "5. Dokonaj podziału danych na zbiory danych niezależnych (wejściowe, X) oraz zależnych (wyjściowe, y) dla swojego modelu, a następnie podziel zbiór na dane testowe i treningowe (20%).\n",
        "\n",
        "6. Utwróz model regresji logistycznej.\n",
        "\n",
        "7. Oceń wynik za pomocą dostępnych metryk (np: metody związane z modelem czy classification_report() z sklearn)\n",
        "\n",
        "Możesz również spróbować ustandaryzować dane (np: poprzez skalowanie) po podziale na zbiory treningowy i testowy."
      ]
    },
    {
      "cell_type": "markdown",
      "metadata": {
        "id": "ywIty4tZwOz8"
      },
      "source": [
        "### **Kod**"
      ]
    },
    {
      "cell_type": "code",
      "metadata": {
        "colab": {
          "base_uri": "https://localhost:8080/",
          "height": 206
        },
        "id": "fX1VOFEdv12D",
        "outputId": "97a4acdb-5705-439a-ab29-2bdadfba94f1"
      },
      "source": [
        "# 2. Odczytanie danych z pliku HEART.csv. Pomocne w interpretacji danych są metody: head(), describe(), shape.\n",
        "data_heart = pd.read_csv(\"/content/drive/MyDrive/Bazy danych/Lab7/HEART.csv\", na_values='?') #3. Przetworzenie danych, \n",
        "                                                                                            #tj: oznaczenie braku danych (\"?\") na NaN\n",
        "data_heart.head()"
      ],
      "execution_count": 110,
      "outputs": [
        {
          "output_type": "execute_result",
          "data": {
            "text/html": [
              "<div>\n",
              "<style scoped>\n",
              "    .dataframe tbody tr th:only-of-type {\n",
              "        vertical-align: middle;\n",
              "    }\n",
              "\n",
              "    .dataframe tbody tr th {\n",
              "        vertical-align: top;\n",
              "    }\n",
              "\n",
              "    .dataframe thead th {\n",
              "        text-align: right;\n",
              "    }\n",
              "</style>\n",
              "<table border=\"1\" class=\"dataframe\">\n",
              "  <thead>\n",
              "    <tr style=\"text-align: right;\">\n",
              "      <th></th>\n",
              "      <th>age</th>\n",
              "      <th>sex</th>\n",
              "      <th>cp</th>\n",
              "      <th>trestbps</th>\n",
              "      <th>chol</th>\n",
              "      <th>fbs</th>\n",
              "      <th>restecg</th>\n",
              "      <th>thalach</th>\n",
              "      <th>exang</th>\n",
              "      <th>oldpeak</th>\n",
              "      <th>slope</th>\n",
              "      <th>ca</th>\n",
              "      <th>thal</th>\n",
              "      <th>num</th>\n",
              "    </tr>\n",
              "  </thead>\n",
              "  <tbody>\n",
              "    <tr>\n",
              "      <th>0</th>\n",
              "      <td>28</td>\n",
              "      <td>1</td>\n",
              "      <td>2</td>\n",
              "      <td>130.0</td>\n",
              "      <td>132.0</td>\n",
              "      <td>0.0</td>\n",
              "      <td>2.0</td>\n",
              "      <td>185.0</td>\n",
              "      <td>0.0</td>\n",
              "      <td>0.0</td>\n",
              "      <td>NaN</td>\n",
              "      <td>NaN</td>\n",
              "      <td>NaN</td>\n",
              "      <td>0</td>\n",
              "    </tr>\n",
              "    <tr>\n",
              "      <th>1</th>\n",
              "      <td>29</td>\n",
              "      <td>1</td>\n",
              "      <td>2</td>\n",
              "      <td>120.0</td>\n",
              "      <td>243.0</td>\n",
              "      <td>0.0</td>\n",
              "      <td>0.0</td>\n",
              "      <td>160.0</td>\n",
              "      <td>0.0</td>\n",
              "      <td>0.0</td>\n",
              "      <td>NaN</td>\n",
              "      <td>NaN</td>\n",
              "      <td>NaN</td>\n",
              "      <td>0</td>\n",
              "    </tr>\n",
              "    <tr>\n",
              "      <th>2</th>\n",
              "      <td>29</td>\n",
              "      <td>1</td>\n",
              "      <td>2</td>\n",
              "      <td>140.0</td>\n",
              "      <td>NaN</td>\n",
              "      <td>0.0</td>\n",
              "      <td>0.0</td>\n",
              "      <td>170.0</td>\n",
              "      <td>0.0</td>\n",
              "      <td>0.0</td>\n",
              "      <td>NaN</td>\n",
              "      <td>NaN</td>\n",
              "      <td>NaN</td>\n",
              "      <td>0</td>\n",
              "    </tr>\n",
              "    <tr>\n",
              "      <th>3</th>\n",
              "      <td>30</td>\n",
              "      <td>0</td>\n",
              "      <td>1</td>\n",
              "      <td>170.0</td>\n",
              "      <td>237.0</td>\n",
              "      <td>0.0</td>\n",
              "      <td>1.0</td>\n",
              "      <td>170.0</td>\n",
              "      <td>0.0</td>\n",
              "      <td>0.0</td>\n",
              "      <td>NaN</td>\n",
              "      <td>NaN</td>\n",
              "      <td>6.0</td>\n",
              "      <td>0</td>\n",
              "    </tr>\n",
              "    <tr>\n",
              "      <th>4</th>\n",
              "      <td>31</td>\n",
              "      <td>0</td>\n",
              "      <td>2</td>\n",
              "      <td>100.0</td>\n",
              "      <td>219.0</td>\n",
              "      <td>0.0</td>\n",
              "      <td>1.0</td>\n",
              "      <td>150.0</td>\n",
              "      <td>0.0</td>\n",
              "      <td>0.0</td>\n",
              "      <td>NaN</td>\n",
              "      <td>NaN</td>\n",
              "      <td>NaN</td>\n",
              "      <td>0</td>\n",
              "    </tr>\n",
              "  </tbody>\n",
              "</table>\n",
              "</div>"
            ],
            "text/plain": [
              "   age  sex  cp  trestbps   chol  ...  oldpeak  slope  ca  thal  num       \n",
              "0   28    1   2     130.0  132.0  ...      0.0    NaN NaN   NaN           0\n",
              "1   29    1   2     120.0  243.0  ...      0.0    NaN NaN   NaN           0\n",
              "2   29    1   2     140.0    NaN  ...      0.0    NaN NaN   NaN           0\n",
              "3   30    0   1     170.0  237.0  ...      0.0    NaN NaN   6.0           0\n",
              "4   31    0   2     100.0  219.0  ...      0.0    NaN NaN   NaN           0\n",
              "\n",
              "[5 rows x 14 columns]"
            ]
          },
          "metadata": {},
          "execution_count": 110
        }
      ]
    },
    {
      "cell_type": "code",
      "metadata": {
        "colab": {
          "base_uri": "https://localhost:8080/",
          "height": 423
        },
        "id": "e0Fms4fqxywY",
        "outputId": "bcc32c1a-9358-4a70-cfbf-ab3772704761"
      },
      "source": [
        "#Usunięcię kolumn zawierających zbyt dużo brakujących danych (3 kolumny):\n",
        "data_heart = data_heart.drop(['slope', 'ca', 'thal'], axis = 1)\n",
        "\n",
        "#Usunięcie wierszy z brakującymi wartościami.\n",
        "data_heart = data_heart.dropna()\n",
        "\n",
        "data_heart"
      ],
      "execution_count": 111,
      "outputs": [
        {
          "output_type": "execute_result",
          "data": {
            "text/html": [
              "<div>\n",
              "<style scoped>\n",
              "    .dataframe tbody tr th:only-of-type {\n",
              "        vertical-align: middle;\n",
              "    }\n",
              "\n",
              "    .dataframe tbody tr th {\n",
              "        vertical-align: top;\n",
              "    }\n",
              "\n",
              "    .dataframe thead th {\n",
              "        text-align: right;\n",
              "    }\n",
              "</style>\n",
              "<table border=\"1\" class=\"dataframe\">\n",
              "  <thead>\n",
              "    <tr style=\"text-align: right;\">\n",
              "      <th></th>\n",
              "      <th>age</th>\n",
              "      <th>sex</th>\n",
              "      <th>cp</th>\n",
              "      <th>trestbps</th>\n",
              "      <th>chol</th>\n",
              "      <th>fbs</th>\n",
              "      <th>restecg</th>\n",
              "      <th>thalach</th>\n",
              "      <th>exang</th>\n",
              "      <th>oldpeak</th>\n",
              "      <th>num</th>\n",
              "    </tr>\n",
              "  </thead>\n",
              "  <tbody>\n",
              "    <tr>\n",
              "      <th>0</th>\n",
              "      <td>28</td>\n",
              "      <td>1</td>\n",
              "      <td>2</td>\n",
              "      <td>130.0</td>\n",
              "      <td>132.0</td>\n",
              "      <td>0.0</td>\n",
              "      <td>2.0</td>\n",
              "      <td>185.0</td>\n",
              "      <td>0.0</td>\n",
              "      <td>0.0</td>\n",
              "      <td>0</td>\n",
              "    </tr>\n",
              "    <tr>\n",
              "      <th>1</th>\n",
              "      <td>29</td>\n",
              "      <td>1</td>\n",
              "      <td>2</td>\n",
              "      <td>120.0</td>\n",
              "      <td>243.0</td>\n",
              "      <td>0.0</td>\n",
              "      <td>0.0</td>\n",
              "      <td>160.0</td>\n",
              "      <td>0.0</td>\n",
              "      <td>0.0</td>\n",
              "      <td>0</td>\n",
              "    </tr>\n",
              "    <tr>\n",
              "      <th>3</th>\n",
              "      <td>30</td>\n",
              "      <td>0</td>\n",
              "      <td>1</td>\n",
              "      <td>170.0</td>\n",
              "      <td>237.0</td>\n",
              "      <td>0.0</td>\n",
              "      <td>1.0</td>\n",
              "      <td>170.0</td>\n",
              "      <td>0.0</td>\n",
              "      <td>0.0</td>\n",
              "      <td>0</td>\n",
              "    </tr>\n",
              "    <tr>\n",
              "      <th>4</th>\n",
              "      <td>31</td>\n",
              "      <td>0</td>\n",
              "      <td>2</td>\n",
              "      <td>100.0</td>\n",
              "      <td>219.0</td>\n",
              "      <td>0.0</td>\n",
              "      <td>1.0</td>\n",
              "      <td>150.0</td>\n",
              "      <td>0.0</td>\n",
              "      <td>0.0</td>\n",
              "      <td>0</td>\n",
              "    </tr>\n",
              "    <tr>\n",
              "      <th>5</th>\n",
              "      <td>32</td>\n",
              "      <td>0</td>\n",
              "      <td>2</td>\n",
              "      <td>105.0</td>\n",
              "      <td>198.0</td>\n",
              "      <td>0.0</td>\n",
              "      <td>0.0</td>\n",
              "      <td>165.0</td>\n",
              "      <td>0.0</td>\n",
              "      <td>0.0</td>\n",
              "      <td>0</td>\n",
              "    </tr>\n",
              "    <tr>\n",
              "      <th>...</th>\n",
              "      <td>...</td>\n",
              "      <td>...</td>\n",
              "      <td>...</td>\n",
              "      <td>...</td>\n",
              "      <td>...</td>\n",
              "      <td>...</td>\n",
              "      <td>...</td>\n",
              "      <td>...</td>\n",
              "      <td>...</td>\n",
              "      <td>...</td>\n",
              "      <td>...</td>\n",
              "    </tr>\n",
              "    <tr>\n",
              "      <th>289</th>\n",
              "      <td>52</td>\n",
              "      <td>1</td>\n",
              "      <td>4</td>\n",
              "      <td>160.0</td>\n",
              "      <td>331.0</td>\n",
              "      <td>0.0</td>\n",
              "      <td>0.0</td>\n",
              "      <td>94.0</td>\n",
              "      <td>1.0</td>\n",
              "      <td>2.5</td>\n",
              "      <td>1</td>\n",
              "    </tr>\n",
              "    <tr>\n",
              "      <th>290</th>\n",
              "      <td>54</td>\n",
              "      <td>0</td>\n",
              "      <td>3</td>\n",
              "      <td>130.0</td>\n",
              "      <td>294.0</td>\n",
              "      <td>0.0</td>\n",
              "      <td>1.0</td>\n",
              "      <td>100.0</td>\n",
              "      <td>1.0</td>\n",
              "      <td>0.0</td>\n",
              "      <td>1</td>\n",
              "    </tr>\n",
              "    <tr>\n",
              "      <th>291</th>\n",
              "      <td>56</td>\n",
              "      <td>1</td>\n",
              "      <td>4</td>\n",
              "      <td>155.0</td>\n",
              "      <td>342.0</td>\n",
              "      <td>1.0</td>\n",
              "      <td>0.0</td>\n",
              "      <td>150.0</td>\n",
              "      <td>1.0</td>\n",
              "      <td>3.0</td>\n",
              "      <td>1</td>\n",
              "    </tr>\n",
              "    <tr>\n",
              "      <th>292</th>\n",
              "      <td>58</td>\n",
              "      <td>0</td>\n",
              "      <td>2</td>\n",
              "      <td>180.0</td>\n",
              "      <td>393.0</td>\n",
              "      <td>0.0</td>\n",
              "      <td>0.0</td>\n",
              "      <td>110.0</td>\n",
              "      <td>1.0</td>\n",
              "      <td>1.0</td>\n",
              "      <td>1</td>\n",
              "    </tr>\n",
              "    <tr>\n",
              "      <th>293</th>\n",
              "      <td>65</td>\n",
              "      <td>1</td>\n",
              "      <td>4</td>\n",
              "      <td>130.0</td>\n",
              "      <td>275.0</td>\n",
              "      <td>0.0</td>\n",
              "      <td>1.0</td>\n",
              "      <td>115.0</td>\n",
              "      <td>1.0</td>\n",
              "      <td>1.0</td>\n",
              "      <td>1</td>\n",
              "    </tr>\n",
              "  </tbody>\n",
              "</table>\n",
              "<p>261 rows × 11 columns</p>\n",
              "</div>"
            ],
            "text/plain": [
              "     age  sex  cp  trestbps  ...  thalach  exang  oldpeak  num       \n",
              "0     28    1   2     130.0  ...    185.0    0.0      0.0           0\n",
              "1     29    1   2     120.0  ...    160.0    0.0      0.0           0\n",
              "3     30    0   1     170.0  ...    170.0    0.0      0.0           0\n",
              "4     31    0   2     100.0  ...    150.0    0.0      0.0           0\n",
              "5     32    0   2     105.0  ...    165.0    0.0      0.0           0\n",
              "..   ...  ...  ..       ...  ...      ...    ...      ...         ...\n",
              "289   52    1   4     160.0  ...     94.0    1.0      2.5           1\n",
              "290   54    0   3     130.0  ...    100.0    1.0      0.0           1\n",
              "291   56    1   4     155.0  ...    150.0    1.0      3.0           1\n",
              "292   58    0   2     180.0  ...    110.0    1.0      1.0           1\n",
              "293   65    1   4     130.0  ...    115.0    1.0      1.0           1\n",
              "\n",
              "[261 rows x 11 columns]"
            ]
          },
          "metadata": {},
          "execution_count": 111
        }
      ]
    },
    {
      "cell_type": "code",
      "metadata": {
        "colab": {
          "base_uri": "https://localhost:8080/"
        },
        "id": "GWJV-e_az2Bf",
        "outputId": "5a425b82-cd18-48db-f9e6-c2780e0f4093"
      },
      "source": [
        "data_heart.info()"
      ],
      "execution_count": 112,
      "outputs": [
        {
          "output_type": "stream",
          "name": "stdout",
          "text": [
            "<class 'pandas.core.frame.DataFrame'>\n",
            "Int64Index: 261 entries, 0 to 293\n",
            "Data columns (total 11 columns):\n",
            " #   Column      Non-Null Count  Dtype  \n",
            "---  ------      --------------  -----  \n",
            " 0   age         261 non-null    int64  \n",
            " 1   sex         261 non-null    int64  \n",
            " 2   cp          261 non-null    int64  \n",
            " 3   trestbps    261 non-null    float64\n",
            " 4   chol        261 non-null    float64\n",
            " 5   fbs         261 non-null    float64\n",
            " 6   restecg     261 non-null    float64\n",
            " 7   thalach     261 non-null    float64\n",
            " 8   exang       261 non-null    float64\n",
            " 9   oldpeak     261 non-null    float64\n",
            " 10  num         261 non-null    int64  \n",
            "dtypes: float64(7), int64(4)\n",
            "memory usage: 24.5 KB\n"
          ]
        }
      ]
    },
    {
      "cell_type": "code",
      "metadata": {
        "colab": {
          "base_uri": "https://localhost:8080/",
          "height": 423
        },
        "id": "l-r1s9F80kCB",
        "outputId": "f6f747b9-49e0-4465-84d2-2edc978fb049"
      },
      "source": [
        "#4. Zakoduj niezależne zmienne kategorialne np: jako wartości \"dummy\", za pomoca metody get_dummies(). \n",
        "#(kolumny: cp, restecg, fbs, sex, exang. Jako, że trzy ostatnie już zapisane są w formie 0 i 1 tylko cp i restecg wymagają tej operacji.)\n",
        "data_heart['cp'].value_counts(dropna=False)\n",
        "data_heart['restecg'].value_counts(dropna=False)\n",
        "\n",
        "data_heart = pd.get_dummies(data_heart, columns=['cp', 'restecg'], drop_first=True)\n",
        "data_heart"
      ],
      "execution_count": 115,
      "outputs": [
        {
          "output_type": "execute_result",
          "data": {
            "text/html": [
              "<div>\n",
              "<style scoped>\n",
              "    .dataframe tbody tr th:only-of-type {\n",
              "        vertical-align: middle;\n",
              "    }\n",
              "\n",
              "    .dataframe tbody tr th {\n",
              "        vertical-align: top;\n",
              "    }\n",
              "\n",
              "    .dataframe thead th {\n",
              "        text-align: right;\n",
              "    }\n",
              "</style>\n",
              "<table border=\"1\" class=\"dataframe\">\n",
              "  <thead>\n",
              "    <tr style=\"text-align: right;\">\n",
              "      <th></th>\n",
              "      <th>age</th>\n",
              "      <th>sex</th>\n",
              "      <th>trestbps</th>\n",
              "      <th>chol</th>\n",
              "      <th>fbs</th>\n",
              "      <th>thalach</th>\n",
              "      <th>exang</th>\n",
              "      <th>oldpeak</th>\n",
              "      <th>num</th>\n",
              "      <th>cp_2</th>\n",
              "      <th>cp_3</th>\n",
              "      <th>cp_4</th>\n",
              "      <th>restecg_1.0</th>\n",
              "      <th>restecg_2.0</th>\n",
              "    </tr>\n",
              "  </thead>\n",
              "  <tbody>\n",
              "    <tr>\n",
              "      <th>0</th>\n",
              "      <td>28</td>\n",
              "      <td>1</td>\n",
              "      <td>130.0</td>\n",
              "      <td>132.0</td>\n",
              "      <td>0.0</td>\n",
              "      <td>185.0</td>\n",
              "      <td>0.0</td>\n",
              "      <td>0.0</td>\n",
              "      <td>0</td>\n",
              "      <td>1</td>\n",
              "      <td>0</td>\n",
              "      <td>0</td>\n",
              "      <td>0</td>\n",
              "      <td>1</td>\n",
              "    </tr>\n",
              "    <tr>\n",
              "      <th>1</th>\n",
              "      <td>29</td>\n",
              "      <td>1</td>\n",
              "      <td>120.0</td>\n",
              "      <td>243.0</td>\n",
              "      <td>0.0</td>\n",
              "      <td>160.0</td>\n",
              "      <td>0.0</td>\n",
              "      <td>0.0</td>\n",
              "      <td>0</td>\n",
              "      <td>1</td>\n",
              "      <td>0</td>\n",
              "      <td>0</td>\n",
              "      <td>0</td>\n",
              "      <td>0</td>\n",
              "    </tr>\n",
              "    <tr>\n",
              "      <th>3</th>\n",
              "      <td>30</td>\n",
              "      <td>0</td>\n",
              "      <td>170.0</td>\n",
              "      <td>237.0</td>\n",
              "      <td>0.0</td>\n",
              "      <td>170.0</td>\n",
              "      <td>0.0</td>\n",
              "      <td>0.0</td>\n",
              "      <td>0</td>\n",
              "      <td>0</td>\n",
              "      <td>0</td>\n",
              "      <td>0</td>\n",
              "      <td>1</td>\n",
              "      <td>0</td>\n",
              "    </tr>\n",
              "    <tr>\n",
              "      <th>4</th>\n",
              "      <td>31</td>\n",
              "      <td>0</td>\n",
              "      <td>100.0</td>\n",
              "      <td>219.0</td>\n",
              "      <td>0.0</td>\n",
              "      <td>150.0</td>\n",
              "      <td>0.0</td>\n",
              "      <td>0.0</td>\n",
              "      <td>0</td>\n",
              "      <td>1</td>\n",
              "      <td>0</td>\n",
              "      <td>0</td>\n",
              "      <td>1</td>\n",
              "      <td>0</td>\n",
              "    </tr>\n",
              "    <tr>\n",
              "      <th>5</th>\n",
              "      <td>32</td>\n",
              "      <td>0</td>\n",
              "      <td>105.0</td>\n",
              "      <td>198.0</td>\n",
              "      <td>0.0</td>\n",
              "      <td>165.0</td>\n",
              "      <td>0.0</td>\n",
              "      <td>0.0</td>\n",
              "      <td>0</td>\n",
              "      <td>1</td>\n",
              "      <td>0</td>\n",
              "      <td>0</td>\n",
              "      <td>0</td>\n",
              "      <td>0</td>\n",
              "    </tr>\n",
              "    <tr>\n",
              "      <th>...</th>\n",
              "      <td>...</td>\n",
              "      <td>...</td>\n",
              "      <td>...</td>\n",
              "      <td>...</td>\n",
              "      <td>...</td>\n",
              "      <td>...</td>\n",
              "      <td>...</td>\n",
              "      <td>...</td>\n",
              "      <td>...</td>\n",
              "      <td>...</td>\n",
              "      <td>...</td>\n",
              "      <td>...</td>\n",
              "      <td>...</td>\n",
              "      <td>...</td>\n",
              "    </tr>\n",
              "    <tr>\n",
              "      <th>289</th>\n",
              "      <td>52</td>\n",
              "      <td>1</td>\n",
              "      <td>160.0</td>\n",
              "      <td>331.0</td>\n",
              "      <td>0.0</td>\n",
              "      <td>94.0</td>\n",
              "      <td>1.0</td>\n",
              "      <td>2.5</td>\n",
              "      <td>1</td>\n",
              "      <td>0</td>\n",
              "      <td>0</td>\n",
              "      <td>1</td>\n",
              "      <td>0</td>\n",
              "      <td>0</td>\n",
              "    </tr>\n",
              "    <tr>\n",
              "      <th>290</th>\n",
              "      <td>54</td>\n",
              "      <td>0</td>\n",
              "      <td>130.0</td>\n",
              "      <td>294.0</td>\n",
              "      <td>0.0</td>\n",
              "      <td>100.0</td>\n",
              "      <td>1.0</td>\n",
              "      <td>0.0</td>\n",
              "      <td>1</td>\n",
              "      <td>0</td>\n",
              "      <td>1</td>\n",
              "      <td>0</td>\n",
              "      <td>1</td>\n",
              "      <td>0</td>\n",
              "    </tr>\n",
              "    <tr>\n",
              "      <th>291</th>\n",
              "      <td>56</td>\n",
              "      <td>1</td>\n",
              "      <td>155.0</td>\n",
              "      <td>342.0</td>\n",
              "      <td>1.0</td>\n",
              "      <td>150.0</td>\n",
              "      <td>1.0</td>\n",
              "      <td>3.0</td>\n",
              "      <td>1</td>\n",
              "      <td>0</td>\n",
              "      <td>0</td>\n",
              "      <td>1</td>\n",
              "      <td>0</td>\n",
              "      <td>0</td>\n",
              "    </tr>\n",
              "    <tr>\n",
              "      <th>292</th>\n",
              "      <td>58</td>\n",
              "      <td>0</td>\n",
              "      <td>180.0</td>\n",
              "      <td>393.0</td>\n",
              "      <td>0.0</td>\n",
              "      <td>110.0</td>\n",
              "      <td>1.0</td>\n",
              "      <td>1.0</td>\n",
              "      <td>1</td>\n",
              "      <td>1</td>\n",
              "      <td>0</td>\n",
              "      <td>0</td>\n",
              "      <td>0</td>\n",
              "      <td>0</td>\n",
              "    </tr>\n",
              "    <tr>\n",
              "      <th>293</th>\n",
              "      <td>65</td>\n",
              "      <td>1</td>\n",
              "      <td>130.0</td>\n",
              "      <td>275.0</td>\n",
              "      <td>0.0</td>\n",
              "      <td>115.0</td>\n",
              "      <td>1.0</td>\n",
              "      <td>1.0</td>\n",
              "      <td>1</td>\n",
              "      <td>0</td>\n",
              "      <td>0</td>\n",
              "      <td>1</td>\n",
              "      <td>1</td>\n",
              "      <td>0</td>\n",
              "    </tr>\n",
              "  </tbody>\n",
              "</table>\n",
              "<p>261 rows × 14 columns</p>\n",
              "</div>"
            ],
            "text/plain": [
              "     age  sex  trestbps   chol  fbs  ...  cp_2  cp_3  cp_4  restecg_1.0  restecg_2.0\n",
              "0     28    1     130.0  132.0  0.0  ...     1     0     0            0            1\n",
              "1     29    1     120.0  243.0  0.0  ...     1     0     0            0            0\n",
              "3     30    0     170.0  237.0  0.0  ...     0     0     0            1            0\n",
              "4     31    0     100.0  219.0  0.0  ...     1     0     0            1            0\n",
              "5     32    0     105.0  198.0  0.0  ...     1     0     0            0            0\n",
              "..   ...  ...       ...    ...  ...  ...   ...   ...   ...          ...          ...\n",
              "289   52    1     160.0  331.0  0.0  ...     0     0     1            0            0\n",
              "290   54    0     130.0  294.0  0.0  ...     0     1     0            1            0\n",
              "291   56    1     155.0  342.0  1.0  ...     0     0     1            0            0\n",
              "292   58    0     180.0  393.0  0.0  ...     1     0     0            0            0\n",
              "293   65    1     130.0  275.0  0.0  ...     0     0     1            1            0\n",
              "\n",
              "[261 rows x 14 columns]"
            ]
          },
          "metadata": {},
          "execution_count": 115
        }
      ]
    },
    {
      "cell_type": "code",
      "metadata": {
        "colab": {
          "base_uri": "https://localhost:8080/",
          "height": 506
        },
        "id": "tcOS5oHL20qC",
        "outputId": "ff568102-7aba-4b2b-de5b-7e3bffd9df6a"
      },
      "source": [
        "#5. Dokonaj podziału danych na zbiory danych niezależnych (wejściowe, X) oraz zależnych (wyjściowe, y) dla swojego modelu\n",
        "#A następnie podziel zbiór na dane testowe i treningowe (20%):\n",
        "\n",
        "from sklearn.preprocessing import StandardScaler\n",
        "heart_train, heart_test = train_test_split(data_heart, train_size=0.2, random_state=1, stratify=data_heart['num       '])\n",
        "\n",
        "print(heart_train.shape)\n",
        "print(heart_test.shape)\n",
        "print(heart_train['num       '].value_counts(normalize=True))\n",
        "print(heart_test['num       '].value_counts(normalize=True))\n",
        "\n",
        "\n",
        "#6. Utwróz model regresji logistycznej.\n",
        "num_cols = ['age', 'trestbps', 'chol', 'thalach', 'oldpeak']\n",
        "cat_cols = list(set(data_heart.columns) - set(num_cols) - {'num       '})\n",
        "cat_cols.sort()\n",
        "\n",
        "def feat_target(data_heart, num_cols, cat_cols, scaler):\n",
        "    scaler = StandardScaler()\n",
        "    scaler.fit(heart_train[num_cols])\n",
        "    X_num_scaled = scaler.transform(data_heart[num_cols])\n",
        "    X_cat = data_heart[cat_cols].to_numpy()\n",
        "    X = np.hstack((X_cat, X_num_scaled))\n",
        "    y = data_heart['num       ']\n",
        "    return X, y\n",
        "\n",
        "scaler = StandardScaler()\n",
        "scaler.fit(heart_train[num_cols])\n",
        "\n",
        "X, y = feat_target(heart_train, num_cols, cat_cols, scaler)\n",
        "linear_mod = linear_model.LogisticRegression(penalty='none').fit(X, y)\n",
        "\n",
        "X_test, y_test = feat_target(heart_test, num_cols, cat_cols, scaler)\n",
        "metrics.plot_roc_curve(linear_mod, X_test, y_test)\n",
        "plt.grid(True)\n",
        "plt.title('Receiver operating characteristic curve')"
      ],
      "execution_count": 121,
      "outputs": [
        {
          "output_type": "stream",
          "name": "stdout",
          "text": [
            "(52, 14)\n",
            "(209, 14)\n",
            "0    0.615385\n",
            "1    0.384615\n",
            "Name: num       , dtype: float64\n",
            "0    0.626794\n",
            "1    0.373206\n",
            "Name: num       , dtype: float64\n"
          ]
        },
        {
          "output_type": "stream",
          "name": "stderr",
          "text": [
            "/usr/local/lib/python3.7/dist-packages/sklearn/utils/deprecation.py:87: FutureWarning: Function plot_roc_curve is deprecated; Function `plot_roc_curve` is deprecated in 1.0 and will be removed in 1.2. Use one of the class methods: RocCurveDisplay.from_predictions or RocCurveDisplay.from_estimator.\n",
            "  warnings.warn(msg, category=FutureWarning)\n"
          ]
        },
        {
          "output_type": "execute_result",
          "data": {
            "text/plain": [
              "Text(0.5, 1.0, 'Receiver operating characteristic curve')"
            ]
          },
          "metadata": {},
          "execution_count": 121
        },
        {
          "output_type": "display_data",
          "data": {
            "image/png": "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\n",
            "text/plain": [
              "<Figure size 432x288 with 1 Axes>"
            ]
          },
          "metadata": {
            "needs_background": "light"
          }
        }
      ]
    },
    {
      "cell_type": "code",
      "metadata": {
        "colab": {
          "base_uri": "https://localhost:8080/",
          "height": 367
        },
        "id": "kLXSPWOw6zCY",
        "outputId": "566d9dc5-b96e-4b5e-fd4e-4ce43ad52f05"
      },
      "source": [
        "metrics.plot_precision_recall_curve(linear_mod, X_test, y_test)\n",
        "plt.grid(True)\n",
        "plt.title('Precission recall curve')"
      ],
      "execution_count": 122,
      "outputs": [
        {
          "output_type": "stream",
          "name": "stderr",
          "text": [
            "/usr/local/lib/python3.7/dist-packages/sklearn/utils/deprecation.py:87: FutureWarning: Function plot_precision_recall_curve is deprecated; Function `plot_precision_recall_curve` is deprecated in 1.0 and will be removed in 1.2. Use one of the class methods: PrecisionRecallDisplay.from_predictions or PrecisionRecallDisplay.from_estimator.\n",
            "  warnings.warn(msg, category=FutureWarning)\n"
          ]
        },
        {
          "output_type": "execute_result",
          "data": {
            "text/plain": [
              "Text(0.5, 1.0, 'Precission recall curve')"
            ]
          },
          "metadata": {},
          "execution_count": 122
        },
        {
          "output_type": "display_data",
          "data": {
            "image/png": "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\n",
            "text/plain": [
              "<Figure size 432x288 with 1 Axes>"
            ]
          },
          "metadata": {
            "needs_background": "light"
          }
        }
      ]
    },
    {
      "cell_type": "code",
      "metadata": {
        "colab": {
          "base_uri": "https://localhost:8080/",
          "height": 488
        },
        "id": "BwXaQbPJ-Jac",
        "outputId": "b2637971-2a88-4e7a-9f13-062b53e86e6b"
      },
      "source": [
        "coeff = np.hstack((linear_mod.intercept_, linear_mod.coef_[0]))\n",
        "pd.DataFrame(data={'variable': ['intercept'] + cat_cols + num_cols, 'coefficient': coeff})"
      ],
      "execution_count": 129,
      "outputs": [
        {
          "output_type": "execute_result",
          "data": {
            "text/html": [
              "<div>\n",
              "<style scoped>\n",
              "    .dataframe tbody tr th:only-of-type {\n",
              "        vertical-align: middle;\n",
              "    }\n",
              "\n",
              "    .dataframe tbody tr th {\n",
              "        vertical-align: top;\n",
              "    }\n",
              "\n",
              "    .dataframe thead th {\n",
              "        text-align: right;\n",
              "    }\n",
              "</style>\n",
              "<table border=\"1\" class=\"dataframe\">\n",
              "  <thead>\n",
              "    <tr style=\"text-align: right;\">\n",
              "      <th></th>\n",
              "      <th>variable</th>\n",
              "      <th>coefficient</th>\n",
              "    </tr>\n",
              "  </thead>\n",
              "  <tbody>\n",
              "    <tr>\n",
              "      <th>0</th>\n",
              "      <td>intercept</td>\n",
              "      <td>-16.748372</td>\n",
              "    </tr>\n",
              "    <tr>\n",
              "      <th>1</th>\n",
              "      <td>cp_2</td>\n",
              "      <td>14.108772</td>\n",
              "    </tr>\n",
              "    <tr>\n",
              "      <th>2</th>\n",
              "      <td>cp_3</td>\n",
              "      <td>14.048337</td>\n",
              "    </tr>\n",
              "    <tr>\n",
              "      <th>3</th>\n",
              "      <td>cp_4</td>\n",
              "      <td>15.178087</td>\n",
              "    </tr>\n",
              "    <tr>\n",
              "      <th>4</th>\n",
              "      <td>exang</td>\n",
              "      <td>1.684843</td>\n",
              "    </tr>\n",
              "    <tr>\n",
              "      <th>5</th>\n",
              "      <td>fbs</td>\n",
              "      <td>0.000000</td>\n",
              "    </tr>\n",
              "    <tr>\n",
              "      <th>6</th>\n",
              "      <td>restecg_1.0</td>\n",
              "      <td>-0.867705</td>\n",
              "    </tr>\n",
              "    <tr>\n",
              "      <th>7</th>\n",
              "      <td>restecg_2.0</td>\n",
              "      <td>0.000000</td>\n",
              "    </tr>\n",
              "    <tr>\n",
              "      <th>8</th>\n",
              "      <td>sex</td>\n",
              "      <td>0.869788</td>\n",
              "    </tr>\n",
              "    <tr>\n",
              "      <th>9</th>\n",
              "      <td>age</td>\n",
              "      <td>-0.554903</td>\n",
              "    </tr>\n",
              "    <tr>\n",
              "      <th>10</th>\n",
              "      <td>trestbps</td>\n",
              "      <td>0.000374</td>\n",
              "    </tr>\n",
              "    <tr>\n",
              "      <th>11</th>\n",
              "      <td>chol</td>\n",
              "      <td>0.294637</td>\n",
              "    </tr>\n",
              "    <tr>\n",
              "      <th>12</th>\n",
              "      <td>thalach</td>\n",
              "      <td>-0.792085</td>\n",
              "    </tr>\n",
              "    <tr>\n",
              "      <th>13</th>\n",
              "      <td>oldpeak</td>\n",
              "      <td>0.752785</td>\n",
              "    </tr>\n",
              "  </tbody>\n",
              "</table>\n",
              "</div>"
            ],
            "text/plain": [
              "       variable  coefficient\n",
              "0     intercept   -16.748372\n",
              "1          cp_2    14.108772\n",
              "2          cp_3    14.048337\n",
              "3          cp_4    15.178087\n",
              "4         exang     1.684843\n",
              "5           fbs     0.000000\n",
              "6   restecg_1.0    -0.867705\n",
              "7   restecg_2.0     0.000000\n",
              "8           sex     0.869788\n",
              "9           age    -0.554903\n",
              "10     trestbps     0.000374\n",
              "11         chol     0.294637\n",
              "12      thalach    -0.792085\n",
              "13      oldpeak     0.752785"
            ]
          },
          "metadata": {},
          "execution_count": 129
        }
      ]
    },
    {
      "cell_type": "code",
      "metadata": {
        "colab": {
          "base_uri": "https://localhost:8080/"
        },
        "id": "Go7WEt4D9MUg",
        "outputId": "c041e7cd-7a67-4b1d-c916-f2983b8f98df"
      },
      "source": [
        "test_probal = linear_mod.predict_proba(X_test)[:, 1]\n",
        "test_pred = linear_mod.predict(X_test)\n",
        "\n",
        "print('Accuracy = {:.5f}'.format(metrics.accuracy_score(y_test, test_pred)))   #0.5 as threshold\n",
        "print('Precision = {:.5f}'.format(metrics.precision_score(y_test, test_pred)))   #0.5 as threshold\n",
        "print('Recall = {:.5f}'.format(metrics.recall_score(y_test, test_pred)))   #0.5 as threshold\n",
        "print('F1 score = {:.5f}'.format(metrics.f1_score(y_test, test_pred)))   #0.5 as threshold\n",
        "\n",
        "print('\\nLog loss = {:.5f}'.format(metrics.log_loss(y_test, test_probal)))\n",
        "print('AUC = {:.5f}'.format(metrics.roc_auc_score(y_test, test_probal)))\n",
        "print('Average Precision = {:.5f}'.format(metrics.average_precision_score(y_test, test_probal)))\n",
        "\n",
        "print('\\nClassification Report \\n', metrics.classification_report(y_test, test_pred))"
      ],
      "execution_count": 127,
      "outputs": [
        {
          "output_type": "stream",
          "name": "stdout",
          "text": [
            "Accuracy = 0.82297\n",
            "Precision = 0.91837\n",
            "Recall = 0.57692\n",
            "F1 score = 0.70866\n",
            "\n",
            "Log loss = 0.64311\n",
            "AUC = 0.85829\n",
            "Average Precision = 0.86015\n",
            "\n",
            "Classification Report \n",
            "               precision    recall  f1-score   support\n",
            "\n",
            "           0       0.79      0.97      0.87       131\n",
            "           1       0.92      0.58      0.71        78\n",
            "\n",
            "    accuracy                           0.82       209\n",
            "   macro avg       0.86      0.77      0.79       209\n",
            "weighted avg       0.84      0.82      0.81       209\n",
            "\n"
          ]
        }
      ]
    }
  ]
}
