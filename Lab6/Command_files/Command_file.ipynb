{
  "nbformat": 4,
  "nbformat_minor": 0,
  "metadata": {
    "colab": {
      "name": "Command_file.ipynb",
      "provenance": []
    },
    "kernelspec": {
      "name": "python3",
      "display_name": "Python 3"
    },
    "language_info": {
      "name": "python"
    }
  },
  "cells": [
    {
      "cell_type": "code",
      "metadata": {
        "id": "YcnDiPWLhK-3"
      },
      "source": [
        "# Imports:\n",
        "from matplotlib import pyplot as plt\n",
        "import pandas as pd\n",
        "import numpy as np"
      ],
      "execution_count": 3,
      "outputs": []
    },
    {
      "cell_type": "code",
      "metadata": {
        "colab": {
          "base_uri": "https://localhost:8080/"
        },
        "id": "r0dgYLhfhl4v",
        "outputId": "e482c048-a19d-43ac-d013-91288041b40b"
      },
      "source": [
        "from google.colab import drive\n",
        "drive.mount('/content/drive')"
      ],
      "execution_count": 1,
      "outputs": [
        {
          "output_type": "stream",
          "name": "stdout",
          "text": [
            "Mounted at /content/drive\n"
          ]
        }
      ]
    },
    {
      "cell_type": "code",
      "metadata": {
        "colab": {
          "base_uri": "https://localhost:8080/",
          "height": 423
        },
        "id": "77g8LO-bhwHW",
        "outputId": "63b32523-1206-442c-9fed-122a43964a3c"
      },
      "source": [
        "# Reading data from csv file:\n",
        "dataset = pd.read_csv('/content/drive/MyDrive/Bazy danych/Lab6/0_DOLNOSLĄSKIE.csv')\n",
        "\n",
        "dataset"
      ],
      "execution_count": 23,
      "outputs": [
        {
          "output_type": "execute_result",
          "data": {
            "text/html": [
              "<div>\n",
              "<style scoped>\n",
              "    .dataframe tbody tr th:only-of-type {\n",
              "        vertical-align: middle;\n",
              "    }\n",
              "\n",
              "    .dataframe tbody tr th {\n",
              "        vertical-align: top;\n",
              "    }\n",
              "\n",
              "    .dataframe thead th {\n",
              "        text-align: right;\n",
              "    }\n",
              "</style>\n",
              "<table border=\"1\" class=\"dataframe\">\n",
              "  <thead>\n",
              "    <tr style=\"text-align: right;\">\n",
              "      <th></th>\n",
              "      <th>Unnamed: 0</th>\n",
              "      <th>Dni od zakupu</th>\n",
              "      <th>Marka</th>\n",
              "      <th>Wiek kupującego</th>\n",
              "      <th>Płeć kupującego</th>\n",
              "      <th>Ocena</th>\n",
              "    </tr>\n",
              "  </thead>\n",
              "  <tbody>\n",
              "    <tr>\n",
              "      <th>0</th>\n",
              "      <td>0</td>\n",
              "      <td>6</td>\n",
              "      <td>Beko</td>\n",
              "      <td>33.0</td>\n",
              "      <td>bd.</td>\n",
              "      <td>1.0</td>\n",
              "    </tr>\n",
              "    <tr>\n",
              "      <th>1</th>\n",
              "      <td>1</td>\n",
              "      <td>7</td>\n",
              "      <td>Electrolux</td>\n",
              "      <td>28.0</td>\n",
              "      <td>bd.</td>\n",
              "      <td>3.5</td>\n",
              "    </tr>\n",
              "    <tr>\n",
              "      <th>2</th>\n",
              "      <td>2</td>\n",
              "      <td>3</td>\n",
              "      <td>Beko</td>\n",
              "      <td>30.0</td>\n",
              "      <td>bd.</td>\n",
              "      <td>2.5</td>\n",
              "    </tr>\n",
              "    <tr>\n",
              "      <th>3</th>\n",
              "      <td>3</td>\n",
              "      <td>6</td>\n",
              "      <td>Electrolux</td>\n",
              "      <td>40.0</td>\n",
              "      <td>bd.</td>\n",
              "      <td>3.5</td>\n",
              "    </tr>\n",
              "    <tr>\n",
              "      <th>4</th>\n",
              "      <td>4</td>\n",
              "      <td>4</td>\n",
              "      <td>Dyson</td>\n",
              "      <td>44.0</td>\n",
              "      <td>bd.</td>\n",
              "      <td>2.0</td>\n",
              "    </tr>\n",
              "    <tr>\n",
              "      <th>...</th>\n",
              "      <td>...</td>\n",
              "      <td>...</td>\n",
              "      <td>...</td>\n",
              "      <td>...</td>\n",
              "      <td>...</td>\n",
              "      <td>...</td>\n",
              "    </tr>\n",
              "    <tr>\n",
              "      <th>595</th>\n",
              "      <td>595</td>\n",
              "      <td>14</td>\n",
              "      <td>Electrolux</td>\n",
              "      <td>31.0</td>\n",
              "      <td>M</td>\n",
              "      <td>2.0</td>\n",
              "    </tr>\n",
              "    <tr>\n",
              "      <th>596</th>\n",
              "      <td>596</td>\n",
              "      <td>4</td>\n",
              "      <td>Tefal</td>\n",
              "      <td>NaN</td>\n",
              "      <td>bd.</td>\n",
              "      <td>3.5</td>\n",
              "    </tr>\n",
              "    <tr>\n",
              "      <th>597</th>\n",
              "      <td>597</td>\n",
              "      <td>8</td>\n",
              "      <td>Electrolux</td>\n",
              "      <td>39.0</td>\n",
              "      <td>bd.</td>\n",
              "      <td>1.0</td>\n",
              "    </tr>\n",
              "    <tr>\n",
              "      <th>598</th>\n",
              "      <td>598</td>\n",
              "      <td>5</td>\n",
              "      <td>Electrolux</td>\n",
              "      <td>47.0</td>\n",
              "      <td>K</td>\n",
              "      <td>2.5</td>\n",
              "    </tr>\n",
              "    <tr>\n",
              "      <th>599</th>\n",
              "      <td>599</td>\n",
              "      <td>7</td>\n",
              "      <td>Dyson</td>\n",
              "      <td>39.0</td>\n",
              "      <td>bd.</td>\n",
              "      <td>2.0</td>\n",
              "    </tr>\n",
              "  </tbody>\n",
              "</table>\n",
              "<p>600 rows × 6 columns</p>\n",
              "</div>"
            ],
            "text/plain": [
              "     Unnamed: 0  Dni od zakupu  ... Płeć kupującego  Ocena\n",
              "0             0              6  ...             bd.    1.0\n",
              "1             1              7  ...             bd.    3.5\n",
              "2             2              3  ...             bd.    2.5\n",
              "3             3              6  ...             bd.    3.5\n",
              "4             4              4  ...             bd.    2.0\n",
              "..          ...            ...  ...             ...    ...\n",
              "595         595             14  ...               M    2.0\n",
              "596         596              4  ...             bd.    3.5\n",
              "597         597              8  ...             bd.    1.0\n",
              "598         598              5  ...               K    2.5\n",
              "599         599              7  ...             bd.    2.0\n",
              "\n",
              "[600 rows x 6 columns]"
            ]
          },
          "metadata": {},
          "execution_count": 23
        }
      ]
    },
    {
      "cell_type": "markdown",
      "metadata": {
        "id": "Bk-ygxDlj-j_"
      },
      "source": [
        "## **Cleaning the dataframe**"
      ]
    },
    {
      "cell_type": "markdown",
      "metadata": {
        "id": "2OPGZmeLk6d4"
      },
      "source": [
        "**Deleting the unnamed column:**"
      ]
    },
    {
      "cell_type": "code",
      "metadata": {
        "colab": {
          "base_uri": "https://localhost:8080/"
        },
        "id": "qF8fTwOjkqsT",
        "outputId": "bcef8011-588f-473e-9dbd-6aee3d7c1267"
      },
      "source": [
        "for col in dataset.columns:\n",
        "    print(col)"
      ],
      "execution_count": 24,
      "outputs": [
        {
          "output_type": "stream",
          "name": "stdout",
          "text": [
            "Unnamed: 0\n",
            "Dni od zakupu\n",
            "Marka\n",
            "Wiek kupującego\n",
            "Płeć kupującego\n",
            "Ocena\n"
          ]
        }
      ]
    },
    {
      "cell_type": "code",
      "metadata": {
        "id": "JghSCJ5Bj-C0"
      },
      "source": [
        "data = dataset.copy()  #Original data\n",
        "\n",
        "no_unnamed = data.drop(['Unnamed: 0'], axis = 1)  #Changing all issues separately\n",
        "dataset = dataset.drop(['Unnamed: 0'], axis = 1)  #Changing all issues in one dataframe"
      ],
      "execution_count": 25,
      "outputs": []
    },
    {
      "cell_type": "code",
      "metadata": {
        "colab": {
          "base_uri": "https://localhost:8080/"
        },
        "id": "F3V4BSYlk8Ru",
        "outputId": "57a357f8-37fd-4155-9ca3-ef5e6b841ee6"
      },
      "source": [
        "for col in dataset.columns:\n",
        "    print(col)"
      ],
      "execution_count": 26,
      "outputs": [
        {
          "output_type": "stream",
          "name": "stdout",
          "text": [
            "Dni od zakupu\n",
            "Marka\n",
            "Wiek kupującego\n",
            "Płeć kupującego\n",
            "Ocena\n"
          ]
        }
      ]
    },
    {
      "cell_type": "markdown",
      "metadata": {
        "id": "QHFl4KOMlhu0"
      },
      "source": [
        "**Deleting rows with no client age provided:**"
      ]
    },
    {
      "cell_type": "code",
      "metadata": {
        "id": "2V15VE_llseo"
      },
      "source": [
        "with_age = data[dataset[\"Wiek kupującego\"] > 0]\n",
        "dataset = dataset[dataset[\"Wiek kupującego\"] > 0]"
      ],
      "execution_count": 27,
      "outputs": []
    },
    {
      "cell_type": "markdown",
      "metadata": {
        "id": "Sxqwq-4rmerK"
      },
      "source": [
        "**Deleting rows with no client gender provided:**"
      ]
    },
    {
      "cell_type": "code",
      "metadata": {
        "id": "8U69r3jbmeE9"
      },
      "source": [
        "with_gender = data[data[\"Płeć kupującego\"] != 'bd.']\n",
        "dataset = dataset[dataset[\"Płeć kupującego\"] != 'bd.']"
      ],
      "execution_count": 29,
      "outputs": []
    },
    {
      "cell_type": "markdown",
      "metadata": {
        "id": "9msnjyTtoCy4"
      },
      "source": [
        "**Separating a list of all brand names:**"
      ]
    },
    {
      "cell_type": "code",
      "metadata": {
        "id": "LGs-uY0LoBUp"
      },
      "source": [
        "brands_list = pd.DataFrame({'Marka':sorted(dataset['Marka'].unique().tolist())})"
      ],
      "execution_count": 31,
      "outputs": []
    },
    {
      "cell_type": "code",
      "metadata": {
        "colab": {
          "base_uri": "https://localhost:8080/",
          "height": 206
        },
        "id": "2MbV91u1p-bp",
        "outputId": "9973e852-cdf7-4b28-ecd6-959bbc7f6584"
      },
      "source": [
        "brands_list"
      ],
      "execution_count": 32,
      "outputs": [
        {
          "output_type": "execute_result",
          "data": {
            "text/html": [
              "<div>\n",
              "<style scoped>\n",
              "    .dataframe tbody tr th:only-of-type {\n",
              "        vertical-align: middle;\n",
              "    }\n",
              "\n",
              "    .dataframe tbody tr th {\n",
              "        vertical-align: top;\n",
              "    }\n",
              "\n",
              "    .dataframe thead th {\n",
              "        text-align: right;\n",
              "    }\n",
              "</style>\n",
              "<table border=\"1\" class=\"dataframe\">\n",
              "  <thead>\n",
              "    <tr style=\"text-align: right;\">\n",
              "      <th></th>\n",
              "      <th>Marka</th>\n",
              "    </tr>\n",
              "  </thead>\n",
              "  <tbody>\n",
              "    <tr>\n",
              "      <th>0</th>\n",
              "      <td>Beko</td>\n",
              "    </tr>\n",
              "    <tr>\n",
              "      <th>1</th>\n",
              "      <td>Dyson</td>\n",
              "    </tr>\n",
              "    <tr>\n",
              "      <th>2</th>\n",
              "      <td>Electrolux</td>\n",
              "    </tr>\n",
              "    <tr>\n",
              "      <th>3</th>\n",
              "      <td>Samsung</td>\n",
              "    </tr>\n",
              "    <tr>\n",
              "      <th>4</th>\n",
              "      <td>Tefal</td>\n",
              "    </tr>\n",
              "  </tbody>\n",
              "</table>\n",
              "</div>"
            ],
            "text/plain": [
              "        Marka\n",
              "0        Beko\n",
              "1       Dyson\n",
              "2  Electrolux\n",
              "3     Samsung\n",
              "4       Tefal"
            ]
          },
          "metadata": {},
          "execution_count": 32
        }
      ]
    },
    {
      "cell_type": "markdown",
      "metadata": {
        "id": "JwAn_CaUqBA7"
      },
      "source": [
        "### **Data after cleaning:**"
      ]
    },
    {
      "cell_type": "code",
      "metadata": {
        "colab": {
          "base_uri": "https://localhost:8080/",
          "height": 423
        },
        "id": "xUfrPQCiqIkq",
        "outputId": "f8df1fc7-34c5-4ccd-de5b-44a26b1774de"
      },
      "source": [
        "dataset  #all cleaning in one dataframe"
      ],
      "execution_count": 33,
      "outputs": [
        {
          "output_type": "execute_result",
          "data": {
            "text/html": [
              "<div>\n",
              "<style scoped>\n",
              "    .dataframe tbody tr th:only-of-type {\n",
              "        vertical-align: middle;\n",
              "    }\n",
              "\n",
              "    .dataframe tbody tr th {\n",
              "        vertical-align: top;\n",
              "    }\n",
              "\n",
              "    .dataframe thead th {\n",
              "        text-align: right;\n",
              "    }\n",
              "</style>\n",
              "<table border=\"1\" class=\"dataframe\">\n",
              "  <thead>\n",
              "    <tr style=\"text-align: right;\">\n",
              "      <th></th>\n",
              "      <th>Dni od zakupu</th>\n",
              "      <th>Marka</th>\n",
              "      <th>Wiek kupującego</th>\n",
              "      <th>Płeć kupującego</th>\n",
              "      <th>Ocena</th>\n",
              "    </tr>\n",
              "  </thead>\n",
              "  <tbody>\n",
              "    <tr>\n",
              "      <th>11</th>\n",
              "      <td>6</td>\n",
              "      <td>Electrolux</td>\n",
              "      <td>37.0</td>\n",
              "      <td>K</td>\n",
              "      <td>1.0</td>\n",
              "    </tr>\n",
              "    <tr>\n",
              "      <th>13</th>\n",
              "      <td>7</td>\n",
              "      <td>Tefal</td>\n",
              "      <td>51.0</td>\n",
              "      <td>M</td>\n",
              "      <td>1.5</td>\n",
              "    </tr>\n",
              "    <tr>\n",
              "      <th>18</th>\n",
              "      <td>11</td>\n",
              "      <td>Electrolux</td>\n",
              "      <td>34.0</td>\n",
              "      <td>M</td>\n",
              "      <td>3.0</td>\n",
              "    </tr>\n",
              "    <tr>\n",
              "      <th>23</th>\n",
              "      <td>7</td>\n",
              "      <td>Dyson</td>\n",
              "      <td>33.0</td>\n",
              "      <td>M</td>\n",
              "      <td>2.5</td>\n",
              "    </tr>\n",
              "    <tr>\n",
              "      <th>26</th>\n",
              "      <td>5</td>\n",
              "      <td>Beko</td>\n",
              "      <td>36.0</td>\n",
              "      <td>M</td>\n",
              "      <td>3.0</td>\n",
              "    </tr>\n",
              "    <tr>\n",
              "      <th>...</th>\n",
              "      <td>...</td>\n",
              "      <td>...</td>\n",
              "      <td>...</td>\n",
              "      <td>...</td>\n",
              "      <td>...</td>\n",
              "    </tr>\n",
              "    <tr>\n",
              "      <th>590</th>\n",
              "      <td>6</td>\n",
              "      <td>Tefal</td>\n",
              "      <td>50.0</td>\n",
              "      <td>M</td>\n",
              "      <td>4.5</td>\n",
              "    </tr>\n",
              "    <tr>\n",
              "      <th>592</th>\n",
              "      <td>11</td>\n",
              "      <td>Samsung</td>\n",
              "      <td>45.0</td>\n",
              "      <td>K</td>\n",
              "      <td>2.0</td>\n",
              "    </tr>\n",
              "    <tr>\n",
              "      <th>593</th>\n",
              "      <td>7</td>\n",
              "      <td>Electrolux</td>\n",
              "      <td>40.0</td>\n",
              "      <td>K</td>\n",
              "      <td>3.0</td>\n",
              "    </tr>\n",
              "    <tr>\n",
              "      <th>595</th>\n",
              "      <td>14</td>\n",
              "      <td>Electrolux</td>\n",
              "      <td>31.0</td>\n",
              "      <td>M</td>\n",
              "      <td>2.0</td>\n",
              "    </tr>\n",
              "    <tr>\n",
              "      <th>598</th>\n",
              "      <td>5</td>\n",
              "      <td>Electrolux</td>\n",
              "      <td>47.0</td>\n",
              "      <td>K</td>\n",
              "      <td>2.5</td>\n",
              "    </tr>\n",
              "  </tbody>\n",
              "</table>\n",
              "<p>239 rows × 5 columns</p>\n",
              "</div>"
            ],
            "text/plain": [
              "     Dni od zakupu       Marka  Wiek kupującego Płeć kupującego  Ocena\n",
              "11               6  Electrolux             37.0               K    1.0\n",
              "13               7       Tefal             51.0               M    1.5\n",
              "18              11  Electrolux             34.0               M    3.0\n",
              "23               7       Dyson             33.0               M    2.5\n",
              "26               5        Beko             36.0               M    3.0\n",
              "..             ...         ...              ...             ...    ...\n",
              "590              6       Tefal             50.0               M    4.5\n",
              "592             11     Samsung             45.0               K    2.0\n",
              "593              7  Electrolux             40.0               K    3.0\n",
              "595             14  Electrolux             31.0               M    2.0\n",
              "598              5  Electrolux             47.0               K    2.5\n",
              "\n",
              "[239 rows x 5 columns]"
            ]
          },
          "metadata": {},
          "execution_count": 33
        }
      ]
    },
    {
      "cell_type": "markdown",
      "metadata": {
        "id": "YwGSJvX9qMh0"
      },
      "source": [
        "### **Saving cleaned data into separate csv files:**"
      ]
    },
    {
      "cell_type": "code",
      "metadata": {
        "id": "CQQg2TBJlDrh"
      },
      "source": [
        "dir = \"/content/drive/MyDrive/Bazy danych/Lab6/\"\n",
        "\n",
        "no_unnamed.to_csv(dir + \"Dolnośląskie_dane\")\n",
        "with_age.to_csv(dir + \"Dane_wiek\")\n",
        "with_gender.to_csv(dir + \"Dane_płeć\")\n",
        "brands_list.to_csv(dir + \"Marki_unikatowe\")\n",
        "dataset.to_csv(dir + \"Dolnośląskie_tidy_data\") # Csv file with all cleaning done"
      ],
      "execution_count": 34,
      "outputs": []
    },
    {
      "cell_type": "markdown",
      "metadata": {
        "id": "YqdJLJ1jviun"
      },
      "source": [
        "# **Data analysis**"
      ]
    },
    {
      "cell_type": "markdown",
      "metadata": {
        "id": "zbwX6JmLwGKj"
      },
      "source": [
        "### **Product evaluation**"
      ]
    },
    {
      "cell_type": "markdown",
      "metadata": {
        "id": "rfTk032lwMRD"
      },
      "source": [
        "**Avarage product evaluation:**"
      ]
    },
    {
      "cell_type": "code",
      "metadata": {
        "colab": {
          "base_uri": "https://localhost:8080/",
          "height": 350
        },
        "id": "OnD1gEimwPD1",
        "outputId": "4485e456-c4b6-4670-e81d-207e4a4dee01"
      },
      "source": [
        "product_eval = pd.DataFrame({'Ocena':sorted(data['Ocena'].unique().tolist()), 'Ilość':data.groupby(['Ocena']).size().tolist()})\n",
        "\n",
        "product_eval.plot.bar(x='Ocena', y='Ilość', figsize=(8,5))\n",
        "\n",
        "plt.legend()\n",
        "plt.grid(True)\n",
        "plt.xticks(rotation=0)\n",
        "plt.xlabel('Ocena produktu')\n",
        "plt.ylabel('Ilość wszystkich ocen dla wszystkich produktów')\n",
        "plt.title('Histogram ilości zarejestrowanych ocen produktów')\n",
        "\n",
        "\n",
        "plt.savefig(dir + \"Plots/\" + \"ocena_produktu\")"
      ],
      "execution_count": 40,
      "outputs": [
        {
          "output_type": "display_data",
          "data": {
            "image/png": "[encoded data removed]",
            "text/plain": [
              "<Figure size 576x360 with 1 Axes>"
            ]
          },
          "metadata": {
            "needs_background": "light"
          }
        }
      ]
    },
    {
      "cell_type": "markdown",
      "metadata": {
        "id": "Aihha8AEvz2k"
      },
      "source": [
        "**Product evaluation for each brand:**"
      ]
    },
    {
      "cell_type": "code",
      "metadata": {
        "colab": {
          "base_uri": "https://localhost:8080/"
        },
        "id": "40iRAqxKzqMK",
        "outputId": "669531e0-68b5-4b38-c947-4d6f28171df2"
      },
      "source": [
        "data['Marka'].unique()"
      ],
      "execution_count": 42,
      "outputs": [
        {
          "output_type": "execute_result",
          "data": {
            "text/plain": [
              "array(['Beko', 'Electrolux', 'Dyson', 'Tefal', 'Samsung'], dtype=object)"
            ]
          },
          "metadata": {},
          "execution_count": 42
        }
      ]
    },
    {
      "cell_type": "code",
      "metadata": {
        "colab": {
          "base_uri": "https://localhost:8080/",
          "height": 405
        },
        "id": "11BtBktvvl0U",
        "outputId": "ec043d78-053f-41e2-d739-6f3c4381c562"
      },
      "source": [
        "# Creating a separate evaluation list for each brand:\n",
        "\n",
        "def get_brand_evaluation(data, brand_name):\n",
        "\n",
        "    eval_list = data[data['Marka'] == brand_name]['Ocena']\n",
        "    return eval_list\n",
        "\n",
        "Beko_ev = get_brand_evaluation(data, \"Beko\")\n",
        "Electrolux_ev = get_brand_evaluation(data, \"Electrolux\")\n",
        "Dyson_ev = get_brand_evaluation(data, \"Dyson\")\n",
        "Tefal_ev = get_brand_evaluation(data, \"Tefal\")\n",
        "Samsung_ev = get_brand_evaluation(data, \"Samsung\")\n",
        "\n",
        "\n",
        "colors = ['cornflowerblue', 'orange', 'mediumvioletred', 'lightsteelblue', 'mediumseagreen']\n",
        "\n",
        "comp_names = ['Beko', 'Electrolux', 'Dyson', 'Tefal', 'Samsung']\n",
        "\n",
        "arr = np.linspace(0, 5, 11)\n",
        "\n",
        "# Make the histogram using a list of lists:\n",
        "plt.figure(figsize=(15,5))\n",
        "plt.hist([Beko_ev, Electrolux_ev, Dyson_ev, Tefal_ev, Samsung_ev], bins = 11, color = colors, label = comp_names)   \n",
        "\n",
        "\n",
        "plt.legend()\n",
        "plt.grid(True)\n",
        "plt.xticks(np.arange(0,4.4, step=0.5))\n",
        "plt.xticks(np.linspace(0.25, 4.75, 11), arr, rotation=0)\n",
        "plt.xlabel('Ocena kupującego')\n",
        "plt.ylabel('Ilość ocen')\n",
        "plt.title('Histogram ilości danej oceny produktu z podziałem na marki')\n",
        "\n",
        "plt.savefig(dir + \"Plots/\" + \"ocena_produktu_podział_marka\")"
      ],
      "execution_count": 59,
      "outputs": [
        {
          "output_type": "stream",
          "name": "stderr",
          "text": [
            "/usr/local/lib/python3.7/dist-packages/numpy/core/_asarray.py:83: VisibleDeprecationWarning: Creating an ndarray from ragged nested sequences (which is a list-or-tuple of lists-or-tuples-or ndarrays with different lengths or shapes) is deprecated. If you meant to do this, you must specify 'dtype=object' when creating the ndarray\n",
            "  return array(a, dtype, copy=False, order=order)\n"
          ]
        },
        {
          "output_type": "display_data",
          "data": {
            "image/png": "[encoded data removed]",
            "text/plain": [
              "<Figure size 1080x360 with 1 Axes>"
            ]
          },
          "metadata": {
            "needs_background": "light"
          }
        }
      ]
    },
    {
      "cell_type": "markdown",
      "metadata": {
        "id": "vdBzGDDM4x2_"
      },
      "source": [
        "### **Sales**"
      ]
    },
    {
      "cell_type": "markdown",
      "metadata": {
        "id": "7FiD5dS16BjE"
      },
      "source": [
        "**Number of sales made for each brand:**"
      ]
    },
    {
      "cell_type": "code",
      "metadata": {
        "colab": {
          "base_uri": "https://localhost:8080/",
          "height": 350
        },
        "id": "--E9ILPW5Gkc",
        "outputId": "b18642a3-432c-4532-f1dc-ea21f98c200b"
      },
      "source": [
        "brand_sales = pd.DataFrame({'Marka':sorted(data['Marka'].unique().tolist()), 'Ilość':data.groupby(['Marka']).size().tolist()})\n",
        "\n",
        "brand_sales.plot.bar(x = 'Marka', y = 'Ilość', figsize = (8,5))\n",
        "\n",
        "plt.legend()\n",
        "plt.grid(True)\n",
        "plt.xticks(rotation = 0)\n",
        "plt.xlabel('Marka produktu')\n",
        "plt.ylabel('Ilość sprzedaży')\n",
        "plt.title('Histogram ilości sprzedaży dla marki produktu')\n",
        "\n",
        "plt.savefig(dir + \"Plots/\" + \"sprzedaż_podział_marka\")"
      ],
      "execution_count": 61,
      "outputs": [
        {
          "output_type": "display_data",
          "data": {
            "image/png": "[encoded data removed]",
            "text/plain": [
              "<Figure size 576x360 with 1 Axes>"
            ]
          },
          "metadata": {
            "needs_background": "light"
          }
        }
      ]
    },
    {
      "cell_type": "markdown",
      "metadata": {
        "id": "VKhkP-Rf6EIF"
      },
      "source": [
        "### **Clients demographic**"
      ]
    },
    {
      "cell_type": "markdown",
      "metadata": {
        "id": "F7TxvWtr6Kf3"
      },
      "source": [
        "**Client age and sales:**"
      ]
    },
    {
      "cell_type": "code",
      "metadata": {
        "colab": {
          "base_uri": "https://localhost:8080/",
          "height": 350
        },
        "id": "8ZZeGq426OE4",
        "outputId": "4060e526-608a-4525-c700-f2b4db428b34"
      },
      "source": [
        "Marki_wiek = pd.DataFrame({'Wiek kupującego':with_age['Wiek kupującego'], 'Marka':with_age['Marka']})\n",
        "\n",
        "plt.figure(figsize = (8,5))\n",
        "fig = plt.hist(with_age[\"Wiek kupującego\"], edgecolor = 'white', bins = 10)     #bins=10 devides ages into 10 groups of interest\n",
        "\n",
        "\n",
        "plt.grid(True)\n",
        "plt.xlabel('Wiek klienta')\n",
        "plt.ylabel('Ilość sprzedaży')\n",
        "plt.title('Histogram sprzedaży dla wieku klienta')\n",
        "\n",
        "#save to file\n",
        "plt.savefig(dir + \"Plots/\" + \"sprzedaż_wiek\")"
      ],
      "execution_count": 67,
      "outputs": [
        {
          "output_type": "display_data",
          "data": {
            "image/png": "[encoded data removed]",
            "text/plain": [
              "<Figure size 576x360 with 1 Axes>"
            ]
          },
          "metadata": {
            "needs_background": "light"
          }
        }
      ]
    },
    {
      "cell_type": "markdown",
      "metadata": {
        "id": "FcXv018R79Nf"
      },
      "source": [
        "**Client age and brands:**"
      ]
    },
    {
      "cell_type": "code",
      "metadata": {
        "colab": {
          "base_uri": "https://localhost:8080/",
          "height": 405
        },
        "id": "JnwVJgpH7_Dd",
        "outputId": "14f4666f-e933-44ef-edc4-54f35be4e88d"
      },
      "source": [
        "# Creating a separate evaluation list for each brand:\n",
        "\n",
        "def get_brand4age(data, brand_name):\n",
        "\n",
        "    eval_list = with_age[with_age['Marka'] == brand_name]['Wiek kupującego']\n",
        "    return eval_list\n",
        "\n",
        "Beko_age = get_brand4age(data, \"Beko\")\n",
        "Electrolux_age = get_brand4age(data, \"Electrolux\")\n",
        "Dyson_age = get_brand4age(data, \"Dyson\")\n",
        "Tefal_age = get_brand4age(data, \"Tefal\")\n",
        "Samsung_age = get_brand4age(data, \"Samsung\")\n",
        "\n",
        "\n",
        "colors = ['cornflowerblue', 'orange', 'mediumvioletred', 'lightsteelblue', 'mediumseagreen']\n",
        "comp_names = ['Beko', 'Electrolux', 'Dyson', 'Tefal', 'Samsung']\n",
        "\n",
        "\n",
        "plt.figure(figsize = (8, 5))\n",
        "plt.hist([Beko_age, Electrolux_age, Dyson_age, Tefal_age, Samsung_age], bins = 5, color = colors, label = comp_names)   \n",
        "\n",
        "plt.legend()\n",
        "plt.grid(True)\n",
        "plt.xticks(np.linspace(18,68,6))\n",
        "plt.xlabel('Wiek kupującego')\n",
        "plt.ylabel('Ilość sprzedaży')\n",
        "plt.title('Histogram zależności ilości sprzedaży od wieku klienta z podziałem na marki')\n",
        "\n",
        "plt.savefig(dir + \"Plots/\" + \"wiek_podział_marka\")"
      ],
      "execution_count": 69,
      "outputs": [
        {
          "output_type": "stream",
          "name": "stderr",
          "text": [
            "/usr/local/lib/python3.7/dist-packages/numpy/core/_asarray.py:83: VisibleDeprecationWarning: Creating an ndarray from ragged nested sequences (which is a list-or-tuple of lists-or-tuples-or ndarrays with different lengths or shapes) is deprecated. If you meant to do this, you must specify 'dtype=object' when creating the ndarray\n",
            "  return array(a, dtype, copy=False, order=order)\n"
          ]
        },
        {
          "output_type": "display_data",
          "data": {
            "image/png": "[encoded data removed]",
            "text/plain": [
              "<Figure size 576x360 with 1 Axes>"
            ]
          },
          "metadata": {
            "needs_background": "light"
          }
        }
      ]
    },
    {
      "cell_type": "markdown",
      "metadata": {
        "id": "DgnEbFDZ7raE"
      },
      "source": [
        "### **Gender analysis**"
      ]
    },
    {
      "cell_type": "markdown",
      "metadata": {
        "id": "2lg-n_rXArMZ"
      },
      "source": [
        "**Gender and the number of transactions:**"
      ]
    },
    {
      "cell_type": "code",
      "metadata": {
        "colab": {
          "base_uri": "https://localhost:8080/",
          "height": 351
        },
        "id": "-_ybpLpBAvWG",
        "outputId": "d614bade-f0bd-40ef-f764-e100c5e6b711"
      },
      "source": [
        "def gender_sales(with_gender):\n",
        "\n",
        "    female = (with_gender[(with_gender[['Płeć kupującego']] == 'K').all(axis = 1)])['Płeć kupującego']\n",
        "    male = (with_gender[(with_gender[['Płeć kupującego']] == 'M').all(axis = 1)])['Płeć kupującego']\n",
        "    return female, male\n",
        "\n",
        "female, male = gender_sales(with_gender)\n",
        "\n",
        "trans_gender = pd.DataFrame({'Płeć kupującego':['Kobiety', 'Mężczyźni'], 'Ilość transakcji':[female.size, male.size]})\n",
        "fig = trans_gender.plot.bar(x='Płeć kupującego', y='Ilość transakcji', rot = 0, figsize=(8,5))\n",
        "\n",
        "plt.grid(True)\n",
        "plt.xlabel('Płeć kupującego')\n",
        "plt.ylabel('Ilość transakcji')\n",
        "plt.title('Histogram sprzedaży w zależności od płci kupującego')\n",
        "\n",
        "plt.savefig(dir + \"Plots/\" + \"płeć_sprzedaż\")"
      ],
      "execution_count": 74,
      "outputs": [
        {
          "output_type": "display_data",
          "data": {
            "image/png": "[encoded data removed]",
            "text/plain": [
              "<Figure size 576x360 with 1 Axes>"
            ]
          },
          "metadata": {
            "needs_background": "light"
          }
        }
      ]
    },
    {
      "cell_type": "markdown",
      "metadata": {
        "id": "2_A1bqfI7v00"
      },
      "source": [
        "**Genders and brand sales:**"
      ]
    },
    {
      "cell_type": "code",
      "metadata": {
        "colab": {
          "base_uri": "https://localhost:8080/",
          "height": 350
        },
        "id": "IIpHeDZr-_PX",
        "outputId": "141e0622-b8b9-4259-97fa-117aaff187d6"
      },
      "source": [
        "def gender_brand_sales(with_gender):\n",
        "\n",
        "    female = with_gender[with_gender['Płeć kupującego'] == 'K']\n",
        "    male = with_gender[with_gender['Płeć kupującego'] == 'M']\n",
        "\n",
        "    gender_data = pd.DataFrame({'Marka':sorted(female['Marka'].unique().tolist()),\n",
        "                                'Kobiety':female.groupby(['Marka']).size().tolist(),\n",
        "                                'Mężczyźni':male.groupby(['Marka']).size().tolist()})\n",
        "    return gender_data\n",
        "\n",
        "all_data = gender_brand_sales(with_gender)\n",
        "\n",
        "\n",
        "colors = ['tomato', 'steelblue']      \n",
        "all_data.plot.bar(x='Marka', y={'Kobiety','Mężczyźni'}, figsize=(8, 5), color = colors)\n",
        "\n",
        "plt.legend()\n",
        "plt.grid(True)\n",
        "plt.xticks(np.arange(0.4,4.4, step=0.8))\n",
        "plt.xticks([0, 1, 2, 3, 4], list(all_data['Marka']), rotation = 0)\n",
        "plt.xlabel('Marka produktu')\n",
        "plt.ylabel('Ilość transakcji')\n",
        "plt.title('Histogram sprzedaży według marki produktu z podziałem na płeć kupującego')\n",
        "\n",
        "\n",
        "plt.savefig(dir + \"Plots/\" + \"płeć_sprzedaż_firmy\")"
      ],
      "execution_count": 88,
      "outputs": [
        {
          "output_type": "display_data",
          "data": {
            "image/png": "[encoded data removed]",
            "text/plain": [
              "<Figure size 576x360 with 1 Axes>"
            ]
          },
          "metadata": {
            "needs_background": "light"
          }
        }
      ]
    },
    {
      "cell_type": "markdown",
      "metadata": {
        "id": "bWkj1xW4F1Xi"
      },
      "source": [
        "**Females and the brand sales:**"
      ]
    },
    {
      "cell_type": "code",
      "metadata": {
        "colab": {
          "base_uri": "https://localhost:8080/",
          "height": 350
        },
        "id": "T3JqHMp3F5Au",
        "outputId": "211122b3-b493-497a-ad22-b845d3663a64"
      },
      "source": [
        "# Make the histogram using a list of lists\n",
        "all_data.plot.bar(x = 'Marka', y = 'Kobiety', figsize = (8, 5))\n",
        "\n",
        "plt.legend()\n",
        "plt.grid(True)\n",
        "plt.xticks(rotation = 0)\n",
        "plt.xlabel('Marka produktu')\n",
        "plt.ylabel('Ilość transakcji')\n",
        "plt.title('Histogram zależnosci sprzedaży marki produktu dla kobiet')\n",
        "\n",
        "plt.savefig(dir + \"Plots/\" + \"kobiety_sprzedaż_firmy\")"
      ],
      "execution_count": 80,
      "outputs": [
        {
          "output_type": "display_data",
          "data": {
            "image/png": "[encoded data removed]",
            "text/plain": [
              "<Figure size 576x360 with 1 Axes>"
            ]
          },
          "metadata": {
            "needs_background": "light"
          }
        }
      ]
    },
    {
      "cell_type": "markdown",
      "metadata": {
        "id": "S9_f6SlaGkxW"
      },
      "source": [
        "**Males and the brand sales:**"
      ]
    },
    {
      "cell_type": "code",
      "metadata": {
        "colab": {
          "base_uri": "https://localhost:8080/",
          "height": 350
        },
        "id": "DRDjotHoGnb0",
        "outputId": "80777755-32bf-4548-83b1-b45900ce8f7d"
      },
      "source": [
        "all_data.plot.bar(x = 'Marka', y = 'Mężczyźni', figsize = (8, 5))\n",
        "\n",
        "plt.legend()\n",
        "plt.grid(True)\n",
        "plt.xticks(rotation = 0)\n",
        "plt.xlabel('Marka produktu')\n",
        "plt.ylabel('Ilość transakcji')\n",
        "plt.title('Histogram zależnosci sprzedaży marki produktu dla mężczyzn')\n",
        "\n",
        "plt.savefig(dir + \"Plots/\" + \"mężczyźni_sprzedaż_firmy\")"
      ],
      "execution_count": 81,
      "outputs": [
        {
          "output_type": "display_data",
          "data": {
            "image/png": "[encoded data removed]",
            "text/plain": [
              "<Figure size 576x360 with 1 Axes>"
            ]
          },
          "metadata": {
            "needs_background": "light"
          }
        }
      ]
    },
    {
      "cell_type": "markdown",
      "metadata": {
        "id": "Nlm5zIrTEW4O"
      },
      "source": [
        "### **Shopping dates**"
      ]
    },
    {
      "cell_type": "markdown",
      "metadata": {
        "id": "rPbnkaIgEZ7a"
      },
      "source": [
        "**Analysing the time period since the shopping:**"
      ]
    },
    {
      "cell_type": "code",
      "metadata": {
        "colab": {
          "base_uri": "https://localhost:8080/",
          "height": 350
        },
        "id": "RkUYbcwdFCCg",
        "outputId": "37158036-88fc-40cf-d789-8387fb9ebb5d"
      },
      "source": [
        "days_since_shopping = pd.DataFrame({'Dni od zakupu':sorted(data['Dni od zakupu'].unique().tolist()),\n",
        "                                  'Ilość':data.groupby(['Dni od zakupu']).size().tolist()})\n",
        "\n",
        "plt.figure(figsize = (8, 5))\n",
        "plt.bar(days_since_shopping['Dni od zakupu'], days_since_shopping['Ilość'], edgecolor = 'white')\n",
        "\n",
        "plt.grid(True)\n",
        "plt.xticks(np.arange(0, 18, step = 1))\n",
        "plt.xlabel('Dni od zakupu')\n",
        "plt.ylabel('Ilość transakcji')\n",
        "plt.title('Histogram zależności ilości transakcji od liczby dni od zakupu')\n",
        "\n",
        "plt.savefig(dir + \"Plots/\" + \"sprzedaż_dzień\")"
      ],
      "execution_count": 79,
      "outputs": [
        {
          "output_type": "display_data",
          "data": {
            "image/png": "[encoded data removed]",
            "text/plain": [
              "<Figure size 576x360 with 1 Axes>"
            ]
          },
          "metadata": {
            "needs_background": "light"
          }
        }
      ]
    }
  ]
}